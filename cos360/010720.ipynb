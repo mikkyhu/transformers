{
 "cells": [
  {
   "cell_type": "code",
   "execution_count": 1,
   "metadata": {},
   "outputs": [
    {
     "name": "stderr",
     "output_type": "stream",
     "text": [
      "To use data.metrics please install scikit-learn. See https://scikit-learn.org/stable/index.html\n"
     ]
    }
   ],
   "source": [
    "import os\n",
    "os.environ['CUDA_LAUNCH_BLOCKING'] = \"1\"\n",
    "import sys\n",
    "sys.path.append('../examples')\n",
    "sys.path.append('../jobs')\n",
    "sys.path.append('../training_data')\n",
    "\n",
    "from tqdm import trange\n",
    "\n",
    "import torch\n",
    "import torch.nn.functional as F\n",
    "import torch.optim as optim\n",
    "import numpy as np\n",
    "import matplotlib.pyplot as plt\n",
    "\n",
    "from transformers import GPT2LMHeadModel, GPT2Tokenizer, GPT2Config\n",
    "from generate_with_calibration import get_lookahead_entropies\n",
    "from generate_with_entropy import sample_sequence, sample_sequence_batch, top_k_top_p_filtering\n",
    "\n",
    "import logging\n",
    "logging.getLogger('transformers.tokenization_utils').setLevel(logging.ERROR)"
   ]
  },
  {
   "cell_type": "code",
   "execution_count": 2,
   "metadata": {},
   "outputs": [
    {
     "name": "stderr",
     "output_type": "stream",
     "text": [
      "01/07/2020 17:33:25 - INFO - transformers.configuration_utils -   loading configuration file https://s3.amazonaws.com/models.huggingface.co/bert/gpt2-config.json from cache at /u/myhu/.cache/torch/transformers/4be02c5697d91738003fb1685c9872f284166aa32e061576bbe6aaeb95649fcf.085d5f6a8e7812ea05ff0e6ed0645ab2e75d80387ad55c1ad9806ee70d272f80\n",
      "01/07/2020 17:33:25 - INFO - transformers.configuration_utils -   Model config {\n",
      "  \"attn_pdrop\": 0.1,\n",
      "  \"embd_pdrop\": 0.1,\n",
      "  \"finetuning_task\": null,\n",
      "  \"initializer_range\": 0.02,\n",
      "  \"is_decoder\": false,\n",
      "  \"layer_norm_epsilon\": 1e-05,\n",
      "  \"n_ctx\": 1024,\n",
      "  \"n_embd\": 768,\n",
      "  \"n_head\": 12,\n",
      "  \"n_layer\": 12,\n",
      "  \"n_positions\": 1024,\n",
      "  \"num_labels\": 1,\n",
      "  \"output_attentions\": false,\n",
      "  \"output_hidden_states\": false,\n",
      "  \"output_past\": true,\n",
      "  \"pruned_heads\": {},\n",
      "  \"resid_pdrop\": 0.1,\n",
      "  \"summary_activation\": null,\n",
      "  \"summary_first_dropout\": 0.1,\n",
      "  \"summary_proj_to_labels\": true,\n",
      "  \"summary_type\": \"cls_index\",\n",
      "  \"summary_use_proj\": true,\n",
      "  \"torchscript\": false,\n",
      "  \"use_bfloat16\": false,\n",
      "  \"vocab_size\": 50257\n",
      "}\n",
      "\n",
      "01/07/2020 17:33:25 - INFO - transformers.modeling_utils -   loading weights file https://s3.amazonaws.com/models.huggingface.co/bert/gpt2-pytorch_model.bin from cache at /u/myhu/.cache/torch/transformers/4295d67f022061768f4adc386234dbdb781c814c39662dd1662221c309962c55.778cf36f5c4e5d94c8cd9cefcf2a580c8643570eb327f0d4a1f007fab2acbdf1\n"
     ]
    }
   ],
   "source": [
    "# setup cell\n",
    "\n",
    "def set_seed(seed=42, n_gpu=0):\n",
    "    np.random.seed(seed)\n",
    "    torch.manual_seed(seed)\n",
    "    if n_gpu > 0:\n",
    "        torch.cuda.manual_seed_all(args.seed)\n",
    "\n",
    "device = torch.device(\"cuda\" if torch.cuda.is_available() else \"cpu\")\n",
    "n_gpus = torch.cuda.device_count()\n",
    "\n",
    "set_seed()\n",
    "tokenizer = GPT2Tokenizer.from_pretrained('gpt2')\n",
    "model = GPT2LMHeadModel.from_pretrained('gpt2')\n",
    "model.to(device)\n",
    "model.eval()\n",
    "\n",
    "vocab_size = tokenizer.vocab_size"
   ]
  },
  {
   "cell_type": "code",
   "execution_count": 3,
   "metadata": {},
   "outputs": [],
   "source": [
    "bins = list(range(-1, 50500, 500))\n",
    "bins_2 = list(range(0, 50))"
   ]
  },
  {
   "cell_type": "code",
   "execution_count": 4,
   "metadata": {},
   "outputs": [],
   "source": [
    "# the ground truth\n",
    "\n",
    "# file = '../training_data/train.wp_h100'\n",
    "# file = '../training_data/unicorn.txt'\n",
    "file = '../training_data/gbw/training/news1-head100'\n",
    "\n",
    "counts_ground_truth = []\n",
    "with open(file) as fp:\n",
    "    for line in fp:\n",
    "        context = tokenizer.encode(line)\n",
    "        \n",
    "        N = len(context)\n",
    "        \n",
    "        for i in range(1, N):\n",
    "            context_i = torch.tensor(context[:i], dtype=torch.long, device=device).unsqueeze(0)\n",
    "    \n",
    "            inputs = {'input_ids': context_i}\n",
    "            outputs = model(**inputs)  \n",
    "            model_next_logits = outputs[0][:, -1, :]\n",
    "            next_probs = F.softmax(model_next_logits, dim=-1)[0].detach().cpu().numpy()\n",
    "            \n",
    "            next_word = context[i]\n",
    "            rank = np.argsort(next_probs)[::-1]\n",
    "            counts_ground_truth.append(np.argwhere(rank == next_word)[0][0]) # grossly inefficient but idc anymore"
   ]
  },
  {
   "cell_type": "code",
   "execution_count": 6,
   "metadata": {},
   "outputs": [
    {
     "data": {
      "text/plain": [
       "Text(0.5, 1.0, 'Gold label')"
      ]
     },
     "execution_count": 6,
     "metadata": {},
     "output_type": "execute_result"
    },
    {
     "data": {
      "image/png": "[encoded data removed]",
      "text/plain": [
       "<Figure size 432x288 with 1 Axes>"
      ]
     },
     "metadata": {
      "needs_background": "light"
     },
     "output_type": "display_data"
    }
   ],
   "source": [
    "plt.hist(counts_ground_truth, bins_2)\n",
    "plt.xlabel('Token rank')\n",
    "plt.ylabel('Frequency')\n",
    "plt.title('Gold label')"
   ]
  },
  {
   "cell_type": "code",
   "execution_count": null,
   "metadata": {},
   "outputs": [],
   "source": [
    "# debugging cell\n",
    "\n",
    "length=100\n",
    "num_samples=1\n",
    "temperature=1\n",
    "top_k=0\n",
    "top_p=0.9\n",
    "\n",
    "ret = []\n",
    "with open(file) as fp:\n",
    "    for line in fp:\n",
    "        context = tokenizer.encode(line)\n",
    "        context = torch.tensor(context, dtype=torch.long, device=device)\n",
    "        context = context.unsqueeze(0).repeat(num_samples, 1)\n",
    "        generated = context\n",
    "\n",
    "        with torch.no_grad():\n",
    "\n",
    "            for gen_index in trange(length):\n",
    "\n",
    "                inputs = {'input_ids': generated}\n",
    "\n",
    "                outputs = model(**inputs)\n",
    "                next_token_logits = outputs[0][:, -1, :] / temperature\n",
    "                next_probs = F.softmax(next_token_logits, dim=-1)[0].detach().cpu().numpy()\n",
    "\n",
    "                filtered_logits = top_k_top_p_filtering(next_token_logits, top_k=top_k, top_p=top_p)\n",
    "                next_token = torch.multinomial(F.softmax(filtered_logits, dim=-1), num_samples=1)\n",
    "                rank = np.argsort(next_probs)[::-1]\n",
    "                ret.append(np.argwhere(rank == next_token.item())[0][0]) # grossly inefficient but idc anymore\n",
    "\n",
    "                generated = torch.cat((generated, next_token), dim=1)"
   ]
  },
  {
   "cell_type": "code",
   "execution_count": null,
   "metadata": {},
   "outputs": [],
   "source": []
  },
  {
   "cell_type": "code",
   "execution_count": 7,
   "metadata": {},
   "outputs": [],
   "source": [
    "def get_counts(file, length=100, num_samples=1, temperature=1, top_k=0, top_p=0.0):\n",
    "    ret = []\n",
    "    with open(file) as fp:\n",
    "        for line in fp:\n",
    "            context = tokenizer.encode(line)\n",
    "            context = torch.tensor(context, dtype=torch.long, device=device)\n",
    "            context = context.unsqueeze(0).repeat(num_samples, 1)\n",
    "            generated = context\n",
    "\n",
    "            with torch.no_grad():\n",
    "\n",
    "                for gen_index in trange(length):\n",
    "\n",
    "                    inputs = {'input_ids': generated}\n",
    "\n",
    "                    outputs = model(**inputs)\n",
    "                    next_token_logits = outputs[0][:, -1, :] / temperature\n",
    "                    next_probs = F.softmax(next_token_logits, dim=-1)[0].detach().cpu().numpy()\n",
    "\n",
    "                    filtered_logits = top_k_top_p_filtering(next_token_logits, top_k=top_k, top_p=top_p)\n",
    "                    next_token = torch.multinomial(F.softmax(filtered_logits, dim=-1), num_samples=1)\n",
    "                    rank = np.argsort(next_probs)[::-1]\n",
    "                    ret.append(np.argwhere(rank == next_token.item())[0][0]) # grossly inefficient but idc anymore\n",
    "\n",
    "                    generated = torch.cat((generated, next_token), dim=1)\n",
    "    return ret"
   ]
  },
  {
   "cell_type": "code",
   "execution_count": 5,
   "metadata": {},
   "outputs": [],
   "source": [
    "#file = '../training_data/train.wp_h100'\n",
    "#file = '../training_data/unicorn.txt'\n",
    "file = '../training_data/gbw/training/news1-head100'"
   ]
  },
  {
   "cell_type": "code",
   "execution_count": null,
   "metadata": {},
   "outputs": [],
   "source": [
    "counts_full = get_counts(file)"
   ]
  },
  {
   "cell_type": "code",
   "execution_count": 8,
   "metadata": {},
   "outputs": [
    {
     "name": "stderr",
     "output_type": "stream",
     "text": [
      "100%|██████████| 100/100 [00:02<00:00, 34.46it/s]\n",
      "100%|██████████| 100/100 [00:02<00:00, 34.26it/s]\n",
      "100%|██████████| 100/100 [00:02<00:00, 38.18it/s]\n",
      "100%|██████████| 100/100 [00:02<00:00, 39.23it/s]\n",
      "100%|██████████| 100/100 [00:02<00:00, 37.02it/s]\n",
      "100%|██████████| 100/100 [00:02<00:00, 38.95it/s]\n",
      "100%|██████████| 100/100 [00:02<00:00, 37.03it/s]\n",
      "100%|██████████| 100/100 [00:02<00:00, 37.81it/s]\n",
      "100%|██████████| 100/100 [00:02<00:00, 38.23it/s]\n",
      "100%|██████████| 100/100 [00:02<00:00, 38.38it/s]\n",
      "100%|██████████| 100/100 [00:02<00:00, 37.42it/s]\n",
      "100%|██████████| 100/100 [00:02<00:00, 38.86it/s]\n",
      "100%|██████████| 100/100 [00:02<00:00, 38.18it/s]\n",
      "100%|██████████| 100/100 [00:02<00:00, 38.36it/s]\n",
      "100%|██████████| 100/100 [00:02<00:00, 37.31it/s]\n",
      "100%|██████████| 100/100 [00:02<00:00, 38.78it/s]\n",
      "100%|██████████| 100/100 [00:02<00:00, 38.35it/s]\n",
      "100%|██████████| 100/100 [00:02<00:00, 38.60it/s]\n",
      "100%|██████████| 100/100 [00:02<00:00, 34.50it/s]\n",
      "100%|██████████| 100/100 [00:02<00:00, 39.13it/s]\n",
      "100%|██████████| 100/100 [00:02<00:00, 36.66it/s]\n",
      "100%|██████████| 100/100 [00:02<00:00, 36.91it/s]\n",
      "100%|██████████| 100/100 [00:02<00:00, 38.48it/s]\n",
      "100%|██████████| 100/100 [00:02<00:00, 38.31it/s]\n",
      "100%|██████████| 100/100 [00:02<00:00, 37.43it/s]\n",
      "100%|██████████| 100/100 [00:02<00:00, 38.44it/s]\n",
      "100%|██████████| 100/100 [00:02<00:00, 37.95it/s]\n",
      "100%|██████████| 100/100 [00:02<00:00, 38.72it/s]\n",
      "100%|██████████| 100/100 [00:02<00:00, 38.44it/s]\n",
      "100%|██████████| 100/100 [00:02<00:00, 37.41it/s]\n",
      "100%|██████████| 100/100 [00:02<00:00, 37.10it/s]\n",
      "100%|██████████| 100/100 [00:02<00:00, 38.41it/s]\n",
      "100%|██████████| 100/100 [00:02<00:00, 36.48it/s]\n",
      "100%|██████████| 100/100 [00:02<00:00, 38.66it/s]\n",
      "100%|██████████| 100/100 [00:02<00:00, 38.77it/s]\n",
      "100%|██████████| 100/100 [00:02<00:00, 35.17it/s]\n",
      "100%|██████████| 100/100 [00:02<00:00, 38.81it/s]\n",
      "100%|██████████| 100/100 [00:02<00:00, 37.40it/s]\n",
      "100%|██████████| 100/100 [00:02<00:00, 38.24it/s]\n",
      "100%|██████████| 100/100 [00:02<00:00, 38.65it/s]\n",
      "100%|██████████| 100/100 [00:02<00:00, 35.31it/s]\n",
      "100%|██████████| 100/100 [00:02<00:00, 36.51it/s]\n",
      "100%|██████████| 100/100 [00:02<00:00, 38.89it/s]\n",
      "100%|██████████| 100/100 [00:02<00:00, 38.48it/s]\n",
      "100%|██████████| 100/100 [00:02<00:00, 38.40it/s]\n",
      "100%|██████████| 100/100 [00:02<00:00, 38.32it/s]\n",
      "100%|██████████| 100/100 [00:02<00:00, 37.61it/s]\n",
      "100%|██████████| 100/100 [00:02<00:00, 38.47it/s]\n",
      "100%|██████████| 100/100 [00:02<00:00, 38.05it/s]\n",
      "100%|██████████| 100/100 [00:02<00:00, 37.95it/s]\n",
      "100%|██████████| 100/100 [00:02<00:00, 34.93it/s]\n",
      "100%|██████████| 100/100 [00:02<00:00, 38.05it/s]\n",
      "100%|██████████| 100/100 [00:02<00:00, 37.37it/s]\n",
      "100%|██████████| 100/100 [00:02<00:00, 38.03it/s]\n",
      "100%|██████████| 100/100 [00:02<00:00, 34.92it/s]\n",
      "100%|██████████| 100/100 [00:02<00:00, 38.43it/s]\n",
      "100%|██████████| 100/100 [00:02<00:00, 38.37it/s]\n",
      "100%|██████████| 100/100 [00:02<00:00, 38.99it/s]\n",
      "100%|██████████| 100/100 [00:02<00:00, 36.03it/s]\n",
      "100%|██████████| 100/100 [00:02<00:00, 38.30it/s]\n",
      "100%|██████████| 100/100 [00:02<00:00, 38.24it/s]\n",
      "100%|██████████| 100/100 [00:02<00:00, 33.83it/s]\n",
      "100%|██████████| 100/100 [00:02<00:00, 35.74it/s]\n",
      "100%|██████████| 100/100 [00:02<00:00, 37.92it/s]\n",
      "100%|██████████| 100/100 [00:02<00:00, 36.59it/s]\n",
      "100%|██████████| 100/100 [00:02<00:00, 37.34it/s]\n",
      "100%|██████████| 100/100 [00:02<00:00, 36.00it/s]\n",
      "100%|██████████| 100/100 [00:02<00:00, 38.36it/s]\n",
      "100%|██████████| 100/100 [00:02<00:00, 38.02it/s]\n",
      "100%|██████████| 100/100 [00:02<00:00, 38.79it/s]\n",
      "100%|██████████| 100/100 [00:02<00:00, 38.67it/s]\n",
      "100%|██████████| 100/100 [00:02<00:00, 38.12it/s]\n",
      "100%|██████████| 100/100 [00:02<00:00, 35.48it/s]\n",
      "100%|██████████| 100/100 [00:02<00:00, 38.26it/s]\n",
      "100%|██████████| 100/100 [00:02<00:00, 38.45it/s]\n",
      "100%|██████████| 100/100 [00:02<00:00, 36.71it/s]\n",
      "100%|██████████| 100/100 [00:02<00:00, 38.03it/s]\n",
      "100%|██████████| 100/100 [00:02<00:00, 37.82it/s]\n",
      "100%|██████████| 100/100 [00:02<00:00, 38.89it/s]\n",
      "100%|██████████| 100/100 [00:02<00:00, 38.43it/s]\n",
      "100%|██████████| 100/100 [00:02<00:00, 38.30it/s]\n",
      "100%|██████████| 100/100 [00:02<00:00, 36.31it/s]\n",
      "100%|██████████| 100/100 [00:02<00:00, 38.93it/s]\n",
      "100%|██████████| 100/100 [00:02<00:00, 38.57it/s]\n",
      "100%|██████████| 100/100 [00:02<00:00, 38.99it/s]\n",
      "100%|██████████| 100/100 [00:02<00:00, 35.32it/s]\n",
      "100%|██████████| 100/100 [00:02<00:00, 38.15it/s]\n",
      "100%|██████████| 100/100 [00:02<00:00, 34.96it/s]\n",
      "100%|██████████| 100/100 [00:02<00:00, 36.09it/s]\n",
      "100%|██████████| 100/100 [00:02<00:00, 38.37it/s]\n",
      "100%|██████████| 100/100 [00:02<00:00, 37.89it/s]\n",
      "100%|██████████| 100/100 [00:02<00:00, 38.59it/s]\n",
      "100%|██████████| 100/100 [00:02<00:00, 38.06it/s]\n",
      "100%|██████████| 100/100 [00:03<00:00, 31.49it/s]\n",
      "100%|██████████| 100/100 [00:02<00:00, 39.16it/s]\n",
      "100%|██████████| 100/100 [00:02<00:00, 38.04it/s]\n",
      "100%|██████████| 100/100 [00:02<00:00, 36.72it/s]\n",
      "100%|██████████| 100/100 [00:02<00:00, 38.46it/s]\n",
      "100%|██████████| 100/100 [00:02<00:00, 36.78it/s]\n",
      "100%|██████████| 100/100 [00:02<00:00, 37.38it/s]\n",
      "100%|██████████| 100/100 [00:02<00:00, 37.59it/s]\n",
      "100%|██████████| 100/100 [00:02<00:00, 34.97it/s]\n",
      "100%|██████████| 100/100 [00:02<00:00, 38.05it/s]\n",
      "100%|██████████| 100/100 [00:02<00:00, 40.08it/s]\n",
      "100%|██████████| 100/100 [00:02<00:00, 37.72it/s]\n",
      "100%|██████████| 100/100 [00:02<00:00, 38.25it/s]\n",
      "100%|██████████| 100/100 [00:02<00:00, 37.77it/s]\n",
      "100%|██████████| 100/100 [00:02<00:00, 36.79it/s]\n",
      "100%|██████████| 100/100 [00:02<00:00, 39.14it/s]\n",
      "100%|██████████| 100/100 [00:02<00:00, 39.10it/s]\n",
      "100%|██████████| 100/100 [00:02<00:00, 39.36it/s]\n",
      "100%|██████████| 100/100 [00:02<00:00, 38.34it/s]\n",
      "100%|██████████| 100/100 [00:02<00:00, 38.20it/s]\n",
      "100%|██████████| 100/100 [00:02<00:00, 39.27it/s]\n",
      "100%|██████████| 100/100 [00:02<00:00, 35.67it/s]\n",
      "100%|██████████| 100/100 [00:02<00:00, 39.66it/s]\n",
      "100%|██████████| 100/100 [00:02<00:00, 39.12it/s]\n",
      "100%|██████████| 100/100 [00:02<00:00, 38.28it/s]\n",
      "100%|██████████| 100/100 [00:02<00:00, 37.48it/s]\n",
      "100%|██████████| 100/100 [00:02<00:00, 40.04it/s]\n",
      "100%|██████████| 100/100 [00:02<00:00, 37.37it/s]\n",
      "100%|██████████| 100/100 [00:02<00:00, 37.70it/s]\n",
      "100%|██████████| 100/100 [00:02<00:00, 39.39it/s]\n",
      "100%|██████████| 100/100 [00:02<00:00, 39.48it/s]\n",
      "100%|██████████| 100/100 [00:02<00:00, 38.27it/s]\n",
      "100%|██████████| 100/100 [00:02<00:00, 39.38it/s]\n",
      "100%|██████████| 100/100 [00:02<00:00, 38.86it/s]\n",
      "100%|██████████| 100/100 [00:02<00:00, 38.29it/s]\n",
      "100%|██████████| 100/100 [00:02<00:00, 39.58it/s]\n",
      "100%|██████████| 100/100 [00:02<00:00, 38.09it/s]\n",
      "100%|██████████| 100/100 [00:02<00:00, 38.00it/s]\n",
      "100%|██████████| 100/100 [00:02<00:00, 39.37it/s]\n",
      "100%|██████████| 100/100 [00:02<00:00, 37.32it/s]\n",
      "100%|██████████| 100/100 [00:02<00:00, 39.67it/s]\n",
      "100%|██████████| 100/100 [00:02<00:00, 39.75it/s]\n",
      "100%|██████████| 100/100 [00:02<00:00, 35.88it/s]\n",
      "100%|██████████| 100/100 [00:02<00:00, 38.35it/s]\n",
      "100%|██████████| 100/100 [00:02<00:00, 39.48it/s]\n",
      "100%|██████████| 100/100 [00:02<00:00, 39.21it/s]\n",
      "100%|██████████| 100/100 [00:02<00:00, 39.52it/s]\n",
      "100%|██████████| 100/100 [00:02<00:00, 36.33it/s]\n",
      "100%|██████████| 100/100 [00:02<00:00, 37.40it/s]\n",
      "100%|██████████| 100/100 [00:02<00:00, 39.83it/s]\n",
      "100%|██████████| 100/100 [00:02<00:00, 39.45it/s]\n",
      "100%|██████████| 100/100 [00:02<00:00, 39.34it/s]\n",
      "100%|██████████| 100/100 [00:02<00:00, 39.35it/s]\n",
      "100%|██████████| 100/100 [00:02<00:00, 38.50it/s]\n",
      "100%|██████████| 100/100 [00:02<00:00, 39.47it/s]\n",
      "100%|██████████| 100/100 [00:02<00:00, 38.96it/s]\n",
      "100%|██████████| 100/100 [00:02<00:00, 38.93it/s]\n",
      "100%|██████████| 100/100 [00:02<00:00, 35.65it/s]\n",
      "100%|██████████| 100/100 [00:02<00:00, 38.20it/s]\n",
      "100%|██████████| 100/100 [00:02<00:00, 39.52it/s]\n",
      "100%|██████████| 100/100 [00:02<00:00, 38.12it/s]\n",
      "100%|██████████| 100/100 [00:02<00:00, 35.68it/s]\n",
      "100%|██████████| 100/100 [00:02<00:00, 39.27it/s]\n",
      "100%|██████████| 100/100 [00:02<00:00, 39.52it/s]\n",
      "100%|██████████| 100/100 [00:02<00:00, 40.00it/s]\n",
      "100%|██████████| 100/100 [00:02<00:00, 37.04it/s]\n",
      "100%|██████████| 100/100 [00:02<00:00, 39.27it/s]\n",
      "100%|██████████| 100/100 [00:02<00:00, 36.05it/s]\n",
      "100%|██████████| 100/100 [00:02<00:00, 34.70it/s]\n",
      "100%|██████████| 100/100 [00:02<00:00, 38.52it/s]\n",
      "100%|██████████| 100/100 [00:02<00:00, 39.11it/s]\n",
      "100%|██████████| 100/100 [00:02<00:00, 37.52it/s]\n",
      "100%|██████████| 100/100 [00:02<00:00, 38.25it/s]\n",
      "100%|██████████| 100/100 [00:02<00:00, 38.53it/s]\n",
      "100%|██████████| 100/100 [00:02<00:00, 39.39it/s]\n",
      "100%|██████████| 100/100 [00:02<00:00, 38.19it/s]\n",
      "100%|██████████| 100/100 [00:02<00:00, 39.86it/s]\n",
      "100%|██████████| 100/100 [00:02<00:00, 38.35it/s]\n",
      "100%|██████████| 100/100 [00:02<00:00, 39.09it/s]\n",
      "100%|██████████| 100/100 [00:02<00:00, 36.40it/s]\n",
      "100%|██████████| 100/100 [00:02<00:00, 39.34it/s]\n",
      "100%|██████████| 100/100 [00:02<00:00, 39.50it/s]\n",
      "100%|██████████| 100/100 [00:02<00:00, 37.79it/s]\n",
      "100%|██████████| 100/100 [00:02<00:00, 39.16it/s]\n",
      "100%|██████████| 100/100 [00:02<00:00, 38.95it/s]\n",
      "100%|██████████| 100/100 [00:02<00:00, 40.01it/s]\n",
      "100%|██████████| 100/100 [00:02<00:00, 39.46it/s]\n",
      "100%|██████████| 100/100 [00:02<00:00, 39.35it/s]\n",
      "100%|██████████| 100/100 [00:02<00:00, 38.74it/s]\n",
      "100%|██████████| 100/100 [00:02<00:00, 39.99it/s]\n",
      "100%|██████████| 100/100 [00:02<00:00, 39.58it/s]\n",
      "100%|██████████| 100/100 [00:02<00:00, 40.03it/s]\n",
      "100%|██████████| 100/100 [00:02<00:00, 38.36it/s]\n",
      "100%|██████████| 100/100 [00:02<00:00, 39.11it/s]\n",
      "100%|██████████| 100/100 [00:02<00:00, 35.80it/s]\n",
      "100%|██████████| 100/100 [00:02<00:00, 36.92it/s]\n",
      "100%|██████████| 100/100 [00:02<00:00, 39.48it/s]\n",
      "100%|██████████| 100/100 [00:02<00:00, 37.56it/s]\n",
      "100%|██████████| 100/100 [00:02<00:00, 39.63it/s]\n",
      "100%|██████████| 100/100 [00:02<00:00, 38.99it/s]\n",
      "100%|██████████| 100/100 [00:03<00:00, 30.60it/s]\n",
      "100%|██████████| 100/100 [00:02<00:00, 40.45it/s]\n",
      "100%|██████████| 100/100 [00:02<00:00, 39.12it/s]\n",
      "100%|██████████| 100/100 [00:02<00:00, 37.82it/s]\n",
      "100%|██████████| 100/100 [00:02<00:00, 39.90it/s]\n",
      "100%|██████████| 100/100 [00:02<00:00, 37.85it/s]\n",
      "100%|██████████| 100/100 [00:02<00:00, 39.91it/s]\n",
      "100%|██████████| 100/100 [00:02<00:00, 36.99it/s]\n",
      "100%|██████████| 100/100 [00:02<00:00, 34.47it/s]\n",
      "100%|██████████| 100/100 [00:02<00:00, 37.53it/s]\n",
      "100%|██████████| 100/100 [00:02<00:00, 39.39it/s]\n",
      "100%|██████████| 100/100 [00:02<00:00, 37.04it/s]\n",
      "100%|██████████| 100/100 [00:02<00:00, 37.60it/s]\n",
      "100%|██████████| 100/100 [00:02<00:00, 37.08it/s]\n",
      "100%|██████████| 100/100 [00:02<00:00, 37.88it/s]\n",
      "100%|██████████| 100/100 [00:02<00:00, 37.51it/s]\n",
      "100%|██████████| 100/100 [00:02<00:00, 37.61it/s]\n",
      "100%|██████████| 100/100 [00:02<00:00, 38.64it/s]\n",
      "100%|██████████| 100/100 [00:02<00:00, 37.64it/s]\n",
      "100%|██████████| 100/100 [00:02<00:00, 38.31it/s]\n",
      "100%|██████████| 100/100 [00:02<00:00, 38.57it/s]\n",
      "100%|██████████| 100/100 [00:02<00:00, 37.37it/s]\n",
      "100%|██████████| 100/100 [00:02<00:00, 38.89it/s]\n",
      "100%|██████████| 100/100 [00:02<00:00, 37.48it/s]\n",
      "100%|██████████| 100/100 [00:02<00:00, 38.84it/s]\n",
      "100%|██████████| 100/100 [00:02<00:00, 36.82it/s]\n",
      "100%|██████████| 100/100 [00:02<00:00, 39.32it/s]\n",
      "100%|██████████| 100/100 [00:02<00:00, 36.77it/s]\n",
      "100%|██████████| 100/100 [00:02<00:00, 37.07it/s]\n",
      "100%|██████████| 100/100 [00:02<00:00, 38.67it/s]\n",
      "100%|██████████| 100/100 [00:02<00:00, 38.76it/s]\n",
      "100%|██████████| 100/100 [00:02<00:00, 39.01it/s]\n",
      "100%|██████████| 100/100 [00:02<00:00, 38.72it/s]\n",
      "100%|██████████| 100/100 [00:02<00:00, 37.15it/s]\n",
      "100%|██████████| 100/100 [00:02<00:00, 38.86it/s]\n",
      "100%|██████████| 100/100 [00:02<00:00, 38.82it/s]\n",
      "100%|██████████| 100/100 [00:02<00:00, 38.98it/s]\n",
      "100%|██████████| 100/100 [00:02<00:00, 37.29it/s]\n",
      "100%|██████████| 100/100 [00:02<00:00, 38.66it/s]\n",
      "100%|██████████| 100/100 [00:02<00:00, 36.62it/s]\n",
      "100%|██████████| 100/100 [00:02<00:00, 38.88it/s]\n",
      "100%|██████████| 100/100 [00:02<00:00, 37.60it/s]\n",
      "100%|██████████| 100/100 [00:02<00:00, 37.50it/s]\n",
      "100%|██████████| 100/100 [00:02<00:00, 38.99it/s]\n",
      "100%|██████████| 100/100 [00:02<00:00, 38.71it/s]\n",
      "100%|██████████| 100/100 [00:02<00:00, 38.41it/s]\n",
      "100%|██████████| 100/100 [00:02<00:00, 38.87it/s]\n",
      "100%|██████████| 100/100 [00:02<00:00, 37.67it/s]\n",
      "100%|██████████| 100/100 [00:02<00:00, 38.08it/s]\n",
      "100%|██████████| 100/100 [00:02<00:00, 37.52it/s]\n",
      "100%|██████████| 100/100 [00:02<00:00, 38.68it/s]\n",
      "100%|██████████| 100/100 [00:02<00:00, 38.57it/s]\n",
      "100%|██████████| 100/100 [00:02<00:00, 37.47it/s]\n",
      "100%|██████████| 100/100 [00:02<00:00, 37.81it/s]\n",
      "100%|██████████| 100/100 [00:02<00:00, 38.78it/s]\n",
      "100%|██████████| 100/100 [00:02<00:00, 37.45it/s]\n",
      "100%|██████████| 100/100 [00:02<00:00, 37.17it/s]\n",
      "100%|██████████| 100/100 [00:02<00:00, 35.03it/s]\n",
      "100%|██████████| 100/100 [00:02<00:00, 37.46it/s]\n",
      "100%|██████████| 100/100 [00:02<00:00, 38.81it/s]\n",
      "100%|██████████| 100/100 [00:02<00:00, 38.23it/s]\n",
      "100%|██████████| 100/100 [00:02<00:00, 37.35it/s]\n",
      "100%|██████████| 100/100 [00:02<00:00, 38.63it/s]\n",
      "100%|██████████| 100/100 [00:02<00:00, 37.50it/s]\n",
      "100%|██████████| 100/100 [00:02<00:00, 39.11it/s]\n",
      "100%|██████████| 100/100 [00:02<00:00, 37.77it/s]\n",
      "100%|██████████| 100/100 [00:02<00:00, 37.49it/s]\n",
      "100%|██████████| 100/100 [00:02<00:00, 38.41it/s]\n",
      "100%|██████████| 100/100 [00:02<00:00, 34.01it/s]\n",
      "100%|██████████| 100/100 [00:02<00:00, 37.70it/s]\n",
      "100%|██████████| 100/100 [00:02<00:00, 37.44it/s]\n",
      "100%|██████████| 100/100 [00:02<00:00, 36.82it/s]\n",
      "100%|██████████| 100/100 [00:02<00:00, 38.87it/s]\n",
      "100%|██████████| 100/100 [00:02<00:00, 37.82it/s]\n",
      "100%|██████████| 100/100 [00:02<00:00, 38.50it/s]\n",
      "100%|██████████| 100/100 [00:02<00:00, 38.27it/s]\n",
      "100%|██████████| 100/100 [00:02<00:00, 37.59it/s]\n",
      "100%|██████████| 100/100 [00:02<00:00, 38.97it/s]\n",
      "100%|██████████| 100/100 [00:02<00:00, 38.32it/s]\n",
      "100%|██████████| 100/100 [00:02<00:00, 37.62it/s]\n",
      "100%|██████████| 100/100 [00:02<00:00, 37.51it/s]\n",
      "100%|██████████| 100/100 [00:02<00:00, 38.73it/s]\n",
      "100%|██████████| 100/100 [00:02<00:00, 38.08it/s]\n",
      "100%|██████████| 100/100 [00:02<00:00, 38.15it/s]\n",
      "100%|██████████| 100/100 [00:02<00:00, 38.09it/s]\n",
      "100%|██████████| 100/100 [00:02<00:00, 39.12it/s]\n",
      "100%|██████████| 100/100 [00:02<00:00, 38.62it/s]\n",
      "100%|██████████| 100/100 [00:02<00:00, 38.50it/s]\n",
      "100%|██████████| 100/100 [00:02<00:00, 37.85it/s]\n",
      "100%|██████████| 100/100 [00:02<00:00, 39.03it/s]\n",
      "100%|██████████| 100/100 [00:02<00:00, 38.69it/s]\n",
      "100%|██████████| 100/100 [00:02<00:00, 37.56it/s]\n",
      "100%|██████████| 100/100 [00:02<00:00, 37.56it/s]\n",
      "100%|██████████| 100/100 [00:02<00:00, 37.41it/s]\n",
      "100%|██████████| 100/100 [00:02<00:00, 37.37it/s]\n",
      "100%|██████████| 100/100 [00:02<00:00, 37.84it/s]\n",
      "100%|██████████| 100/100 [00:02<00:00, 38.56it/s]\n",
      "100%|██████████| 100/100 [00:02<00:00, 37.97it/s]\n",
      "100%|██████████| 100/100 [00:02<00:00, 38.75it/s]\n",
      "100%|██████████| 100/100 [00:02<00:00, 38.15it/s]\n",
      "100%|██████████| 100/100 [00:03<00:00, 31.70it/s]\n",
      "100%|██████████| 100/100 [00:02<00:00, 39.27it/s]\n",
      "100%|██████████| 100/100 [00:02<00:00, 38.16it/s]\n",
      "100%|██████████| 100/100 [00:02<00:00, 38.09it/s]\n",
      "100%|██████████| 100/100 [00:02<00:00, 38.71it/s]\n",
      "100%|██████████| 100/100 [00:02<00:00, 36.94it/s]\n",
      "100%|██████████| 100/100 [00:02<00:00, 38.94it/s]\n"
     ]
    }
   ],
   "source": [
    "# some issue with nucleus sampling and CUDA. I'd much rather just avoid nucleus sampling altogether.\n",
    "# I personally don't consider it a sampling method.\n",
    "\n",
    "#counts_top_p = get_counts(file, top_p=0.9)\n",
    "counts_top_k = get_counts(file, top_k=40)\n",
    "counts_temp = get_counts(file, temperature=1)\n",
    "counts_greedy = get_counts(file, top_k=1)"
   ]
  },
  {
   "cell_type": "code",
   "execution_count": 11,
   "metadata": {},
   "outputs": [
    {
     "data": {
      "text/plain": [
       "Text(0.5, 1.0, 'Top k = 40')"
      ]
     },
     "execution_count": 11,
     "metadata": {},
     "output_type": "execute_result"
    },
    {
     "data": {
      "image/png": "[encoded data removed]",
      "text/plain": [
       "<Figure size 432x288 with 1 Axes>"
      ]
     },
     "metadata": {
      "needs_background": "light"
     },
     "output_type": "display_data"
    }
   ],
   "source": [
    "plt.hist(counts_top_k, bins_2)\n",
    "plt.xlabel('Token rank')\n",
    "plt.ylabel('Frequency')\n",
    "plt.title('Top k = 40')"
   ]
  },
  {
   "cell_type": "code",
   "execution_count": 10,
   "metadata": {
    "scrolled": true
   },
   "outputs": [
    {
     "data": {
      "text/plain": [
       "Text(0.5, 1.0, 'Temperature = 0.8')"
      ]
     },
     "execution_count": 10,
     "metadata": {},
     "output_type": "execute_result"
    },
    {
     "data": {
      "image/png": "[encoded data removed]",
      "text/plain": [
       "<Figure size 432x288 with 1 Axes>"
      ]
     },
     "metadata": {
      "needs_background": "light"
     },
     "output_type": "display_data"
    }
   ],
   "source": [
    "plt.hist(counts_temp, bins_2)\n",
    "plt.xlabel('Token rank')\n",
    "plt.ylabel('Frequency')\n",
    "plt.title('Temperature = 0.8')"
   ]
  },
  {
   "cell_type": "code",
   "execution_count": 9,
   "metadata": {},
   "outputs": [
    {
     "data": {
      "text/plain": [
       "Text(0.5, 1.0, 'Greedy sampling')"
      ]
     },
     "execution_count": 9,
     "metadata": {},
     "output_type": "execute_result"
    },
    {
     "data": {
      "image/png": "[encoded data removed]",
      "text/plain": [
       "<Figure size 432x288 with 1 Axes>"
      ]
     },
     "metadata": {
      "needs_background": "light"
     },
     "output_type": "display_data"
    }
   ],
   "source": [
    "plt.hist(counts_greedy, bins_2)\n",
    "plt.xlabel('Token rank')\n",
    "plt.ylabel('Frequency')\n",
    "plt.title('Greedy sampling')"
   ]
  },
  {
   "cell_type": "code",
   "execution_count": 19,
   "metadata": {},
   "outputs": [],
   "source": [
    "# remember to load\n",
    "np.savez('temp', ground_truth = counts_ground_truth, full=counts_full)"
   ]
  },
  {
   "cell_type": "code",
   "execution_count": 14,
   "metadata": {},
   "outputs": [],
   "source": [
    "data = np.load('temp.npz')\n",
    "counts_ground_truth = data['ground_truth']\n",
    "counts_full = data['full']"
   ]
  },
  {
   "cell_type": "code",
   "execution_count": 15,
   "metadata": {},
   "outputs": [],
   "source": [
    "np.savez('cache', \n",
    "        ground_truth = counts_ground_truth,\n",
    "        top_k = counts_top_k,\n",
    "        greedy = counts_greedy,\n",
    "        full = counts_full,\n",
    "        temp = counts_temp,\n",
    "        bins1 = bins,\n",
    "        bins2 = bins_2)"
   ]
  }
 ],
 "metadata": {
  "kernelspec": {
   "display_name": "Python 3",
   "language": "python",
   "name": "python3"
  },
  "language_info": {
   "codemirror_mode": {
    "name": "ipython",
    "version": 3
   },
   "file_extension": ".py",
   "mimetype": "text/x-python",
   "name": "python",
   "nbconvert_exporter": "python",
   "pygments_lexer": "ipython3",
   "version": "3.7.3"
  }
 },
 "nbformat": 4,
 "nbformat_minor": 2
}
