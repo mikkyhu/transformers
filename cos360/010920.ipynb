{
 "cells": [
  {
   "cell_type": "markdown",
   "metadata": {},
   "source": [
    "# 1. Inverse CDF"
   ]
  },
  {
   "cell_type": "code",
   "execution_count": 1,
   "metadata": {},
   "outputs": [
    {
     "name": "stderr",
     "output_type": "stream",
     "text": [
      "To use data.metrics please install scikit-learn. See https://scikit-learn.org/stable/index.html\n"
     ]
    }
   ],
   "source": [
    "import os\n",
    "os.environ['CUDA_LAUNCH_BLOCKING'] = \"1\"\n",
    "import sys\n",
    "sys.path.append('../examples')\n",
    "sys.path.append('../jobs')\n",
    "sys.path.append('../training_data')\n",
    "\n",
    "from tqdm import trange\n",
    "\n",
    "import torch\n",
    "import torch.nn.functional as F\n",
    "import torch.optim as optim\n",
    "import numpy as np\n",
    "import matplotlib.pyplot as plt\n",
    "\n",
    "from scipy.stats import gaussian_kde\n",
    "\n",
    "from transformers import GPT2LMHeadModel, GPT2Tokenizer, GPT2Config\n",
    "from generate_with_calibration import get_lookahead_entropies\n",
    "from generate_with_entropy import sample_sequence, sample_sequence_batch, top_k_top_p_filtering\n",
    "\n",
    "import logging\n",
    "logging.getLogger('transformers.tokenization_utils').setLevel(logging.ERROR)"
   ]
  },
  {
   "cell_type": "code",
   "execution_count": 2,
   "metadata": {},
   "outputs": [
    {
     "name": "stderr",
     "output_type": "stream",
     "text": [
      "01/10/2020 21:14:22 - INFO - transformers.configuration_utils -   loading configuration file https://s3.amazonaws.com/models.huggingface.co/bert/gpt2-config.json from cache at /u/myhu/.cache/torch/transformers/4be02c5697d91738003fb1685c9872f284166aa32e061576bbe6aaeb95649fcf.085d5f6a8e7812ea05ff0e6ed0645ab2e75d80387ad55c1ad9806ee70d272f80\n",
      "01/10/2020 21:14:22 - INFO - transformers.configuration_utils -   Model config {\n",
      "  \"attn_pdrop\": 0.1,\n",
      "  \"embd_pdrop\": 0.1,\n",
      "  \"finetuning_task\": null,\n",
      "  \"initializer_range\": 0.02,\n",
      "  \"is_decoder\": false,\n",
      "  \"layer_norm_epsilon\": 1e-05,\n",
      "  \"n_ctx\": 1024,\n",
      "  \"n_embd\": 768,\n",
      "  \"n_head\": 12,\n",
      "  \"n_layer\": 12,\n",
      "  \"n_positions\": 1024,\n",
      "  \"num_labels\": 1,\n",
      "  \"output_attentions\": false,\n",
      "  \"output_hidden_states\": false,\n",
      "  \"output_past\": true,\n",
      "  \"pruned_heads\": {},\n",
      "  \"resid_pdrop\": 0.1,\n",
      "  \"summary_activation\": null,\n",
      "  \"summary_first_dropout\": 0.1,\n",
      "  \"summary_proj_to_labels\": true,\n",
      "  \"summary_type\": \"cls_index\",\n",
      "  \"summary_use_proj\": true,\n",
      "  \"torchscript\": false,\n",
      "  \"use_bfloat16\": false,\n",
      "  \"vocab_size\": 50257\n",
      "}\n",
      "\n",
      "01/10/2020 21:14:22 - INFO - transformers.modeling_utils -   loading weights file https://s3.amazonaws.com/models.huggingface.co/bert/gpt2-pytorch_model.bin from cache at /u/myhu/.cache/torch/transformers/4295d67f022061768f4adc386234dbdb781c814c39662dd1662221c309962c55.778cf36f5c4e5d94c8cd9cefcf2a580c8643570eb327f0d4a1f007fab2acbdf1\n"
     ]
    }
   ],
   "source": [
    "# setup cell\n",
    "\n",
    "def set_seed(seed=42, n_gpu=0):\n",
    "    np.random.seed(seed)\n",
    "    torch.manual_seed(seed)\n",
    "    if n_gpu > 0:\n",
    "        torch.cuda.manual_seed_all(args.seed)\n",
    "\n",
    "device = torch.device(\"cuda\" if torch.cuda.is_available() else \"cpu\")\n",
    "n_gpus = torch.cuda.device_count()\n",
    "\n",
    "set_seed()\n",
    "tokenizer = GPT2Tokenizer.from_pretrained('gpt2')\n",
    "model = GPT2LMHeadModel.from_pretrained('gpt2')\n",
    "model.to(device)\n",
    "model.eval()\n",
    "\n",
    "vocab_size = tokenizer.vocab_size"
   ]
  },
  {
   "cell_type": "code",
   "execution_count": 175,
   "metadata": {},
   "outputs": [],
   "source": [
    "# the ground truth\n",
    "\n",
    "# file = '../training_data/train.wp_h100'\n",
    "# file = '../training_data/unicorn.txt'\n",
    "file = '../training_data/gbw/training/news1-head1k'\n",
    "\n",
    "inv_cdf = []\n",
    "token_ranks = []\n",
    "with open(file) as fp:\n",
    "    for line in fp:\n",
    "        context = tokenizer.encode(line)\n",
    "        \n",
    "        N = len(context)\n",
    "        \n",
    "        for i in range(1, N):\n",
    "            context_i = torch.tensor(context[:i], dtype=torch.long, device=device).unsqueeze(0)\n",
    "    \n",
    "            inputs = {'input_ids': context_i}\n",
    "            outputs = model(**inputs)  \n",
    "            model_next_logits = outputs[0][:, -1, :]\n",
    "            \n",
    "            next_probs = F.softmax(model_next_logits, dim=-1)[0].detach().cpu().numpy()\n",
    "            sorted_probs = np.sort(next_probs)[::-1]\n",
    "            \n",
    "            next_word = context[i]\n",
    "            ranks = np.argsort(next_probs)[::-1]\n",
    "            token_rank = np.argwhere(ranks == next_word)[0][0]\n",
    "            prev_prob = np.sum(sorted_probs[:token_rank + 1])\n",
    "            \n",
    "            inv_cdf.append(prev_prob)\n",
    "            token_ranks.append(token_rank)"
   ]
  },
  {
   "cell_type": "code",
   "execution_count": null,
   "metadata": {},
   "outputs": [],
   "source": [
    "token_ranks"
   ]
  },
  {
   "cell_type": "code",
   "execution_count": 54,
   "metadata": {},
   "outputs": [],
   "source": [
    "x = []\n",
    "y = []\n",
    "for xi, yi in enumerate(token_ranks):\n",
    "    x.append(np.log(xi + 1e-20))\n",
    "    y.append(np.log(yi + 1e-20))"
   ]
  },
  {
   "cell_type": "code",
   "execution_count": 178,
   "metadata": {},
   "outputs": [
    {
     "data": {
      "text/plain": [
       "Text(0.5, 1.0, 'Empirical Inverse CDF')"
      ]
     },
     "execution_count": 178,
     "metadata": {},
     "output_type": "execute_result"
    },
    {
     "data": {
      "image/png": "[encoded data removed]",
      "text/plain": [
       "<Figure size 432x288 with 1 Axes>"
      ]
     },
     "metadata": {
      "needs_background": "light"
     },
     "output_type": "display_data"
    }
   ],
   "source": [
    "plt.hist(inv_cdf)\n",
    "plt.xlabel('p')\n",
    "plt.ylabel('Frequency')\n",
    "plt.title('Empirical Inverse CDF')"
   ]
  },
  {
   "cell_type": "code",
   "execution_count": 57,
   "metadata": {},
   "outputs": [
    {
     "data": {
      "text/plain": [
       "(array([2.6787e+04, 3.1700e+02, 1.4300e+02, 7.4000e+01, 3.3000e+01,\n",
       "        2.2000e+01, 1.1000e+01, 1.1000e+01, 3.0000e+00, 3.0000e+00]),\n",
       " array([    0. ,  4053.2,  8106.4, 12159.6, 16212.8, 20266. , 24319.2,\n",
       "        28372.4, 32425.6, 36478.8, 40532. ]),\n",
       " <a list of 10 Patch objects>)"
      ]
     },
     "execution_count": 57,
     "metadata": {},
     "output_type": "execute_result"
    },
    {
     "data": {
      "image/png": "[encoded data removed]",
      "text/plain": [
       "<Figure size 432x288 with 1 Axes>"
      ]
     },
     "metadata": {
      "needs_background": "light"
     },
     "output_type": "display_data"
    }
   ],
   "source": [
    "plt.hist(token_ranks, log=True)"
   ]
  },
  {
   "cell_type": "code",
   "execution_count": 60,
   "metadata": {},
   "outputs": [],
   "source": [
    "def get_counts(file, length=100, num_samples=1, temperature=1, top_k=0, top_p=0.0):\n",
    "    ret = []\n",
    "    with open(file) as fp:\n",
    "        for line in fp:\n",
    "            context = tokenizer.encode(line)\n",
    "            context = torch.tensor(context, dtype=torch.long, device=device)\n",
    "            context = context.unsqueeze(0).repeat(num_samples, 1)\n",
    "            generated = context\n",
    "\n",
    "            with torch.no_grad():\n",
    "\n",
    "                for gen_index in trange(length):\n",
    "\n",
    "                    inputs = {'input_ids': generated}\n",
    "\n",
    "                    outputs = model(**inputs)\n",
    "                    next_token_logits = outputs[0][:, -1, :] / temperature\n",
    "                    next_probs = F.softmax(next_token_logits, dim=-1)[0].detach().cpu().numpy()\n",
    "\n",
    "                    filtered_logits = top_k_top_p_filtering(next_token_logits, top_k=top_k, top_p=top_p)\n",
    "                    next_token = torch.multinomial(F.softmax(filtered_logits, dim=-1), num_samples=1)\n",
    "                    rank = np.argsort(next_probs)[::-1]\n",
    "                    ret.append(np.argwhere(rank == next_token.item())[0][0]) # grossly inefficient but idc anymore\n",
    "\n",
    "                    generated = torch.cat((generated, next_token), dim=1)\n",
    "    return ret"
   ]
  },
  {
   "cell_type": "code",
   "execution_count": 61,
   "metadata": {},
   "outputs": [
    {
     "name": "stderr",
     "output_type": "stream",
     "text": [
      "100%|██████████| 100/100 [00:02<00:00, 39.03it/s]\n",
      "100%|██████████| 100/100 [00:02<00:00, 40.33it/s]\n",
      "100%|██████████| 100/100 [00:02<00:00, 45.68it/s]\n",
      "100%|██████████| 100/100 [00:02<00:00, 47.01it/s]\n",
      "100%|██████████| 100/100 [00:02<00:00, 40.96it/s]\n",
      "100%|██████████| 100/100 [00:02<00:00, 46.64it/s]\n",
      "100%|██████████| 100/100 [00:02<00:00, 41.04it/s]\n",
      "100%|██████████| 100/100 [00:02<00:00, 43.01it/s]\n",
      "100%|██████████| 100/100 [00:02<00:00, 45.76it/s]\n",
      "100%|██████████| 100/100 [00:02<00:00, 46.00it/s]\n",
      "100%|██████████| 100/100 [00:02<00:00, 46.16it/s]\n",
      "100%|██████████| 100/100 [00:02<00:00, 46.62it/s]\n",
      "100%|██████████| 100/100 [00:02<00:00, 45.75it/s]\n",
      "100%|██████████| 100/100 [00:02<00:00, 46.12it/s]\n",
      "100%|██████████| 100/100 [00:02<00:00, 41.37it/s]\n",
      "100%|██████████| 100/100 [00:02<00:00, 46.51it/s]\n",
      "100%|██████████| 100/100 [00:02<00:00, 45.92it/s]\n",
      "100%|██████████| 100/100 [00:02<00:00, 46.42it/s]\n",
      "100%|██████████| 100/100 [00:02<00:00, 40.76it/s]\n",
      "100%|██████████| 100/100 [00:02<00:00, 47.06it/s]\n",
      "100%|██████████| 100/100 [00:02<00:00, 40.63it/s]\n",
      "100%|██████████| 100/100 [00:02<00:00, 40.97it/s]\n",
      "100%|██████████| 100/100 [00:02<00:00, 46.15it/s]\n",
      "100%|██████████| 100/100 [00:02<00:00, 46.20it/s]\n",
      "100%|██████████| 100/100 [00:02<00:00, 46.06it/s]\n",
      "100%|██████████| 100/100 [00:02<00:00, 46.15it/s]\n",
      "100%|██████████| 100/100 [00:02<00:00, 44.23it/s]\n",
      "100%|██████████| 100/100 [00:02<00:00, 46.61it/s]\n",
      "100%|██████████| 100/100 [00:02<00:00, 46.37it/s]\n",
      "100%|██████████| 100/100 [00:02<00:00, 46.67it/s]\n",
      "100%|██████████| 100/100 [00:02<00:00, 41.29it/s]\n",
      "100%|██████████| 100/100 [00:02<00:00, 46.19it/s]\n",
      "100%|██████████| 100/100 [00:02<00:00, 40.50it/s]\n",
      "100%|██████████| 100/100 [00:02<00:00, 46.56it/s]\n",
      "100%|██████████| 100/100 [00:02<00:00, 46.77it/s]\n",
      "100%|██████████| 100/100 [00:02<00:00, 41.73it/s]\n",
      "100%|██████████| 100/100 [00:02<00:00, 46.67it/s]\n",
      "100%|██████████| 100/100 [00:02<00:00, 46.33it/s]\n",
      "100%|██████████| 100/100 [00:02<00:00, 45.89it/s]\n",
      "100%|██████████| 100/100 [00:02<00:00, 46.52it/s]\n",
      "100%|██████████| 100/100 [00:02<00:00, 42.28it/s]\n",
      "100%|██████████| 100/100 [00:02<00:00, 43.64it/s]\n",
      "100%|██████████| 100/100 [00:02<00:00, 46.84it/s]\n",
      "100%|██████████| 100/100 [00:02<00:00, 46.32it/s]\n",
      "100%|██████████| 100/100 [00:02<00:00, 46.16it/s]\n",
      "100%|██████████| 100/100 [00:02<00:00, 46.09it/s]\n",
      "100%|██████████| 100/100 [00:02<00:00, 42.75it/s]\n",
      "100%|██████████| 100/100 [00:02<00:00, 46.38it/s]\n",
      "100%|██████████| 100/100 [00:02<00:00, 44.33it/s]\n",
      "100%|██████████| 100/100 [00:02<00:00, 44.27it/s]\n",
      "100%|██████████| 100/100 [00:02<00:00, 41.52it/s]\n",
      "100%|██████████| 100/100 [00:02<00:00, 45.71it/s]\n",
      "100%|██████████| 100/100 [00:02<00:00, 46.40it/s]\n",
      "100%|██████████| 100/100 [00:02<00:00, 44.59it/s]\n",
      "100%|██████████| 100/100 [00:02<00:00, 41.52it/s]\n",
      "100%|██████████| 100/100 [00:02<00:00, 46.34it/s]\n",
      "100%|██████████| 100/100 [00:02<00:00, 46.39it/s]\n",
      "100%|██████████| 100/100 [00:02<00:00, 47.04it/s]\n",
      "100%|██████████| 100/100 [00:02<00:00, 43.27it/s]\n",
      "100%|██████████| 100/100 [00:02<00:00, 46.05it/s]\n",
      "100%|██████████| 100/100 [00:02<00:00, 45.95it/s]\n",
      "100%|██████████| 100/100 [00:02<00:00, 39.96it/s]\n",
      "100%|██████████| 100/100 [00:02<00:00, 42.73it/s]\n",
      "100%|██████████| 100/100 [00:02<00:00, 45.78it/s]\n",
      "100%|██████████| 100/100 [00:02<00:00, 40.78it/s]\n",
      "100%|██████████| 100/100 [00:02<00:00, 46.61it/s]\n",
      "100%|██████████| 100/100 [00:02<00:00, 43.06it/s]\n",
      "100%|██████████| 100/100 [00:02<00:00, 46.16it/s]\n",
      "100%|██████████| 100/100 [00:02<00:00, 45.69it/s]\n",
      "100%|██████████| 100/100 [00:02<00:00, 46.76it/s]\n",
      "100%|██████████| 100/100 [00:02<00:00, 46.66it/s]\n",
      "100%|██████████| 100/100 [00:02<00:00, 45.81it/s]\n",
      "100%|██████████| 100/100 [00:02<00:00, 42.32it/s]\n",
      "100%|██████████| 100/100 [00:02<00:00, 45.99it/s]\n",
      "100%|██████████| 100/100 [00:02<00:00, 46.37it/s]\n",
      "100%|██████████| 100/100 [00:02<00:00, 44.05it/s]\n",
      "100%|██████████| 100/100 [00:02<00:00, 45.88it/s]\n",
      "100%|██████████| 100/100 [00:02<00:00, 44.33it/s]\n",
      "100%|██████████| 100/100 [00:02<00:00, 46.60it/s]\n",
      "100%|██████████| 100/100 [00:02<00:00, 45.71it/s]\n",
      "100%|██████████| 100/100 [00:02<00:00, 46.11it/s]\n",
      "100%|██████████| 100/100 [00:02<00:00, 43.55it/s]\n",
      "100%|██████████| 100/100 [00:02<00:00, 46.94it/s]\n",
      "100%|██████████| 100/100 [00:02<00:00, 46.45it/s]\n",
      "100%|██████████| 100/100 [00:02<00:00, 46.99it/s]\n",
      "100%|██████████| 100/100 [00:02<00:00, 42.13it/s]\n",
      "100%|██████████| 100/100 [00:02<00:00, 45.80it/s]\n",
      "100%|██████████| 100/100 [00:02<00:00, 41.52it/s]\n",
      "100%|██████████| 100/100 [00:02<00:00, 43.09it/s]\n",
      "100%|██████████| 100/100 [00:02<00:00, 46.18it/s]\n",
      "100%|██████████| 100/100 [00:02<00:00, 43.64it/s]\n",
      "100%|██████████| 100/100 [00:02<00:00, 46.47it/s]\n",
      "100%|██████████| 100/100 [00:02<00:00, 44.19it/s]\n",
      "100%|██████████| 100/100 [00:02<00:00, 36.13it/s]\n",
      "100%|██████████| 100/100 [00:02<00:00, 48.66it/s]\n",
      "100%|██████████| 100/100 [00:02<00:00, 44.49it/s]\n",
      "100%|██████████| 100/100 [00:02<00:00, 43.91it/s]\n",
      "100%|██████████| 100/100 [00:02<00:00, 46.35it/s]\n",
      "100%|██████████| 100/100 [00:02<00:00, 40.97it/s]\n",
      "100%|██████████| 100/100 [00:02<00:00, 46.65it/s]\n"
     ]
    }
   ],
   "source": [
    "file = '../training_data/gbw/training/news1-head100'\n",
    "calibrated_temp_counts = get_counts(file, temperature=0.968)"
   ]
  },
  {
   "cell_type": "code",
   "execution_count": 42,
   "metadata": {},
   "outputs": [],
   "source": [
    "yeet = test.resample(size=100)"
   ]
  },
  {
   "cell_type": "code",
   "execution_count": 43,
   "metadata": {},
   "outputs": [
    {
     "data": {
      "text/plain": [
       "(array([23., 16.,  4.,  4.,  7.,  7., 11.,  5., 10., 13.]),\n",
       " array([-0.08541767,  0.02607871,  0.13757508,  0.24907146,  0.36056784,\n",
       "         0.47206422,  0.5835606 ,  0.69505698,  0.80655336,  0.91804974,\n",
       "         1.02954612]),\n",
       " <a list of 10 Patch objects>)"
      ]
     },
     "execution_count": 43,
     "metadata": {},
     "output_type": "execute_result"
    },
    {
     "data": {
      "image/png": "[encoded data removed]",
      "text/plain": [
       "<Figure size 432x288 with 1 Axes>"
      ]
     },
     "metadata": {
      "needs_background": "light"
     },
     "output_type": "display_data"
    }
   ],
   "source": [
    "plt.hist(yeet[0])"
   ]
  },
  {
   "cell_type": "code",
   "execution_count": 46,
   "metadata": {},
   "outputs": [
    {
     "data": {
      "text/plain": [
       "array([ 0.6167773 , -0.02634005,  0.06288728,  0.1403665 ,  0.5082095 ,\n",
       "        0.7257506 ,  0.01780686, -0.03638509,  0.55196207,  0.83470043,\n",
       "        0.90546569,  0.64649231,  0.20783778,  0.09517658,  0.05331925,\n",
       "        0.42877569,  0.01541445, -0.01880571,  0.90822012, -0.01974999,\n",
       "        0.01801012, -0.01922155,  0.89315798,  0.09475982,  0.93201274,\n",
       "       -0.01488577,  0.0548457 ,  0.37174643,  0.45669559,  0.17635546,\n",
       "       -0.08541767,  0.58578857,  0.65293729,  0.85498646,  1.01450289,\n",
       "        0.95401274,  1.00889553,  0.58400763,  0.10797469,  0.34730276,\n",
       "        0.62705767,  0.49494964,  0.96693654, -0.01896145,  0.02889191,\n",
       "        0.10367658,  0.82346355,  0.0113334 ,  0.41887621, -0.03880267,\n",
       "        0.03791194, -0.03908756,  0.72345343, -0.02180915,  0.27289542,\n",
       "        0.25831896,  0.04737258,  0.84632256, -0.0123221 ,  0.94049572,\n",
       "       -0.02028579,  0.99708784,  0.61877842,  0.69147048,  0.67336837,\n",
       "        1.02954612,  0.98891752,  0.41666278,  0.73206897,  0.60067368,\n",
       "       -0.08121381,  0.06830724,  0.0298774 ,  0.54274737,  0.57526264,\n",
       "       -0.05138821,  0.92032425,  0.53716484,  0.00499481,  0.95335945,\n",
       "        0.02196219,  0.84163811,  0.8058902 ,  0.96264254,  0.90011365,\n",
       "        0.64944258,  0.54199785,  0.43633394, -0.04518394,  0.32279177,\n",
       "        0.43181888,  0.04995921,  0.22528947,  0.06983707,  0.72347404,\n",
       "        0.08079756,  0.90746213, -0.07555838,  0.03758479,  0.93646045])"
      ]
     },
     "execution_count": 46,
     "metadata": {},
     "output_type": "execute_result"
    }
   ],
   "source": [
    "yeet[0]"
   ]
  },
  {
   "cell_type": "code",
   "execution_count": null,
   "metadata": {},
   "outputs": [],
   "source": [
    "from scipy.stats import zipf"
   ]
  },
  {
   "cell_type": "code",
   "execution_count": 177,
   "metadata": {},
   "outputs": [],
   "source": [
    "np.savez('inv_cdf_2', inv_cdf=inv_cdf, token_ranks=token_ranks)"
   ]
  },
  {
   "cell_type": "markdown",
   "metadata": {},
   "source": [
    "# 2. MLE parameter"
   ]
  },
  {
   "cell_type": "code",
   "execution_count": 3,
   "metadata": {},
   "outputs": [],
   "source": [
    "from scipy.special import zeta\n",
    "from scipy.stats import zipf\n",
    "from scipy.optimize import minimize_scalar"
   ]
  },
  {
   "cell_type": "code",
   "execution_count": 4,
   "metadata": {},
   "outputs": [],
   "source": [
    "def mle(alpha, x):\n",
    "    N = len(x)\n",
    "    return alpha * np.sum(np.log(x + 1)) + N * np.log(zeta(alpha, 1) - zeta(alpha, 50258))"
   ]
  },
  {
   "cell_type": "code",
   "execution_count": 64,
   "metadata": {},
   "outputs": [],
   "source": [
    "token_ranks = np.array(token_ranks)"
   ]
  },
  {
   "cell_type": "code",
   "execution_count": 74,
   "metadata": {},
   "outputs": [
    {
     "name": "stderr",
     "output_type": "stream",
     "text": [
      "/n/fs/pnlp/myhu/miniconda3/lib/python3.7/site-packages/ipykernel_launcher.py:3: RuntimeWarning: invalid value encountered in double_scalars\n",
      "  This is separate from the ipykernel package so we can avoid doing imports until\n"
     ]
    },
    {
     "data": {
      "text/plain": [
       "     fun: 124379.60550690646\n",
       "    nfev: 15\n",
       "     nit: 11\n",
       " success: True\n",
       "       x: 1.2933939167616206"
      ]
     },
     "execution_count": 74,
     "metadata": {},
     "output_type": "execute_result"
    }
   ],
   "source": [
    "minimize_scalar(lambda alpha: mle(alpha, token_ranks))"
   ]
  },
  {
   "cell_type": "code",
   "execution_count": 27,
   "metadata": {},
   "outputs": [],
   "source": [
    "def zipf_pmf(k, alpha, vocab_size):\n",
    "    return ((k + 1) ** -alpha) / (zeta(alpha, 1) - zeta(alpha, vocab_size + 1))"
   ]
  },
  {
   "cell_type": "code",
   "execution_count": 54,
   "metadata": {},
   "outputs": [
    {
     "data": {
      "text/plain": [
       "<matplotlib.legend.Legend at 0x7f1955700710>"
      ]
     },
     "execution_count": 54,
     "metadata": {},
     "output_type": "execute_result"
    },
    {
     "data": {
      "image/png": "[encoded data removed]",
      "text/plain": [
       "<Figure size 432x288 with 1 Axes>"
      ]
     },
     "metadata": {
      "needs_background": "light"
     },
     "output_type": "display_data"
    }
   ],
   "source": [
    "# empirical pmf\n",
    "\n",
    "true_pmf = zipf_pmf(x, 1.3354, 50257)\n",
    "true_pmf = true_pmf / np.sum(true_pmf)\n",
    "empirical_pmf = get_empirical_distribution(full)\n",
    "\n",
    "plt.bar(x[:50], empirical_pmf[:50], label='Empirical pmf', color='C1')\n",
    "plt.plot(x[:50], true_pmf[:50], label='Population pmf, MLE', ls='-.', color='C2', lw=3)\n",
    "plt.xlabel('Token rank')\n",
    "plt.ylabel('$p$')\n",
    "plt.title('Empirical and population pmfs, no heuristic')\n",
    "plt.legend()"
   ]
  },
  {
   "cell_type": "code",
   "execution_count": 51,
   "metadata": {},
   "outputs": [
    {
     "data": {
      "text/plain": [
       "<matplotlib.legend.Legend at 0x7f19559c12b0>"
      ]
     },
     "execution_count": 51,
     "metadata": {},
     "output_type": "execute_result"
    },
    {
     "data": {
      "image/png": "[encoded data removed]",
      "text/plain": [
       "<Figure size 432x288 with 1 Axes>"
      ]
     },
     "metadata": {
      "needs_background": "light"
     },
     "output_type": "display_data"
    }
   ],
   "source": [
    "true_pmf = zipf_pmf(x, 1.29339, 50257)\n",
    "true_pmf = true_pmf / np.sum(true_pmf)\n",
    "gt = data['ground_truth']\n",
    "empirical_pmf = get_empirical_distribution(gt)\n",
    "\n",
    "plt.bar(x[:50], empirical_pmf[:50], label='Empirical pmf', color='C0')\n",
    "plt.plot(x[:50], true_pmf[:50], label='Population pmf, MLE', ls='-.', color='C3', lw=3)\n",
    "plt.xlabel('Token rank')\n",
    "plt.ylabel('$p$')\n",
    "plt.title('Empirical and population pmfs, validation set')\n",
    "plt.legend()"
   ]
  },
  {
   "cell_type": "code",
   "execution_count": 41,
   "metadata": {},
   "outputs": [
    {
     "data": {
      "text/plain": [
       "array([0.3275, 0.0963, 0.0501, 0.0387, 0.0282, 0.0204, 0.0174, 0.0163,\n",
       "       0.0125, 0.0122])"
      ]
     },
     "execution_count": 41,
     "metadata": {},
     "output_type": "execute_result"
    }
   ],
   "source": [
    "empirical_pmf[:10]"
   ]
  },
  {
   "cell_type": "code",
   "execution_count": 13,
   "metadata": {},
   "outputs": [],
   "source": [
    "x = np.arange(50257)\n",
    "true_pmf = zipf_pmf(x, 1.29339, 0, 50257)\n",
    "true_pmf = true_pmf / np.sum(true_pmf)"
   ]
  },
  {
   "cell_type": "code",
   "execution_count": 36,
   "metadata": {},
   "outputs": [],
   "source": [
    "# load data\n",
    "\n",
    "data = np.load('cache.npz')\n",
    "top_k = data['top_k']\n",
    "greedy = data['greedy']\n",
    "full = data['full']\n",
    "temp = data['temp']"
   ]
  },
  {
   "cell_type": "code",
   "execution_count": 28,
   "metadata": {},
   "outputs": [],
   "source": [
    "# taking the cross entropy losses:\n",
    "\n",
    "def CEL(empirical_pmf, true_pmf):\n",
    "    # empirical_pmf = get_empirical_distribution(counts)\n",
    "    return np.dot(true_pmf, -np.log(empirical_pmf + 1e-20))\n",
    "\n",
    "def get_empirical_distribution(counts):\n",
    "    freqs = np.zeros(vocab_size)\n",
    "    for i in counts:\n",
    "        freqs[i] += 1\n",
    "    return freqs / np.sum(freqs)\n",
    "\n",
    "def truncate_distribution(distr, k):\n",
    "    mass = np.sum(distr[k:])\n",
    "    top_k = distr[:k]\n",
    "    top_k = top_k + mass * top_k / np.sum(top_k)\n",
    "    return np.concatenate((top_k, np.zeros(distr[k:].shape)), axis=None)"
   ]
  },
  {
   "cell_type": "code",
   "execution_count": 122,
   "metadata": {},
   "outputs": [
    {
     "data": {
      "text/plain": [
       "13.92766651477528"
      ]
     },
     "execution_count": 122,
     "metadata": {},
     "output_type": "execute_result"
    }
   ],
   "source": [
    "CEL(top_k, true_pmf)"
   ]
  },
  {
   "cell_type": "code",
   "execution_count": 123,
   "metadata": {},
   "outputs": [
    {
     "data": {
      "text/plain": [
       "34.13437822451482"
      ]
     },
     "execution_count": 123,
     "metadata": {},
     "output_type": "execute_result"
    }
   ],
   "source": [
    "CEL(greedy, true_pmf)"
   ]
  },
  {
   "cell_type": "code",
   "execution_count": 115,
   "metadata": {},
   "outputs": [
    {
     "data": {
      "text/plain": [
       "7.712297159966158"
      ]
     },
     "execution_count": 115,
     "metadata": {},
     "output_type": "execute_result"
    }
   ],
   "source": [
    "CEL(full, true_pmf)"
   ]
  },
  {
   "cell_type": "code",
   "execution_count": 116,
   "metadata": {},
   "outputs": [
    {
     "data": {
      "text/plain": [
       "7.685716492317358"
      ]
     },
     "execution_count": 116,
     "metadata": {},
     "output_type": "execute_result"
    }
   ],
   "source": [
    "CEL(temp, true_pmf)"
   ]
  },
  {
   "cell_type": "code",
   "execution_count": 64,
   "metadata": {},
   "outputs": [
    {
     "data": {
      "text/plain": [
       "4.1997827164516375"
      ]
     },
     "execution_count": 64,
     "metadata": {},
     "output_type": "execute_result"
    }
   ],
   "source": [
    "CEL(true_pmf, true_pmf)"
   ]
  },
  {
   "cell_type": "code",
   "execution_count": 7,
   "metadata": {},
   "outputs": [
    {
     "name": "stderr",
     "output_type": "stream",
     "text": [
      "/n/fs/pnlp/myhu/miniconda3/lib/python3.7/site-packages/ipykernel_launcher.py:3: RuntimeWarning: invalid value encountered in double_scalars\n",
      "  This is separate from the ipykernel package so we can avoid doing imports until\n"
     ]
    },
    {
     "data": {
      "text/plain": [
       "     fun: 41996.653198138076\n",
       "    nfev: 16\n",
       "     nit: 12\n",
       " success: True\n",
       "       x: 1.3354152576441611"
      ]
     },
     "execution_count": 7,
     "metadata": {},
     "output_type": "execute_result"
    }
   ],
   "source": [
    "minimize_scalar(lambda alpha: mle(alpha, full))"
   ]
  },
  {
   "cell_type": "code",
   "execution_count": 10,
   "metadata": {},
   "outputs": [],
   "source": [
    "x = np.arange(50257)\n",
    "alpha = 1.3354\n",
    "full_pmf = zipf_pmf(x, alpha, 0, 50257)\n",
    "full_pmf = full_pmf / np.sum(full_pmf)"
   ]
  },
  {
   "cell_type": "code",
   "execution_count": 59,
   "metadata": {},
   "outputs": [
    {
     "data": {
      "text/plain": [
       "Text(0.5, 1.0, 'Top-$k$ sampling, $k=40$')"
      ]
     },
     "execution_count": 59,
     "metadata": {},
     "output_type": "execute_result"
    },
    {
     "data": {
      "image/png": "[encoded data removed]",
      "text/plain": [
       "<Figure size 432x288 with 1 Axes>"
      ]
     },
     "metadata": {
      "needs_background": "light"
     },
     "output_type": "display_data"
    }
   ],
   "source": [
    "truncated_pmf = truncate_distribution(true_pmf, 40)\n",
    "\n",
    "topk_pmf = get_empirical_distribution(top_k)\n",
    "plt.bar(x[:50], topk_pmf[:50], label='Empirical distribution, $k$=40', color='C4')\n",
    "plt.plot(x[:50], truncated_pmf[:50], label='population pmf, MLE, $k$=40', ls='-.', color='C2', lw=3)\n",
    "plt.xlabel('Token rank')\n",
    "plt.ylabel('$p$')\n",
    "plt.legend()\n",
    "plt.title('Top-$k$ sampling, $k=40$')"
   ]
  },
  {
   "cell_type": "code",
   "execution_count": 45,
   "metadata": {},
   "outputs": [
    {
     "data": {
      "text/plain": [
       "Text(0.5, 1.0, 'Greedy decoding')"
      ]
     },
     "execution_count": 45,
     "metadata": {},
     "output_type": "execute_result"
    },
    {
     "data": {
      "image/png": "[encoded data removed]",
      "text/plain": [
       "<Figure size 432x288 with 1 Axes>"
      ]
     },
     "metadata": {
      "needs_background": "light"
     },
     "output_type": "display_data"
    }
   ],
   "source": [
    "greedy_pmf = get_empirical_distribution(greedy)\n",
    "plt.bar(x[:50], greedy_pmf[:50], color='C4')\n",
    "plt.xlabel('Token rank')\n",
    "plt.ylabel('$p$')\n",
    "plt.title('Greedy decoding')"
   ]
  },
  {
   "cell_type": "code",
   "execution_count": 46,
   "metadata": {},
   "outputs": [
    {
     "data": {
      "text/plain": [
       "Text(0.5, 1.0, 'Temperature scaling, $T=0.8$')"
      ]
     },
     "execution_count": 46,
     "metadata": {},
     "output_type": "execute_result"
    },
    {
     "data": {
      "image/png": "[encoded data removed]",
      "text/plain": [
       "<Figure size 432x288 with 1 Axes>"
      ]
     },
     "metadata": {
      "needs_background": "light"
     },
     "output_type": "display_data"
    }
   ],
   "source": [
    "temp_pmf = get_empirical_distribution(temp)\n",
    "plt.bar(x[:50], temp_pmf[:50], color='C4')\n",
    "plt.xlabel('Token rank')\n",
    "plt.ylabel('$p$')\n",
    "plt.title('Temperature scaling, $T=0.8$')"
   ]
  },
  {
   "cell_type": "code",
   "execution_count": 137,
   "metadata": {},
   "outputs": [
    {
     "data": {
      "text/plain": [
       "13.919730963155779"
      ]
     },
     "execution_count": 137,
     "metadata": {},
     "output_type": "execute_result"
    }
   ],
   "source": [
    "top_k = truncate_distribution(full_pmf, 40)\n",
    "CEL(top_k, true_pmf)"
   ]
  },
  {
   "cell_type": "code",
   "execution_count": 139,
   "metadata": {},
   "outputs": [],
   "source": [
    "vals = np.zeros(vocab_size + 1)\n",
    "for i in range(1, vocab_size + 1):\n",
    "    top_k = truncate_distribution(full_pmf, i)\n",
    "    vals[i] = CEL(top_k, true_pmf)"
   ]
  },
  {
   "cell_type": "code",
   "execution_count": 192,
   "metadata": {},
   "outputs": [
    {
     "data": {
      "text/plain": [
       "Text(0.5, 1.0, 'CEL is monotonically decreasing over $k$')"
      ]
     },
     "execution_count": 192,
     "metadata": {},
     "output_type": "execute_result"
    },
    {
     "data": {
      "image/png": "[encoded data removed]",
      "text/plain": [
       "<Figure size 432x288 with 1 Axes>"
      ]
     },
     "metadata": {
      "needs_background": "light"
     },
     "output_type": "display_data"
    }
   ],
   "source": [
    "plt.plot(vals[1:])\n",
    "plt.ylabel('Cross Entropy Loss')\n",
    "plt.xlabel('$k$')\n",
    "plt.title('CEL is monotonically decreasing over $k$')"
   ]
  },
  {
   "cell_type": "code",
   "execution_count": 155,
   "metadata": {},
   "outputs": [],
   "source": [
    "def minimize_k(true_pmf, full_pmf, vocab_size, threshold=1e-3):\n",
    "    last_loss = float('inf')\n",
    "    min_k = 0\n",
    "    for i in range(1, vocab_size + 1):\n",
    "        top_k = truncate_distribution(full_pmf, i)\n",
    "        loss = CEL(top_k, true_pmf)\n",
    "        if abs(last_loss - loss) < threshold:\n",
    "            print(f'MIN INDEX {i}')\n",
    "            min_k = i\n",
    "            break\n",
    "        if i % 1000 == 999:\n",
    "            print(f'LOSS: {loss}. ITER: {i}')\n",
    "        last_loss = loss\n",
    "    return min_k"
   ]
  },
  {
   "cell_type": "code",
   "execution_count": 157,
   "metadata": {},
   "outputs": [
    {
     "name": "stdout",
     "output_type": "stream",
     "text": [
      "MIN INDEX 202\n"
     ]
    },
    {
     "data": {
      "text/plain": [
       "202"
      ]
     },
     "execution_count": 157,
     "metadata": {},
     "output_type": "execute_result"
    }
   ],
   "source": [
    "minimize_k(true_pmf, full_pmf, vocab_size, threshold=1e-2)"
   ]
  },
  {
   "cell_type": "code",
   "execution_count": 193,
   "metadata": {},
   "outputs": [
    {
     "name": "stdout",
     "output_type": "stream",
     "text": [
      "MIN INDEX 36\n"
     ]
    },
    {
     "data": {
      "text/plain": [
       "36"
      ]
     },
     "execution_count": 193,
     "metadata": {},
     "output_type": "execute_result"
    }
   ],
   "source": [
    "minimize_k(true_pmf, full_pmf, vocab_size, threshold=1e-1)"
   ]
  },
  {
   "cell_type": "code",
   "execution_count": 11,
   "metadata": {},
   "outputs": [],
   "source": [
    "def CEL_temp(true_pmf, full_pmf, t):\n",
    "    scaled_pmf = temp_scaling(t, full_pmf)\n",
    "    return CEL(scaled_pmf, true_pmf)\n",
    "\n",
    "def temp_scaling(t, full_pmf):\n",
    "    logits = np.log(full_pmf) / t\n",
    "    return np.exp(logits) / np.sum(np.exp(logits))"
   ]
  },
  {
   "cell_type": "code",
   "execution_count": 14,
   "metadata": {},
   "outputs": [
    {
     "name": "stderr",
     "output_type": "stream",
     "text": [
      "/n/fs/pnlp/myhu/miniconda3/lib/python3.7/site-packages/ipykernel_launcher.py:6: RuntimeWarning: divide by zero encountered in true_divide\n",
      "  \n",
      "/n/fs/pnlp/myhu/miniconda3/lib/python3.7/site-packages/ipykernel_launcher.py:7: RuntimeWarning: invalid value encountered in true_divide\n",
      "  import sys\n"
     ]
    },
    {
     "data": {
      "text/plain": [
       "     fun: 4.199782716451639\n",
       "    nfev: 15\n",
       "     nit: 11\n",
       " success: True\n",
       "       x: 0.9685412614964904"
      ]
     },
     "execution_count": 14,
     "metadata": {},
     "output_type": "execute_result"
    }
   ],
   "source": [
    "minimize_scalar(lambda temp: CEL_temp(full_pmf, true_pmf, temp))"
   ]
  },
  {
   "cell_type": "code",
   "execution_count": 22,
   "metadata": {},
   "outputs": [
    {
     "data": {
      "text/plain": [
       "[<matplotlib.lines.Line2D at 0x7f1957b7e198>]"
      ]
     },
     "execution_count": 22,
     "metadata": {},
     "output_type": "execute_result"
    },
    {
     "data": {
      "image/png": "[encoded data removed]",
      "text/plain": [
       "<Figure size 432x288 with 1 Axes>"
      ]
     },
     "metadata": {
      "needs_background": "light"
     },
     "output_type": "display_data"
    }
   ],
   "source": [
    "scaled = temp_scaling(0.968, full_pmf)\n",
    "plt.bar(x[:50], full_pmf[:50])\n",
    "plt.plot(x[:50], scaled[:50])"
   ]
  },
  {
   "cell_type": "code",
   "execution_count": 19,
   "metadata": {},
   "outputs": [
    {
     "data": {
      "text/plain": [
       "array([1.50526366e-07, 1.50522366e-07, 1.50518365e-07, 1.50514365e-07,\n",
       "       1.50510366e-07, 1.50506366e-07, 1.50502367e-07, 1.50498367e-07,\n",
       "       1.50494368e-07, 1.50490370e-07])"
      ]
     },
     "execution_count": 19,
     "metadata": {},
     "output_type": "execute_result"
    }
   ],
   "source": [
    "full_pmf[-10:]"
   ]
  },
  {
   "cell_type": "code",
   "execution_count": 18,
   "metadata": {},
   "outputs": [
    {
     "data": {
      "text/plain": [
       "array([1.02339637e-07, 1.02336828e-07, 1.02334018e-07, 1.02331209e-07,\n",
       "       1.02328400e-07, 1.02325591e-07, 1.02322782e-07, 1.02319973e-07,\n",
       "       1.02317164e-07, 1.02314355e-07])"
      ]
     },
     "execution_count": 18,
     "metadata": {},
     "output_type": "execute_result"
    }
   ],
   "source": [
    "scaled[-10:]"
   ]
  },
  {
   "cell_type": "code",
   "execution_count": 170,
   "metadata": {},
   "outputs": [],
   "source": [
    "# proving that my procedure properly scales the logits, the dumb way\n",
    "\n",
    "test = np.array([1,2,3])\n",
    "probs = np.exp(test) / np.sum(np.exp(test))"
   ]
  },
  {
   "cell_type": "code",
   "execution_count": 171,
   "metadata": {},
   "outputs": [
    {
     "data": {
      "text/plain": [
       "array([0.09003057, 0.24472847, 0.66524096])"
      ]
     },
     "execution_count": 171,
     "metadata": {},
     "output_type": "execute_result"
    }
   ],
   "source": [
    "probs"
   ]
  },
  {
   "cell_type": "code",
   "execution_count": 172,
   "metadata": {},
   "outputs": [
    {
     "data": {
      "text/plain": [
       "array([-2.40760596, -1.40760596, -0.40760596])"
      ]
     },
     "execution_count": 172,
     "metadata": {},
     "output_type": "execute_result"
    }
   ],
   "source": [
    "np.log(probs)"
   ]
  },
  {
   "cell_type": "code",
   "execution_count": 173,
   "metadata": {},
   "outputs": [
    {
     "data": {
      "text/plain": [
       "array([0.0599778 , 0.20934308, 0.73067913])"
      ]
     },
     "execution_count": 173,
     "metadata": {},
     "output_type": "execute_result"
    }
   ],
   "source": [
    "scaled = test / 0.8\n",
    "scaled_probs = np.exp(scaled) / np.sum(np.exp(scaled))\n",
    "scaled_probs"
   ]
  },
  {
   "cell_type": "code",
   "execution_count": 174,
   "metadata": {},
   "outputs": [
    {
     "data": {
      "text/plain": [
       "array([0.0599778 , 0.20934308, 0.73067913])"
      ]
     },
     "execution_count": 174,
     "metadata": {},
     "output_type": "execute_result"
    }
   ],
   "source": [
    "scaled_2 = np.log(probs) / 0.8\n",
    "scaled_probs_2 = np.exp(scaled_2) / np.sum(np.exp(scaled_2))\n",
    "scaled_probs_2"
   ]
  },
  {
   "cell_type": "code",
   "execution_count": 24,
   "metadata": {},
   "outputs": [],
   "source": [
    "inv_cdf = np.load('011020_inv_cdf_token_ranks.npz')['ranks']"
   ]
  },
  {
   "cell_type": "code",
   "execution_count": 29,
   "metadata": {},
   "outputs": [],
   "source": [
    "emp_inv_cdf = get_empirical_distribution(inv_cdf)"
   ]
  },
  {
   "cell_type": "code",
   "execution_count": 30,
   "metadata": {},
   "outputs": [
    {
     "data": {
      "text/plain": [
       "7.694310510475514"
      ]
     },
     "execution_count": 30,
     "metadata": {},
     "output_type": "execute_result"
    }
   ],
   "source": [
    "CEL(emp_inv_cdf, true_pmf)"
   ]
  },
  {
   "cell_type": "code",
   "execution_count": 62,
   "metadata": {},
   "outputs": [
    {
     "data": {
      "text/plain": [
       "6.886748274635498"
      ]
     },
     "execution_count": 62,
     "metadata": {},
     "output_type": "execute_result"
    }
   ],
   "source": [
    "emp_distr = get_empirical_distribution(calibrated_temp_counts)\n",
    "CEL(emp_distr, true_pmf)"
   ]
  },
  {
   "cell_type": "code",
   "execution_count": null,
   "metadata": {},
   "outputs": [],
   "source": []
  }
 ],
 "metadata": {
  "kernelspec": {
   "display_name": "Python 3",
   "language": "python",
   "name": "python3"
  },
  "language_info": {
   "codemirror_mode": {
    "name": "ipython",
    "version": 3
   },
   "file_extension": ".py",
   "mimetype": "text/x-python",
   "name": "python",
   "nbconvert_exporter": "python",
   "pygments_lexer": "ipython3",
   "version": "3.7.3"
  }
 },
 "nbformat": 4,
 "nbformat_minor": 2
}
