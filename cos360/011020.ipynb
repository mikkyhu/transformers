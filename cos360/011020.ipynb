{
 "cells": [
  {
   "cell_type": "code",
   "execution_count": 5,
   "metadata": {},
   "outputs": [],
   "source": [
    "import os\n",
    "os.environ['CUDA_LAUNCH_BLOCKING'] = \"1\"\n",
    "import sys\n",
    "sys.path.append('../examples')\n",
    "sys.path.append('../jobs')\n",
    "sys.path.append('../training_data')\n",
    "\n",
    "from tqdm import trange\n",
    "\n",
    "import torch\n",
    "import torch.nn.functional as F\n",
    "import torch.optim as optim\n",
    "import numpy as np\n",
    "import matplotlib.pyplot as plt\n",
    "from scipy.stats import gaussian_kde\n",
    "\n",
    "from transformers import GPT2LMHeadModel, GPT2Tokenizer, GPT2Config\n",
    "from generate_with_calibration import get_lookahead_entropies\n",
    "from generate_with_entropy import sample_sequence, sample_sequence_batch, top_k_top_p_filtering\n",
    "\n",
    "import logging\n",
    "logging.getLogger('transformers.tokenization_utils').setLevel(logging.ERROR)"
   ]
  },
  {
   "cell_type": "code",
   "execution_count": 6,
   "metadata": {},
   "outputs": [
    {
     "name": "stderr",
     "output_type": "stream",
     "text": [
      "01/11/2020 11:52:55 - INFO - transformers.configuration_utils -   loading configuration file https://s3.amazonaws.com/models.huggingface.co/bert/gpt2-config.json from cache at /u/myhu/.cache/torch/transformers/4be02c5697d91738003fb1685c9872f284166aa32e061576bbe6aaeb95649fcf.085d5f6a8e7812ea05ff0e6ed0645ab2e75d80387ad55c1ad9806ee70d272f80\n",
      "01/11/2020 11:52:55 - INFO - transformers.configuration_utils -   Model config {\n",
      "  \"attn_pdrop\": 0.1,\n",
      "  \"embd_pdrop\": 0.1,\n",
      "  \"finetuning_task\": null,\n",
      "  \"initializer_range\": 0.02,\n",
      "  \"is_decoder\": false,\n",
      "  \"layer_norm_epsilon\": 1e-05,\n",
      "  \"n_ctx\": 1024,\n",
      "  \"n_embd\": 768,\n",
      "  \"n_head\": 12,\n",
      "  \"n_layer\": 12,\n",
      "  \"n_positions\": 1024,\n",
      "  \"num_labels\": 1,\n",
      "  \"output_attentions\": false,\n",
      "  \"output_hidden_states\": false,\n",
      "  \"output_past\": true,\n",
      "  \"pruned_heads\": {},\n",
      "  \"resid_pdrop\": 0.1,\n",
      "  \"summary_activation\": null,\n",
      "  \"summary_first_dropout\": 0.1,\n",
      "  \"summary_proj_to_labels\": true,\n",
      "  \"summary_type\": \"cls_index\",\n",
      "  \"summary_use_proj\": true,\n",
      "  \"torchscript\": false,\n",
      "  \"use_bfloat16\": false,\n",
      "  \"vocab_size\": 50257\n",
      "}\n",
      "\n",
      "01/11/2020 11:52:55 - INFO - transformers.modeling_utils -   loading weights file https://s3.amazonaws.com/models.huggingface.co/bert/gpt2-pytorch_model.bin from cache at /u/myhu/.cache/torch/transformers/4295d67f022061768f4adc386234dbdb781c814c39662dd1662221c309962c55.778cf36f5c4e5d94c8cd9cefcf2a580c8643570eb327f0d4a1f007fab2acbdf1\n"
     ]
    }
   ],
   "source": [
    "# setup cell\n",
    "\n",
    "def set_seed(seed=42, n_gpu=0):\n",
    "    np.random.seed(seed)\n",
    "    torch.manual_seed(seed)\n",
    "    if n_gpu > 0:\n",
    "        torch.cuda.manual_seed_all(args.seed)\n",
    "\n",
    "device = torch.device(\"cuda\" if torch.cuda.is_available() else \"cpu\")\n",
    "n_gpus = torch.cuda.device_count()\n",
    "\n",
    "set_seed()\n",
    "tokenizer = GPT2Tokenizer.from_pretrained('gpt2')\n",
    "model = GPT2LMHeadModel.from_pretrained('gpt2')\n",
    "model.to(device)\n",
    "model.eval()\n",
    "\n",
    "vocab_size = tokenizer.vocab_size"
   ]
  },
  {
   "cell_type": "code",
   "execution_count": 7,
   "metadata": {},
   "outputs": [],
   "source": [
    "def calibrated_generation(file, length=100, num_samples=1, temperature=1, top_k=0, top_p=0.0):\n",
    "    ret = []\n",
    "    with open(file) as fp:\n",
    "        for line in fp:\n",
    "            context = tokenizer.encode(line)\n",
    "            context = torch.tensor(context, dtype=torch.long, device=device)\n",
    "            context = context.unsqueeze(0).repeat(num_samples, 1)\n",
    "            generated = context\n",
    "\n",
    "            with torch.no_grad():\n",
    "\n",
    "                for gen_index in trange(length):\n",
    "\n",
    "                    inputs = {'input_ids': generated}\n",
    "\n",
    "                    outputs = model(**inputs)\n",
    "                    next_token_logits = outputs[0][:, -1, :] / temperature\n",
    "                    next_probs = F.softmax(next_token_logits, dim=-1)[0].detach().cpu().numpy()\n",
    "\n",
    "                    filtered_logits = top_k_top_p_filtering(next_token_logits, top_k=top_k, top_p=top_p)\n",
    "                    next_token = torch.multinomial(F.softmax(filtered_logits, dim=-1), num_samples=1)\n",
    "                    rank = np.argsort(next_probs)[::-1]\n",
    "                    ret.append(np.argwhere(rank == next_token.item())[0][0]) # grossly inefficient but idc anymore\n",
    "\n",
    "                    generated = torch.cat((generated, next_token), dim=1)\n",
    "    return ret"
   ]
  },
  {
   "cell_type": "code",
   "execution_count": 8,
   "metadata": {},
   "outputs": [],
   "source": [
    "inv_cdf = np.load('inv_cdf.npz')['inv_cdf']"
   ]
  },
  {
   "cell_type": "code",
   "execution_count": 9,
   "metadata": {},
   "outputs": [],
   "source": [
    "test = gaussian_kde(inv_cdf)"
   ]
  },
  {
   "cell_type": "code",
   "execution_count": 14,
   "metadata": {},
   "outputs": [
    {
     "name": "stderr",
     "output_type": "stream",
     "text": [
      "100%|██████████| 100/100 [00:02<00:00, 43.35it/s]\n"
     ]
    }
   ],
   "source": [
    "context = \"Models of Cognition is a great class.\"\n",
    "length = 100\n",
    "\n",
    "context = tokenizer.encode(context)\n",
    "context = torch.tensor(context, dtype=torch.long, device=device)\n",
    "context = context.unsqueeze(0).repeat(1, 1)\n",
    "generated = context\n",
    "\n",
    "def sample(kde):\n",
    "    val = float('inf')\n",
    "    while val > 1.0 or val < 0.0:\n",
    "        val = kde.resample(1)[0][0]\n",
    "    return val\n",
    "\n",
    "with torch.no_grad():\n",
    "    for _ in trange(length):\n",
    "        inputs = {'input_ids': generated}\n",
    "\n",
    "        outputs = model(**inputs)\n",
    "        next_token_logits = outputs[0][:, -1, :]\n",
    "        next_probs = F.softmax(next_token_logits, dim=-1)[0].detach().cpu().numpy()\n",
    "\n",
    "        rank = np.argsort(next_probs)[::-1]\n",
    "        cdf = np.cumsum(next_probs[rank])\n",
    "        val = sample(test)\n",
    "\n",
    "        vals = np.argwhere(cdf < val)\n",
    "        if vals.size == 0:\n",
    "            next_token_rank = 0\n",
    "        else:\n",
    "            next_token_rank = vals[-1][0]\n",
    "\n",
    "        next_token = torch.tensor([rank[next_token_rank]], dtype=torch.long, device=device).unsqueeze(0)\n",
    "        generated = torch.cat((generated, next_token), dim=1)"
   ]
  },
  {
   "cell_type": "code",
   "execution_count": 15,
   "metadata": {},
   "outputs": [
    {
     "name": "stdout",
     "output_type": "stream",
     "text": [
      "els of Cognition is a great class. It's a great class for recognizing complex states of mind. I totally agree with Matthew Davies of the Oxford Journal of Psychology and Medical Neuroscience in stating that the brain is over the moon with attention training and intermuscular competition. He obviously has long known about the advantages of attention training because recall speed is crap or hyperreflexia doesn't work. The problem is that self-report test that is very similar to SAT/ED6 also does. Sheffield experts have best theory of mind call 9\n"
     ]
    }
   ],
   "source": [
    "for j in range(len(generated)):\n",
    "    seq = generated[j, len(context):].tolist()\n",
    "    text = tokenizer.decode(seq, clean_up_tokenization_spaces=True)\n",
    "    print(text)"
   ]
  },
  {
   "cell_type": "code",
   "execution_count": 17,
   "metadata": {},
   "outputs": [],
   "source": [
    "def get_calibrated_counts(file, length=100, num_samples=1):\n",
    "    ret = []\n",
    "    with open(file) as fp:\n",
    "        for line in fp:\n",
    "            context = tokenizer.encode(line)\n",
    "            context = torch.tensor(context, dtype=torch.long, device=device)\n",
    "            context = context.unsqueeze(0).repeat(num_samples, 1)\n",
    "            generated = context\n",
    "\n",
    "            with torch.no_grad():\n",
    "\n",
    "                for gen_index in trange(length):\n",
    "\n",
    "                    inputs = {'input_ids': generated}\n",
    "\n",
    "                    outputs = model(**inputs)\n",
    "                    next_token_logits = outputs[0][:, -1, :]\n",
    "                    next_probs = F.softmax(next_token_logits, dim=-1)[0].detach().cpu().numpy()\n",
    "\n",
    "                    rank = np.argsort(next_probs)[::-1]\n",
    "                    cdf = np.cumsum(next_probs[rank])\n",
    "                    val = sample(test)\n",
    "\n",
    "                    vals = np.argwhere(cdf < val)\n",
    "                    if vals.size == 0:\n",
    "                        next_token_rank = 0\n",
    "                    else:\n",
    "                        next_token_rank = vals[-1][0]\n",
    "                    \n",
    "                    ret.append(next_token_rank)\n",
    "                    next_token = torch.tensor([rank[next_token_rank]], dtype=torch.long, device=device).unsqueeze(0)\n",
    "                    generated = torch.cat((generated, next_token), dim=1)\n",
    "    return ret"
   ]
  },
  {
   "cell_type": "code",
   "execution_count": 12,
   "metadata": {},
   "outputs": [],
   "source": [
    "file = '../training_data/gbw/training/news1-head100'"
   ]
  },
  {
   "cell_type": "code",
   "execution_count": 18,
   "metadata": {},
   "outputs": [
    {
     "name": "stderr",
     "output_type": "stream",
     "text": [
      "100%|██████████| 100/100 [00:02<00:00, 31.36it/s]\n",
      "100%|██████████| 100/100 [00:03<00:00, 31.64it/s]\n",
      "100%|██████████| 100/100 [00:02<00:00, 33.47it/s]\n",
      "100%|██████████| 100/100 [00:02<00:00, 33.94it/s]\n",
      "100%|██████████| 100/100 [00:02<00:00, 32.06it/s]\n",
      "100%|██████████| 100/100 [00:02<00:00, 33.92it/s]\n",
      "100%|██████████| 100/100 [00:02<00:00, 32.25it/s]\n",
      "100%|██████████| 100/100 [00:02<00:00, 32.74it/s]\n",
      "100%|██████████| 100/100 [00:02<00:00, 34.13it/s]\n",
      "100%|██████████| 100/100 [00:02<00:00, 33.58it/s]\n",
      "100%|██████████| 100/100 [00:02<00:00, 33.97it/s]\n",
      "100%|██████████| 100/100 [00:02<00:00, 34.47it/s]\n",
      "100%|██████████| 100/100 [00:02<00:00, 33.90it/s]\n",
      "100%|██████████| 100/100 [00:02<00:00, 34.00it/s]\n",
      "100%|██████████| 100/100 [00:02<00:00, 31.99it/s]\n",
      "100%|██████████| 100/100 [00:02<00:00, 33.61it/s]\n",
      "100%|██████████| 100/100 [00:02<00:00, 33.94it/s]\n",
      "100%|██████████| 100/100 [00:02<00:00, 33.72it/s]\n",
      "100%|██████████| 100/100 [00:02<00:00, 31.19it/s]\n",
      "100%|██████████| 100/100 [00:02<00:00, 33.83it/s]\n",
      "100%|██████████| 100/100 [00:03<00:00, 31.30it/s]\n",
      "100%|██████████| 100/100 [00:02<00:00, 31.55it/s]\n",
      "100%|██████████| 100/100 [00:02<00:00, 33.88it/s]\n",
      "100%|██████████| 100/100 [00:02<00:00, 34.03it/s]\n",
      "100%|██████████| 100/100 [00:02<00:00, 33.97it/s]\n",
      "100%|██████████| 100/100 [00:02<00:00, 34.52it/s]\n",
      "100%|██████████| 100/100 [00:02<00:00, 33.43it/s]\n",
      "100%|██████████| 100/100 [00:02<00:00, 33.94it/s]\n",
      "100%|██████████| 100/100 [00:02<00:00, 34.67it/s]\n",
      "100%|██████████| 100/100 [00:02<00:00, 33.84it/s]\n",
      "100%|██████████| 100/100 [00:02<00:00, 31.87it/s]\n",
      "100%|██████████| 100/100 [00:02<00:00, 34.10it/s]\n",
      "100%|██████████| 100/100 [00:02<00:00, 31.73it/s]\n",
      "100%|██████████| 100/100 [00:02<00:00, 34.08it/s]\n",
      "100%|██████████| 100/100 [00:02<00:00, 34.33it/s]\n",
      "100%|██████████| 100/100 [00:02<00:00, 32.77it/s]\n",
      "100%|██████████| 100/100 [00:02<00:00, 33.96it/s]\n",
      "100%|██████████| 100/100 [00:02<00:00, 34.46it/s]\n",
      "100%|██████████| 100/100 [00:02<00:00, 33.94it/s]\n",
      "100%|██████████| 100/100 [00:02<00:00, 33.94it/s]\n",
      "100%|██████████| 100/100 [00:02<00:00, 32.97it/s]\n",
      "100%|██████████| 100/100 [00:02<00:00, 33.56it/s]\n",
      "100%|██████████| 100/100 [00:02<00:00, 34.42it/s]\n",
      "100%|██████████| 100/100 [00:02<00:00, 34.48it/s]\n",
      "100%|██████████| 100/100 [00:02<00:00, 33.84it/s]\n",
      "100%|██████████| 100/100 [00:02<00:00, 34.18it/s]\n",
      "100%|██████████| 100/100 [00:02<00:00, 32.46it/s]\n",
      "100%|██████████| 100/100 [00:02<00:00, 33.90it/s]\n",
      "100%|██████████| 100/100 [00:02<00:00, 34.49it/s]\n",
      "100%|██████████| 100/100 [00:02<00:00, 34.19it/s]\n",
      "100%|██████████| 100/100 [00:02<00:00, 32.01it/s]\n",
      "100%|██████████| 100/100 [00:02<00:00, 34.57it/s]\n",
      "100%|██████████| 100/100 [00:02<00:00, 34.17it/s]\n",
      "100%|██████████| 100/100 [00:02<00:00, 34.14it/s]\n",
      "100%|██████████| 100/100 [00:02<00:00, 31.96it/s]\n",
      "100%|██████████| 100/100 [00:02<00:00, 34.18it/s]\n",
      "100%|██████████| 100/100 [00:02<00:00, 34.76it/s]\n",
      "100%|██████████| 100/100 [00:02<00:00, 34.25it/s]\n",
      "100%|██████████| 100/100 [00:02<00:00, 33.32it/s]\n",
      "100%|██████████| 100/100 [00:02<00:00, 33.44it/s]\n",
      "100%|██████████| 100/100 [00:02<00:00, 34.29it/s]\n",
      "100%|██████████| 100/100 [00:03<00:00, 30.85it/s]\n",
      "100%|██████████| 100/100 [00:02<00:00, 32.44it/s]\n",
      "100%|██████████| 100/100 [00:02<00:00, 34.08it/s]\n",
      "100%|██████████| 100/100 [00:02<00:00, 31.53it/s]\n",
      "100%|██████████| 100/100 [00:02<00:00, 34.15it/s]\n",
      "100%|██████████| 100/100 [00:02<00:00, 32.70it/s]\n",
      "100%|██████████| 100/100 [00:02<00:00, 34.13it/s]\n",
      "100%|██████████| 100/100 [00:02<00:00, 33.64it/s]\n",
      "100%|██████████| 100/100 [00:02<00:00, 33.94it/s]\n",
      "100%|██████████| 100/100 [00:02<00:00, 34.01it/s]\n",
      "100%|██████████| 100/100 [00:02<00:00, 34.19it/s]\n",
      "100%|██████████| 100/100 [00:02<00:00, 32.47it/s]\n",
      "100%|██████████| 100/100 [00:02<00:00, 33.99it/s]\n",
      "100%|██████████| 100/100 [00:02<00:00, 34.82it/s]\n",
      "100%|██████████| 100/100 [00:02<00:00, 33.37it/s]\n",
      "100%|██████████| 100/100 [00:02<00:00, 34.41it/s]\n",
      "100%|██████████| 100/100 [00:02<00:00, 33.69it/s]\n",
      "100%|██████████| 100/100 [00:02<00:00, 34.20it/s]\n",
      "100%|██████████| 100/100 [00:02<00:00, 34.40it/s]\n",
      "100%|██████████| 100/100 [00:02<00:00, 34.22it/s]\n",
      "100%|██████████| 100/100 [00:02<00:00, 33.10it/s]\n",
      "100%|██████████| 100/100 [00:02<00:00, 34.25it/s]\n",
      "100%|██████████| 100/100 [00:02<00:00, 34.56it/s]\n",
      "100%|██████████| 100/100 [00:02<00:00, 33.97it/s]\n",
      "100%|██████████| 100/100 [00:02<00:00, 32.73it/s]\n",
      "100%|██████████| 100/100 [00:02<00:00, 33.68it/s]\n",
      "100%|██████████| 100/100 [00:02<00:00, 32.03it/s]\n",
      "100%|██████████| 100/100 [00:02<00:00, 33.31it/s]\n",
      "100%|██████████| 100/100 [00:02<00:00, 34.17it/s]\n",
      "100%|██████████| 100/100 [00:02<00:00, 33.26it/s]\n",
      "100%|██████████| 100/100 [00:02<00:00, 34.45it/s]\n",
      "100%|██████████| 100/100 [00:02<00:00, 33.82it/s]\n",
      "100%|██████████| 100/100 [00:03<00:00, 29.33it/s]\n",
      "100%|██████████| 100/100 [00:02<00:00, 34.41it/s]\n",
      "100%|██████████| 100/100 [00:02<00:00, 34.11it/s]\n",
      "100%|██████████| 100/100 [00:02<00:00, 34.03it/s]\n",
      "100%|██████████| 100/100 [00:02<00:00, 33.99it/s]\n",
      "100%|██████████| 100/100 [00:02<00:00, 31.66it/s]\n",
      "100%|██████████| 100/100 [00:02<00:00, 34.35it/s]\n"
     ]
    }
   ],
   "source": [
    "counts_inv = get_calibrated_counts(file)"
   ]
  },
  {
   "cell_type": "code",
   "execution_count": 20,
   "metadata": {},
   "outputs": [
    {
     "data": {
      "text/plain": [
       "Text(0.5, 1.0, 'Inverse CDF method')"
      ]
     },
     "execution_count": 20,
     "metadata": {},
     "output_type": "execute_result"
    },
    {
     "data": {
      "image/png": "[encoded data removed]",
      "text/plain": [
       "<Figure size 432x288 with 1 Axes>"
      ]
     },
     "metadata": {
      "needs_background": "light"
     },
     "output_type": "display_data"
    }
   ],
   "source": [
    "bins_2 = list(range(0, 50))\n",
    "plt.hist(counts_inv, bins_2)\n",
    "plt.xlabel('Token rank')\n",
    "plt.ylabel('Frequency')\n",
    "plt.title('Inverse CDF method')"
   ]
  },
  {
   "cell_type": "code",
   "execution_count": 30,
   "metadata": {},
   "outputs": [],
   "source": [
    "np.savez('011020_inv_cdf_token_ranks', ranks=counts_inv)"
   ]
  }
 ],
 "metadata": {
  "kernelspec": {
   "display_name": "Python 3",
   "language": "python",
   "name": "python3"
  },
  "language_info": {
   "codemirror_mode": {
    "name": "ipython",
    "version": 3
   },
   "file_extension": ".py",
   "mimetype": "text/x-python",
   "name": "python",
   "nbconvert_exporter": "python",
   "pygments_lexer": "ipython3",
   "version": "3.7.3"
  }
 },
 "nbformat": 4,
 "nbformat_minor": 2
}
