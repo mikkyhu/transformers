{
 "cells": [
  {
   "cell_type": "markdown",
   "metadata": {},
   "source": [
    "# 1. Entropy drift and its relation to sampling from the tail\n",
    "\n",
    "Here, we average the entropy rate behavior over 100 contexts for 5 different sizes."
   ]
  },
  {
   "cell_type": "code",
   "execution_count": 1,
   "metadata": {},
   "outputs": [
    {
     "name": "stderr",
     "output_type": "stream",
     "text": [
      "To use data.metrics please install scikit-learn. See https://scikit-learn.org/stable/index.html\n"
     ]
    }
   ],
   "source": [
    "import os\n",
    "import sys\n",
    "sys.path.append('../examples')\n",
    "sys.path.append('../jobs')\n",
    "sys.path.append('../training_data')\n",
    "\n",
    "from tqdm import trange\n",
    "\n",
    "import torch\n",
    "import torch.nn.functional as F\n",
    "import torch.optim as optim\n",
    "import numpy as np\n",
    "import matplotlib.pyplot as plt\n",
    "\n",
    "from transformers import GPT2LMHeadModel, GPT2Tokenizer, GPT2Config\n",
    "from generate_with_entropy import sample_sequence\n",
    "\n",
    "import logging\n",
    "logging.getLogger('transformers.tokenization_utils').setLevel(logging.ERROR)"
   ]
  },
  {
   "cell_type": "code",
   "execution_count": 2,
   "metadata": {},
   "outputs": [
    {
     "name": "stderr",
     "output_type": "stream",
     "text": [
      "12/27/2019 23:09:19 - INFO - transformers.configuration_utils -   loading configuration file https://s3.amazonaws.com/models.huggingface.co/bert/gpt2-config.json from cache at /u/myhu/.cache/torch/transformers/4be02c5697d91738003fb1685c9872f284166aa32e061576bbe6aaeb95649fcf.085d5f6a8e7812ea05ff0e6ed0645ab2e75d80387ad55c1ad9806ee70d272f80\n",
      "12/27/2019 23:09:19 - INFO - transformers.configuration_utils -   Model config {\n",
      "  \"attn_pdrop\": 0.1,\n",
      "  \"embd_pdrop\": 0.1,\n",
      "  \"finetuning_task\": null,\n",
      "  \"initializer_range\": 0.02,\n",
      "  \"is_decoder\": false,\n",
      "  \"layer_norm_epsilon\": 1e-05,\n",
      "  \"n_ctx\": 1024,\n",
      "  \"n_embd\": 768,\n",
      "  \"n_head\": 12,\n",
      "  \"n_layer\": 12,\n",
      "  \"n_positions\": 1024,\n",
      "  \"num_labels\": 1,\n",
      "  \"output_attentions\": false,\n",
      "  \"output_hidden_states\": false,\n",
      "  \"output_past\": true,\n",
      "  \"pruned_heads\": {},\n",
      "  \"resid_pdrop\": 0.1,\n",
      "  \"summary_activation\": null,\n",
      "  \"summary_first_dropout\": 0.1,\n",
      "  \"summary_proj_to_labels\": true,\n",
      "  \"summary_type\": \"cls_index\",\n",
      "  \"summary_use_proj\": true,\n",
      "  \"torchscript\": false,\n",
      "  \"use_bfloat16\": false,\n",
      "  \"vocab_size\": 50257\n",
      "}\n",
      "\n",
      "12/27/2019 23:09:19 - INFO - transformers.modeling_utils -   loading weights file https://s3.amazonaws.com/models.huggingface.co/bert/gpt2-pytorch_model.bin from cache at /u/myhu/.cache/torch/transformers/4295d67f022061768f4adc386234dbdb781c814c39662dd1662221c309962c55.778cf36f5c4e5d94c8cd9cefcf2a580c8643570eb327f0d4a1f007fab2acbdf1\n"
     ]
    }
   ],
   "source": [
    "# setup cell\n",
    "\n",
    "def set_seed(seed=42, n_gpu=0):\n",
    "    np.random.seed(seed)\n",
    "    torch.manual_seed(seed)\n",
    "    if n_gpu > 0:\n",
    "        torch.cuda.manual_seed_all(args.seed)\n",
    "\n",
    "device = torch.device(\"cuda\" if torch.cuda.is_available() else \"cpu\")\n",
    "n_gpus = torch.cuda.device_count()\n",
    "\n",
    "set_seed()\n",
    "tokenizer = GPT2Tokenizer.from_pretrained('gpt2')\n",
    "model = GPT2LMHeadModel.from_pretrained('gpt2')\n",
    "model.to(device)\n",
    "model.eval()\n",
    "\n",
    "vocab_size = tokenizer.vocab_size"
   ]
  },
  {
   "cell_type": "code",
   "execution_count": 3,
   "metadata": {},
   "outputs": [],
   "source": [
    "# generation, no truncation\n",
    "\n",
    "file = '../training_data/gbw/test/100_lines.txt'\n",
    "length = 100"
   ]
  },
  {
   "cell_type": "code",
   "execution_count": null,
   "metadata": {},
   "outputs": [],
   "source": [
    "# full gen, take 2\n",
    "# dropping the batch size, automating composition of losses. Suppress ranges -- too noisy. just print the seed\n",
    "starting_seed \n",
    "for i in "
   ]
  },
  {
   "cell_type": "code",
   "execution_count": null,
   "metadata": {},
   "outputs": [],
   "source": [
    "# full\n",
    "k = 0\n",
    "\n",
    "set_seed(42)\n",
    "with torch.no_grad():\n",
    "    avg_ents = torch.zeros((1, length), device=device)\n",
    "    i = 0\n",
    "    with open(file) as fp:\n",
    "        for line in fp:\n",
    "            context = tokenizer.encode(line)\n",
    "            _, ents = sample_sequence(\n",
    "                model, \n",
    "                length, \n",
    "                context, \n",
    "                num_samples=64, \n",
    "                temperature=1, \n",
    "                top_k=k, top_p=0.0, is_xlnet=False, device=device)\n",
    "            ents = ents.mean(axis=0)\n",
    "            avg_ents = (avg_ents * i + ents) / (i + 1)\n",
    "            i += 1\n",
    "            \n",
    "set_seed(43)\n",
    "with torch.no_grad():\n",
    "    avg_ents_2 = torch.zeros((1, length), device=device)\n",
    "    i = 0\n",
    "    with open(file) as fp:\n",
    "        for line in fp:\n",
    "            context = tokenizer.encode(line)\n",
    "            _, ents = sample_sequence(\n",
    "                model, \n",
    "                length, \n",
    "                context, \n",
    "                num_samples=64, \n",
    "                temperature=1, \n",
    "                top_k=k, top_p=0.0, is_xlnet=False, device=device)\n",
    "            ents = ents.mean(axis=0)\n",
    "            avg_ents_2 = (avg_ents_2 * i + ents) / (i + 1)\n",
    "            i += 1\n",
    "avg_ents_full = (avg_ents + avg_ents_2) / 2"
   ]
  },
  {
   "cell_type": "code",
   "execution_count": 6,
   "metadata": {},
   "outputs": [],
   "source": [
    "save_ents = np.zeros((5, length))\n",
    "save_ents[0, :] = avg_ents_full.cpu().numpy()[0]"
   ]
  },
  {
   "cell_type": "code",
   "execution_count": 4,
   "metadata": {},
   "outputs": [],
   "source": [
    "save_ents = np.load('cache_2.npz')['save_ents']"
   ]
  },
  {
   "cell_type": "code",
   "execution_count": 5,
   "metadata": {},
   "outputs": [
    {
     "name": "stderr",
     "output_type": "stream",
     "text": [
      "100%|██████████| 100/100 [00:12<00:00,  4.41it/s]\n",
      "100%|██████████| 100/100 [00:19<00:00,  3.28it/s]\n",
      "100%|██████████| 100/100 [00:11<00:00,  4.95it/s]\n",
      "100%|██████████| 100/100 [00:16<00:00,  3.90it/s]\n",
      "100%|██████████| 100/100 [00:13<00:00,  4.38it/s]\n",
      "100%|██████████| 100/100 [00:12<00:00,  4.59it/s]\n",
      "100%|██████████| 100/100 [00:18<00:00,  3.13it/s]\n",
      "100%|██████████| 100/100 [00:16<00:00,  3.57it/s]\n",
      "100%|██████████| 100/100 [00:22<00:00,  2.73it/s]\n",
      "100%|██████████| 100/100 [00:14<00:00,  4.17it/s]\n",
      "100%|██████████| 100/100 [00:13<00:00,  4.49it/s]\n",
      "100%|██████████| 100/100 [00:14<00:00,  4.23it/s]\n",
      "100%|██████████| 100/100 [00:13<00:00,  4.49it/s]\n",
      "100%|██████████| 100/100 [00:11<00:00,  4.88it/s]\n",
      "100%|██████████| 100/100 [00:12<00:00,  4.72it/s]\n",
      "100%|██████████| 100/100 [00:11<00:00,  5.01it/s]\n",
      "100%|██████████| 100/100 [00:14<00:00,  4.31it/s]\n",
      "100%|██████████| 100/100 [00:12<00:00,  4.66it/s]\n",
      "100%|██████████| 100/100 [00:15<00:00,  4.02it/s]\n",
      "100%|██████████| 100/100 [00:16<00:00,  3.62it/s]\n",
      "100%|██████████| 100/100 [00:13<00:00,  4.45it/s]\n",
      "100%|██████████| 100/100 [00:15<00:00,  4.06it/s]\n",
      "100%|██████████| 100/100 [00:15<00:00,  4.12it/s]\n",
      "100%|██████████| 100/100 [00:13<00:00,  4.51it/s]\n",
      "100%|██████████| 100/100 [00:11<00:00,  4.88it/s]\n",
      "100%|██████████| 100/100 [00:14<00:00,  4.23it/s]\n",
      "100%|██████████| 100/100 [00:18<00:00,  3.33it/s]\n",
      "100%|██████████| 100/100 [00:13<00:00,  4.51it/s]\n",
      "100%|██████████| 100/100 [00:13<00:00,  4.38it/s]\n",
      "100%|██████████| 100/100 [00:15<00:00,  3.98it/s]\n",
      "100%|██████████| 100/100 [00:14<00:00,  4.31it/s]\n",
      "100%|██████████| 100/100 [00:13<00:00,  4.51it/s]\n",
      "100%|██████████| 100/100 [00:13<00:00,  4.51it/s]\n",
      "100%|██████████| 100/100 [00:19<00:00,  3.25it/s]\n",
      "100%|██████████| 100/100 [00:12<00:00,  4.61it/s]\n",
      " 61%|██████    | 61/100 [00:12<00:10,  3.70it/s]"
     ]
    },
    {
     "ename": "RuntimeError",
     "evalue": "CUDA out of memory. Tried to allocate 1.69 GiB (GPU 0; 10.73 GiB total capacity; 3.48 GiB already allocated; 1.23 GiB free; 5.21 GiB cached)",
     "output_type": "error",
     "traceback": [
      "\u001b[0;31m---------------------------------------------------------------------------\u001b[0m",
      "\u001b[0;31mRuntimeError\u001b[0m                              Traceback (most recent call last)",
      "\u001b[0;32m<ipython-input-5-8a6c37a53c79>\u001b[0m in \u001b[0;36m<module>\u001b[0;34m\u001b[0m\n\u001b[1;32m     15\u001b[0m                 \u001b[0mnum_samples\u001b[0m\u001b[0;34m=\u001b[0m\u001b[0;36m64\u001b[0m\u001b[0;34m,\u001b[0m\u001b[0;34m\u001b[0m\u001b[0;34m\u001b[0m\u001b[0m\n\u001b[1;32m     16\u001b[0m                 \u001b[0mtemperature\u001b[0m\u001b[0;34m=\u001b[0m\u001b[0;36m1\u001b[0m\u001b[0;34m,\u001b[0m\u001b[0;34m\u001b[0m\u001b[0;34m\u001b[0m\u001b[0m\n\u001b[0;32m---> 17\u001b[0;31m                 top_k=k, top_p=0.0, is_xlnet=False, device=device)\n\u001b[0m\u001b[1;32m     18\u001b[0m             \u001b[0ments\u001b[0m \u001b[0;34m=\u001b[0m \u001b[0ments\u001b[0m\u001b[0;34m.\u001b[0m\u001b[0mmean\u001b[0m\u001b[0;34m(\u001b[0m\u001b[0maxis\u001b[0m\u001b[0;34m=\u001b[0m\u001b[0;36m0\u001b[0m\u001b[0;34m)\u001b[0m\u001b[0;34m\u001b[0m\u001b[0;34m\u001b[0m\u001b[0m\n\u001b[1;32m     19\u001b[0m             \u001b[0mavg_ents\u001b[0m \u001b[0;34m=\u001b[0m \u001b[0;34m(\u001b[0m\u001b[0mavg_ents\u001b[0m \u001b[0;34m*\u001b[0m \u001b[0mi\u001b[0m \u001b[0;34m+\u001b[0m \u001b[0ments\u001b[0m\u001b[0;34m)\u001b[0m \u001b[0;34m/\u001b[0m \u001b[0;34m(\u001b[0m\u001b[0mi\u001b[0m \u001b[0;34m+\u001b[0m \u001b[0;36m1\u001b[0m\u001b[0;34m)\u001b[0m\u001b[0;34m\u001b[0m\u001b[0;34m\u001b[0m\u001b[0m\n",
      "\u001b[0;32m/n/fs/pnlp/myhu/transformers/examples/generate_with_entropy.py\u001b[0m in \u001b[0;36msample_sequence\u001b[0;34m(model, length, context, num_samples, temperature, top_k, top_p, is_xlnet, device)\u001b[0m\n\u001b[1;32m    132\u001b[0m                 \u001b[0minputs\u001b[0m \u001b[0;34m=\u001b[0m \u001b[0;34m{\u001b[0m\u001b[0;34m'input_ids'\u001b[0m\u001b[0;34m:\u001b[0m \u001b[0minput_ids\u001b[0m\u001b[0;34m,\u001b[0m \u001b[0;34m'perm_mask'\u001b[0m\u001b[0;34m:\u001b[0m \u001b[0mperm_mask\u001b[0m\u001b[0;34m,\u001b[0m \u001b[0;34m'target_mapping'\u001b[0m\u001b[0;34m:\u001b[0m \u001b[0mtarget_mapping\u001b[0m\u001b[0;34m}\u001b[0m\u001b[0;34m\u001b[0m\u001b[0;34m\u001b[0m\u001b[0m\n\u001b[1;32m    133\u001b[0m \u001b[0;34m\u001b[0m\u001b[0m\n\u001b[0;32m--> 134\u001b[0;31m             \u001b[0moutputs\u001b[0m \u001b[0;34m=\u001b[0m \u001b[0mmodel\u001b[0m\u001b[0;34m(\u001b[0m\u001b[0;34m**\u001b[0m\u001b[0minputs\u001b[0m\u001b[0;34m)\u001b[0m  \u001b[0;31m# Note: we could also use 'past' with GPT-2/Transfo-XL/XLNet (cached hidden-states)\u001b[0m\u001b[0;34m\u001b[0m\u001b[0;34m\u001b[0m\u001b[0m\n\u001b[0m\u001b[1;32m    135\u001b[0m             \u001b[0mnext_token_logits\u001b[0m \u001b[0;34m=\u001b[0m \u001b[0moutputs\u001b[0m\u001b[0;34m[\u001b[0m\u001b[0;36m0\u001b[0m\u001b[0;34m]\u001b[0m\u001b[0;34m[\u001b[0m\u001b[0;34m:\u001b[0m\u001b[0;34m,\u001b[0m \u001b[0;34m-\u001b[0m\u001b[0;36m1\u001b[0m\u001b[0;34m,\u001b[0m \u001b[0;34m:\u001b[0m\u001b[0;34m]\u001b[0m \u001b[0;34m/\u001b[0m \u001b[0mtemperature\u001b[0m\u001b[0;34m\u001b[0m\u001b[0;34m\u001b[0m\u001b[0m\n\u001b[1;32m    136\u001b[0m             \u001b[0mnext_probs\u001b[0m \u001b[0;34m=\u001b[0m \u001b[0mF\u001b[0m\u001b[0;34m.\u001b[0m\u001b[0msoftmax\u001b[0m\u001b[0;34m(\u001b[0m\u001b[0mnext_token_logits\u001b[0m\u001b[0;34m,\u001b[0m \u001b[0mdim\u001b[0m\u001b[0;34m=\u001b[0m\u001b[0;34m-\u001b[0m\u001b[0;36m1\u001b[0m\u001b[0;34m)\u001b[0m\u001b[0;34m\u001b[0m\u001b[0;34m\u001b[0m\u001b[0m\n",
      "\u001b[0;32m/n/fs/pnlp/myhu/miniconda3/lib/python3.7/site-packages/torch/nn/modules/module.py\u001b[0m in \u001b[0;36m__call__\u001b[0;34m(self, *input, **kwargs)\u001b[0m\n\u001b[1;32m    545\u001b[0m             \u001b[0mresult\u001b[0m \u001b[0;34m=\u001b[0m \u001b[0mself\u001b[0m\u001b[0;34m.\u001b[0m\u001b[0m_slow_forward\u001b[0m\u001b[0;34m(\u001b[0m\u001b[0;34m*\u001b[0m\u001b[0minput\u001b[0m\u001b[0;34m,\u001b[0m \u001b[0;34m**\u001b[0m\u001b[0mkwargs\u001b[0m\u001b[0;34m)\u001b[0m\u001b[0;34m\u001b[0m\u001b[0;34m\u001b[0m\u001b[0m\n\u001b[1;32m    546\u001b[0m         \u001b[0;32melse\u001b[0m\u001b[0;34m:\u001b[0m\u001b[0;34m\u001b[0m\u001b[0;34m\u001b[0m\u001b[0m\n\u001b[0;32m--> 547\u001b[0;31m             \u001b[0mresult\u001b[0m \u001b[0;34m=\u001b[0m \u001b[0mself\u001b[0m\u001b[0;34m.\u001b[0m\u001b[0mforward\u001b[0m\u001b[0;34m(\u001b[0m\u001b[0;34m*\u001b[0m\u001b[0minput\u001b[0m\u001b[0;34m,\u001b[0m \u001b[0;34m**\u001b[0m\u001b[0mkwargs\u001b[0m\u001b[0;34m)\u001b[0m\u001b[0;34m\u001b[0m\u001b[0;34m\u001b[0m\u001b[0m\n\u001b[0m\u001b[1;32m    548\u001b[0m         \u001b[0;32mfor\u001b[0m \u001b[0mhook\u001b[0m \u001b[0;32min\u001b[0m \u001b[0mself\u001b[0m\u001b[0;34m.\u001b[0m\u001b[0m_forward_hooks\u001b[0m\u001b[0;34m.\u001b[0m\u001b[0mvalues\u001b[0m\u001b[0;34m(\u001b[0m\u001b[0;34m)\u001b[0m\u001b[0;34m:\u001b[0m\u001b[0;34m\u001b[0m\u001b[0;34m\u001b[0m\u001b[0m\n\u001b[1;32m    549\u001b[0m             \u001b[0mhook_result\u001b[0m \u001b[0;34m=\u001b[0m \u001b[0mhook\u001b[0m\u001b[0;34m(\u001b[0m\u001b[0mself\u001b[0m\u001b[0;34m,\u001b[0m \u001b[0minput\u001b[0m\u001b[0;34m,\u001b[0m \u001b[0mresult\u001b[0m\u001b[0;34m)\u001b[0m\u001b[0;34m\u001b[0m\u001b[0;34m\u001b[0m\u001b[0m\n",
      "\u001b[0;32m/n/fs/pnlp/myhu/transformers/transformers/modeling_gpt2.py\u001b[0m in \u001b[0;36mforward\u001b[0;34m(self, input_ids, past, attention_mask, token_type_ids, position_ids, head_mask, inputs_embeds, labels)\u001b[0m\n\u001b[1;32m    547\u001b[0m         \u001b[0mhidden_states\u001b[0m \u001b[0;34m=\u001b[0m \u001b[0mtransformer_outputs\u001b[0m\u001b[0;34m[\u001b[0m\u001b[0;36m0\u001b[0m\u001b[0;34m]\u001b[0m\u001b[0;34m\u001b[0m\u001b[0;34m\u001b[0m\u001b[0m\n\u001b[1;32m    548\u001b[0m \u001b[0;34m\u001b[0m\u001b[0m\n\u001b[0;32m--> 549\u001b[0;31m         \u001b[0mlm_logits\u001b[0m \u001b[0;34m=\u001b[0m \u001b[0mself\u001b[0m\u001b[0;34m.\u001b[0m\u001b[0mlm_head\u001b[0m\u001b[0;34m(\u001b[0m\u001b[0mhidden_states\u001b[0m\u001b[0;34m)\u001b[0m\u001b[0;34m\u001b[0m\u001b[0;34m\u001b[0m\u001b[0m\n\u001b[0m\u001b[1;32m    550\u001b[0m \u001b[0;34m\u001b[0m\u001b[0m\n\u001b[1;32m    551\u001b[0m         \u001b[0moutputs\u001b[0m \u001b[0;34m=\u001b[0m \u001b[0;34m(\u001b[0m\u001b[0mlm_logits\u001b[0m\u001b[0;34m,\u001b[0m\u001b[0;34m)\u001b[0m \u001b[0;34m+\u001b[0m \u001b[0mtransformer_outputs\u001b[0m\u001b[0;34m[\u001b[0m\u001b[0;36m1\u001b[0m\u001b[0;34m:\u001b[0m\u001b[0;34m]\u001b[0m\u001b[0;34m\u001b[0m\u001b[0;34m\u001b[0m\u001b[0m\n",
      "\u001b[0;32m/n/fs/pnlp/myhu/miniconda3/lib/python3.7/site-packages/torch/nn/modules/module.py\u001b[0m in \u001b[0;36m__call__\u001b[0;34m(self, *input, **kwargs)\u001b[0m\n\u001b[1;32m    545\u001b[0m             \u001b[0mresult\u001b[0m \u001b[0;34m=\u001b[0m \u001b[0mself\u001b[0m\u001b[0;34m.\u001b[0m\u001b[0m_slow_forward\u001b[0m\u001b[0;34m(\u001b[0m\u001b[0;34m*\u001b[0m\u001b[0minput\u001b[0m\u001b[0;34m,\u001b[0m \u001b[0;34m**\u001b[0m\u001b[0mkwargs\u001b[0m\u001b[0;34m)\u001b[0m\u001b[0;34m\u001b[0m\u001b[0;34m\u001b[0m\u001b[0m\n\u001b[1;32m    546\u001b[0m         \u001b[0;32melse\u001b[0m\u001b[0;34m:\u001b[0m\u001b[0;34m\u001b[0m\u001b[0;34m\u001b[0m\u001b[0m\n\u001b[0;32m--> 547\u001b[0;31m             \u001b[0mresult\u001b[0m \u001b[0;34m=\u001b[0m \u001b[0mself\u001b[0m\u001b[0;34m.\u001b[0m\u001b[0mforward\u001b[0m\u001b[0;34m(\u001b[0m\u001b[0;34m*\u001b[0m\u001b[0minput\u001b[0m\u001b[0;34m,\u001b[0m \u001b[0;34m**\u001b[0m\u001b[0mkwargs\u001b[0m\u001b[0;34m)\u001b[0m\u001b[0;34m\u001b[0m\u001b[0;34m\u001b[0m\u001b[0m\n\u001b[0m\u001b[1;32m    548\u001b[0m         \u001b[0;32mfor\u001b[0m \u001b[0mhook\u001b[0m \u001b[0;32min\u001b[0m \u001b[0mself\u001b[0m\u001b[0;34m.\u001b[0m\u001b[0m_forward_hooks\u001b[0m\u001b[0;34m.\u001b[0m\u001b[0mvalues\u001b[0m\u001b[0;34m(\u001b[0m\u001b[0;34m)\u001b[0m\u001b[0;34m:\u001b[0m\u001b[0;34m\u001b[0m\u001b[0;34m\u001b[0m\u001b[0m\n\u001b[1;32m    549\u001b[0m             \u001b[0mhook_result\u001b[0m \u001b[0;34m=\u001b[0m \u001b[0mhook\u001b[0m\u001b[0;34m(\u001b[0m\u001b[0mself\u001b[0m\u001b[0;34m,\u001b[0m \u001b[0minput\u001b[0m\u001b[0;34m,\u001b[0m \u001b[0mresult\u001b[0m\u001b[0;34m)\u001b[0m\u001b[0;34m\u001b[0m\u001b[0;34m\u001b[0m\u001b[0m\n",
      "\u001b[0;32m/n/fs/pnlp/myhu/miniconda3/lib/python3.7/site-packages/torch/nn/modules/linear.py\u001b[0m in \u001b[0;36mforward\u001b[0;34m(self, input)\u001b[0m\n\u001b[1;32m     85\u001b[0m \u001b[0;34m\u001b[0m\u001b[0m\n\u001b[1;32m     86\u001b[0m     \u001b[0;32mdef\u001b[0m \u001b[0mforward\u001b[0m\u001b[0;34m(\u001b[0m\u001b[0mself\u001b[0m\u001b[0;34m,\u001b[0m \u001b[0minput\u001b[0m\u001b[0;34m)\u001b[0m\u001b[0;34m:\u001b[0m\u001b[0;34m\u001b[0m\u001b[0;34m\u001b[0m\u001b[0m\n\u001b[0;32m---> 87\u001b[0;31m         \u001b[0;32mreturn\u001b[0m \u001b[0mF\u001b[0m\u001b[0;34m.\u001b[0m\u001b[0mlinear\u001b[0m\u001b[0;34m(\u001b[0m\u001b[0minput\u001b[0m\u001b[0;34m,\u001b[0m \u001b[0mself\u001b[0m\u001b[0;34m.\u001b[0m\u001b[0mweight\u001b[0m\u001b[0;34m,\u001b[0m \u001b[0mself\u001b[0m\u001b[0;34m.\u001b[0m\u001b[0mbias\u001b[0m\u001b[0;34m)\u001b[0m\u001b[0;34m\u001b[0m\u001b[0;34m\u001b[0m\u001b[0m\n\u001b[0m\u001b[1;32m     88\u001b[0m \u001b[0;34m\u001b[0m\u001b[0m\n\u001b[1;32m     89\u001b[0m     \u001b[0;32mdef\u001b[0m \u001b[0mextra_repr\u001b[0m\u001b[0;34m(\u001b[0m\u001b[0mself\u001b[0m\u001b[0;34m)\u001b[0m\u001b[0;34m:\u001b[0m\u001b[0;34m\u001b[0m\u001b[0;34m\u001b[0m\u001b[0m\n",
      "\u001b[0;32m/n/fs/pnlp/myhu/miniconda3/lib/python3.7/site-packages/torch/nn/functional.py\u001b[0m in \u001b[0;36mlinear\u001b[0;34m(input, weight, bias)\u001b[0m\n\u001b[1;32m   1369\u001b[0m         \u001b[0mret\u001b[0m \u001b[0;34m=\u001b[0m \u001b[0mtorch\u001b[0m\u001b[0;34m.\u001b[0m\u001b[0maddmm\u001b[0m\u001b[0;34m(\u001b[0m\u001b[0mbias\u001b[0m\u001b[0;34m,\u001b[0m \u001b[0minput\u001b[0m\u001b[0;34m,\u001b[0m \u001b[0mweight\u001b[0m\u001b[0;34m.\u001b[0m\u001b[0mt\u001b[0m\u001b[0;34m(\u001b[0m\u001b[0;34m)\u001b[0m\u001b[0;34m)\u001b[0m\u001b[0;34m\u001b[0m\u001b[0;34m\u001b[0m\u001b[0m\n\u001b[1;32m   1370\u001b[0m     \u001b[0;32melse\u001b[0m\u001b[0;34m:\u001b[0m\u001b[0;34m\u001b[0m\u001b[0;34m\u001b[0m\u001b[0m\n\u001b[0;32m-> 1371\u001b[0;31m         \u001b[0moutput\u001b[0m \u001b[0;34m=\u001b[0m \u001b[0minput\u001b[0m\u001b[0;34m.\u001b[0m\u001b[0mmatmul\u001b[0m\u001b[0;34m(\u001b[0m\u001b[0mweight\u001b[0m\u001b[0;34m.\u001b[0m\u001b[0mt\u001b[0m\u001b[0;34m(\u001b[0m\u001b[0;34m)\u001b[0m\u001b[0;34m)\u001b[0m\u001b[0;34m\u001b[0m\u001b[0;34m\u001b[0m\u001b[0m\n\u001b[0m\u001b[1;32m   1372\u001b[0m         \u001b[0;32mif\u001b[0m \u001b[0mbias\u001b[0m \u001b[0;32mis\u001b[0m \u001b[0;32mnot\u001b[0m \u001b[0;32mNone\u001b[0m\u001b[0;34m:\u001b[0m\u001b[0;34m\u001b[0m\u001b[0;34m\u001b[0m\u001b[0m\n\u001b[1;32m   1373\u001b[0m             \u001b[0moutput\u001b[0m \u001b[0;34m+=\u001b[0m \u001b[0mbias\u001b[0m\u001b[0;34m\u001b[0m\u001b[0;34m\u001b[0m\u001b[0m\n",
      "\u001b[0;31mRuntimeError\u001b[0m: CUDA out of memory. Tried to allocate 1.69 GiB (GPU 0; 10.73 GiB total capacity; 3.48 GiB already allocated; 1.23 GiB free; 5.21 GiB cached)"
     ]
    }
   ],
   "source": [
    "# truncation 1024\n",
    "# if this blows again, move everything to cpu\n",
    "k = 1024\n",
    "\n",
    "set_seed(44)\n",
    "with torch.no_grad():\n",
    "    avg_ents = torch.zeros((1, length), device=device)\n",
    "    i = 0\n",
    "    with open(file) as fp:\n",
    "        for line in fp:\n",
    "            context = tokenizer.encode(line)\n",
    "            _, ents = sample_sequence(\n",
    "                model, \n",
    "                length, \n",
    "                context, \n",
    "                num_samples=64, \n",
    "                temperature=1, \n",
    "                top_k=k, top_p=0.0, is_xlnet=False, device=device)\n",
    "            ents = ents.mean(axis=0)\n",
    "            avg_ents = (avg_ents * i + ents) / (i + 1)\n",
    "            i += 1\n",
    "            \n",
    "set_seed(45)\n",
    "with torch.no_grad():\n",
    "    avg_ents_2 = torch.zeros((1, length), device=device)\n",
    "    i = 0\n",
    "    with open(file) as fp:\n",
    "        for line in fp:\n",
    "            context = tokenizer.encode(line)\n",
    "            _, ents = sample_sequence(\n",
    "                model, \n",
    "                length, \n",
    "                context, \n",
    "                num_samples=64, \n",
    "                temperature=1, \n",
    "                top_k=k, top_p=0.0, is_xlnet=False, device=device)\n",
    "            ents = ents.mean(axis=0)\n",
    "            avg_ents_2 = (avg_ents_2 * i + ents) / (i + 1)\n",
    "            i += 1\n",
    "avg_ents_full = (avg_ents + avg_ents_2) / 2"
   ]
  },
  {
   "cell_type": "code",
   "execution_count": 8,
   "metadata": {},
   "outputs": [],
   "source": [
    "save_ents[1, :] = avg_ents_full.cpu().numpy()[0]"
   ]
  },
  {
   "cell_type": "code",
   "execution_count": 15,
   "metadata": {},
   "outputs": [],
   "source": [
    "np.savez('cache_2', save_ents=save_ents)"
   ]
  },
  {
   "cell_type": "code",
   "execution_count": 10,
   "metadata": {},
   "outputs": [
    {
     "data": {
      "text/plain": [
       "array([[4.31185961, 3.33693194, 4.51721382, 4.22746181, 4.07652855,\n",
       "        4.07654572, 4.04933262, 4.04203129, 4.00703049, 3.97483397,\n",
       "        3.97299147, 3.96232939, 3.99413157, 3.95494509, 3.97300959,\n",
       "        3.97650099, 3.97336912, 3.95903397, 3.97290516, 3.96873665,\n",
       "        3.98324966, 3.92144108, 3.97007489, 3.9660418 , 3.96652889,\n",
       "        3.95652509, 3.96278381, 3.94177628, 3.95645809, 3.96886253,\n",
       "        3.9962821 , 3.93985796, 3.94768047, 3.97047234, 3.95450139,\n",
       "        3.94990396, 3.97080922, 3.98713636, 3.96415949, 3.96079278,\n",
       "        3.93567324, 3.96100235, 3.93544364, 3.95689464, 3.94926214,\n",
       "        3.96196365, 3.98505688, 3.95744181, 3.99474478, 3.97846699,\n",
       "        3.99450397, 3.97286654, 3.99450493, 4.00023222, 3.98600578,\n",
       "        3.97383022, 3.97979736, 3.97337055, 3.97175241, 3.98878384,\n",
       "        3.99025631, 3.98030376, 4.00924206, 4.003932  , 3.97941422,\n",
       "        4.00699949, 4.00141287, 3.99224854, 3.97768927, 3.95859337,\n",
       "        3.98908472, 3.99326324, 4.01350594, 3.997684  , 4.00650024,\n",
       "        4.00767469, 4.03937674, 4.0298667 , 4.03640652, 4.01133156,\n",
       "        4.02003145, 4.01918793, 4.04731178, 4.04555798, 4.03533363,\n",
       "        4.05141211, 4.04561853, 4.04637051, 4.03397274, 4.0306921 ,\n",
       "        4.03892612, 4.02321482, 4.03707886, 4.03568697, 4.04854679,\n",
       "        4.05572653, 4.07028198, 4.04819775, 4.06034899, 4.02834034],\n",
       "       [4.31185961, 3.33693194, 4.51721382, 4.22746181, 4.07652855,\n",
       "        4.07654572, 4.04933262, 4.04203129, 4.00703049, 3.97483397,\n",
       "        3.97299147, 3.96232939, 3.99413157, 3.95494509, 3.97300959,\n",
       "        3.97650099, 3.97336912, 3.95903397, 3.97290516, 3.96873665,\n",
       "        3.98324966, 3.92144108, 3.97007489, 3.9660418 , 3.96652889,\n",
       "        3.95652509, 3.96278381, 3.94177628, 3.95645809, 3.96886253,\n",
       "        3.9962821 , 3.93985796, 3.94768047, 3.97047234, 3.95450139,\n",
       "        3.94990396, 3.97080922, 3.98713636, 3.96415949, 3.96079278,\n",
       "        3.93567324, 3.96100235, 3.93544364, 3.95689464, 3.94926214,\n",
       "        3.96196365, 3.98505688, 3.95744181, 3.99474478, 3.97846699,\n",
       "        3.99450397, 3.97286654, 3.99450493, 4.00023222, 3.98600578,\n",
       "        3.97383022, 3.97979736, 3.97337055, 3.97175241, 3.98878384,\n",
       "        3.99025631, 3.98030376, 4.00924206, 4.003932  , 3.97941422,\n",
       "        4.00699949, 4.00141287, 3.99224854, 3.97768927, 3.95859337,\n",
       "        3.98908472, 3.99326324, 4.01350594, 3.997684  , 4.00650024,\n",
       "        4.00767469, 4.03937674, 4.0298667 , 4.03640652, 4.01133156,\n",
       "        4.02003145, 4.01918793, 4.04731178, 4.04555798, 4.03533363,\n",
       "        4.05141211, 4.04561853, 4.04637051, 4.03397274, 4.0306921 ,\n",
       "        4.03892612, 4.02321482, 4.03707886, 4.03568697, 4.04854679,\n",
       "        4.05572653, 4.07028198, 4.04819775, 4.06034899, 4.02834034],\n",
       "       [0.        , 0.        , 0.        , 0.        , 0.        ,\n",
       "        0.        , 0.        , 0.        , 0.        , 0.        ,\n",
       "        0.        , 0.        , 0.        , 0.        , 0.        ,\n",
       "        0.        , 0.        , 0.        , 0.        , 0.        ,\n",
       "        0.        , 0.        , 0.        , 0.        , 0.        ,\n",
       "        0.        , 0.        , 0.        , 0.        , 0.        ,\n",
       "        0.        , 0.        , 0.        , 0.        , 0.        ,\n",
       "        0.        , 0.        , 0.        , 0.        , 0.        ,\n",
       "        0.        , 0.        , 0.        , 0.        , 0.        ,\n",
       "        0.        , 0.        , 0.        , 0.        , 0.        ,\n",
       "        0.        , 0.        , 0.        , 0.        , 0.        ,\n",
       "        0.        , 0.        , 0.        , 0.        , 0.        ,\n",
       "        0.        , 0.        , 0.        , 0.        , 0.        ,\n",
       "        0.        , 0.        , 0.        , 0.        , 0.        ,\n",
       "        0.        , 0.        , 0.        , 0.        , 0.        ,\n",
       "        0.        , 0.        , 0.        , 0.        , 0.        ,\n",
       "        0.        , 0.        , 0.        , 0.        , 0.        ,\n",
       "        0.        , 0.        , 0.        , 0.        , 0.        ,\n",
       "        0.        , 0.        , 0.        , 0.        , 0.        ,\n",
       "        0.        , 0.        , 0.        , 0.        , 0.        ],\n",
       "       [0.        , 0.        , 0.        , 0.        , 0.        ,\n",
       "        0.        , 0.        , 0.        , 0.        , 0.        ,\n",
       "        0.        , 0.        , 0.        , 0.        , 0.        ,\n",
       "        0.        , 0.        , 0.        , 0.        , 0.        ,\n",
       "        0.        , 0.        , 0.        , 0.        , 0.        ,\n",
       "        0.        , 0.        , 0.        , 0.        , 0.        ,\n",
       "        0.        , 0.        , 0.        , 0.        , 0.        ,\n",
       "        0.        , 0.        , 0.        , 0.        , 0.        ,\n",
       "        0.        , 0.        , 0.        , 0.        , 0.        ,\n",
       "        0.        , 0.        , 0.        , 0.        , 0.        ,\n",
       "        0.        , 0.        , 0.        , 0.        , 0.        ,\n",
       "        0.        , 0.        , 0.        , 0.        , 0.        ,\n",
       "        0.        , 0.        , 0.        , 0.        , 0.        ,\n",
       "        0.        , 0.        , 0.        , 0.        , 0.        ,\n",
       "        0.        , 0.        , 0.        , 0.        , 0.        ,\n",
       "        0.        , 0.        , 0.        , 0.        , 0.        ,\n",
       "        0.        , 0.        , 0.        , 0.        , 0.        ,\n",
       "        0.        , 0.        , 0.        , 0.        , 0.        ,\n",
       "        0.        , 0.        , 0.        , 0.        , 0.        ,\n",
       "        0.        , 0.        , 0.        , 0.        , 0.        ],\n",
       "       [0.        , 0.        , 0.        , 0.        , 0.        ,\n",
       "        0.        , 0.        , 0.        , 0.        , 0.        ,\n",
       "        0.        , 0.        , 0.        , 0.        , 0.        ,\n",
       "        0.        , 0.        , 0.        , 0.        , 0.        ,\n",
       "        0.        , 0.        , 0.        , 0.        , 0.        ,\n",
       "        0.        , 0.        , 0.        , 0.        , 0.        ,\n",
       "        0.        , 0.        , 0.        , 0.        , 0.        ,\n",
       "        0.        , 0.        , 0.        , 0.        , 0.        ,\n",
       "        0.        , 0.        , 0.        , 0.        , 0.        ,\n",
       "        0.        , 0.        , 0.        , 0.        , 0.        ,\n",
       "        0.        , 0.        , 0.        , 0.        , 0.        ,\n",
       "        0.        , 0.        , 0.        , 0.        , 0.        ,\n",
       "        0.        , 0.        , 0.        , 0.        , 0.        ,\n",
       "        0.        , 0.        , 0.        , 0.        , 0.        ,\n",
       "        0.        , 0.        , 0.        , 0.        , 0.        ,\n",
       "        0.        , 0.        , 0.        , 0.        , 0.        ,\n",
       "        0.        , 0.        , 0.        , 0.        , 0.        ,\n",
       "        0.        , 0.        , 0.        , 0.        , 0.        ,\n",
       "        0.        , 0.        , 0.        , 0.        , 0.        ,\n",
       "        0.        , 0.        , 0.        , 0.        , 0.        ]])"
      ]
     },
     "execution_count": 10,
     "metadata": {},
     "output_type": "execute_result"
    }
   ],
   "source": [
    "save_ents"
   ]
  },
  {
   "cell_type": "code",
   "execution_count": 9,
   "metadata": {},
   "outputs": [
    {
     "data": {
      "text/plain": [
       "[<matplotlib.lines.Line2D at 0x7f88b465ef98>]"
      ]
     },
     "execution_count": 9,
     "metadata": {},
     "output_type": "execute_result"
    },
    {
     "data": {
      "image/png": "[encoded data removed]",
      "text/plain": [
       "<Figure size 432x288 with 1 Axes>"
      ]
     },
     "metadata": {
      "needs_background": "light"
     },
     "output_type": "display_data"
    }
   ],
   "source": [
    "plt.plot(np.exp(save_ents[0, :]), label='full')\n",
    "plt.plot(np.exp(save_ents[1, :]), label='top 1024')"
   ]
  },
  {
   "cell_type": "code",
   "execution_count": 5,
   "metadata": {},
   "outputs": [
    {
     "name": "stderr",
     "output_type": "stream",
     "text": [
      "100%|██████████| 100/100 [00:12<00:00,  4.43it/s]\n",
      "100%|██████████| 100/100 [00:19<00:00,  3.27it/s]\n",
      "100%|██████████| 100/100 [00:11<00:00,  4.95it/s]\n",
      "100%|██████████| 100/100 [00:16<00:00,  3.89it/s]\n",
      "100%|██████████| 100/100 [00:13<00:00,  4.38it/s]\n",
      "100%|██████████| 100/100 [00:12<00:00,  4.59it/s]\n",
      "100%|██████████| 100/100 [00:18<00:00,  3.11it/s]\n",
      "100%|██████████| 100/100 [00:16<00:00,  3.57it/s]\n",
      "100%|██████████| 100/100 [00:22<00:00,  2.72it/s]\n",
      "100%|██████████| 100/100 [00:14<00:00,  4.16it/s]\n",
      "100%|██████████| 100/100 [00:13<00:00,  4.49it/s]\n",
      "100%|██████████| 100/100 [00:14<00:00,  4.23it/s]\n",
      "100%|██████████| 100/100 [00:13<00:00,  4.48it/s]\n",
      "100%|██████████| 100/100 [00:11<00:00,  4.88it/s]\n",
      "100%|██████████| 100/100 [00:12<00:00,  4.71it/s]\n",
      "100%|██████████| 100/100 [00:11<00:00,  5.01it/s]\n",
      "100%|██████████| 100/100 [00:14<00:00,  4.31it/s]\n",
      "100%|██████████| 100/100 [00:12<00:00,  4.66it/s]\n",
      "100%|██████████| 100/100 [00:15<00:00,  4.02it/s]\n",
      "100%|██████████| 100/100 [00:16<00:00,  3.62it/s]\n",
      "100%|██████████| 100/100 [00:13<00:00,  4.45it/s]\n",
      "100%|██████████| 100/100 [00:15<00:00,  4.06it/s]\n",
      "100%|██████████| 100/100 [00:15<00:00,  4.12it/s]\n",
      "100%|██████████| 100/100 [00:13<00:00,  4.51it/s]\n",
      "100%|██████████| 100/100 [00:11<00:00,  4.87it/s]\n",
      "100%|██████████| 100/100 [00:14<00:00,  4.23it/s]\n",
      "100%|██████████| 100/100 [00:18<00:00,  3.34it/s]\n",
      "100%|██████████| 100/100 [00:13<00:00,  4.51it/s]\n",
      "100%|██████████| 100/100 [00:13<00:00,  4.37it/s]\n",
      "100%|██████████| 100/100 [00:15<00:00,  3.98it/s]\n",
      "100%|██████████| 100/100 [00:14<00:00,  4.30it/s]\n",
      "100%|██████████| 100/100 [00:13<00:00,  4.51it/s]\n",
      "100%|██████████| 100/100 [00:13<00:00,  4.51it/s]\n",
      "100%|██████████| 100/100 [00:19<00:00,  3.26it/s]\n",
      "100%|██████████| 100/100 [00:12<00:00,  4.61it/s]\n",
      " 61%|██████    | 61/100 [00:12<00:10,  3.70it/s]"
     ]
    },
    {
     "ename": "RuntimeError",
     "evalue": "CUDA out of memory. Tried to allocate 1.69 GiB (GPU 0; 10.73 GiB total capacity; 3.48 GiB already allocated; 1.23 GiB free; 5.21 GiB cached)",
     "output_type": "error",
     "traceback": [
      "\u001b[0;31m---------------------------------------------------------------------------\u001b[0m",
      "\u001b[0;31mRuntimeError\u001b[0m                              Traceback (most recent call last)",
      "\u001b[0;32m<ipython-input-5-f46ec46374a3>\u001b[0m in \u001b[0;36m<module>\u001b[0;34m\u001b[0m\n\u001b[1;32m     15\u001b[0m                 \u001b[0mnum_samples\u001b[0m\u001b[0;34m=\u001b[0m\u001b[0;36m64\u001b[0m\u001b[0;34m,\u001b[0m\u001b[0;34m\u001b[0m\u001b[0;34m\u001b[0m\u001b[0m\n\u001b[1;32m     16\u001b[0m                 \u001b[0mtemperature\u001b[0m\u001b[0;34m=\u001b[0m\u001b[0;36m1\u001b[0m\u001b[0;34m,\u001b[0m\u001b[0;34m\u001b[0m\u001b[0;34m\u001b[0m\u001b[0m\n\u001b[0;32m---> 17\u001b[0;31m                 top_k=k, top_p=0.0, is_xlnet=False, device=device)\n\u001b[0m\u001b[1;32m     18\u001b[0m             \u001b[0ments\u001b[0m \u001b[0;34m=\u001b[0m \u001b[0ments\u001b[0m\u001b[0;34m.\u001b[0m\u001b[0mmean\u001b[0m\u001b[0;34m(\u001b[0m\u001b[0maxis\u001b[0m\u001b[0;34m=\u001b[0m\u001b[0;36m0\u001b[0m\u001b[0;34m)\u001b[0m\u001b[0;34m\u001b[0m\u001b[0;34m\u001b[0m\u001b[0m\n\u001b[1;32m     19\u001b[0m             \u001b[0mavg_ents\u001b[0m \u001b[0;34m=\u001b[0m \u001b[0;34m(\u001b[0m\u001b[0mavg_ents\u001b[0m \u001b[0;34m*\u001b[0m \u001b[0mi\u001b[0m \u001b[0;34m+\u001b[0m \u001b[0ments\u001b[0m\u001b[0;34m)\u001b[0m \u001b[0;34m/\u001b[0m \u001b[0;34m(\u001b[0m\u001b[0mi\u001b[0m \u001b[0;34m+\u001b[0m \u001b[0;36m1\u001b[0m\u001b[0;34m)\u001b[0m\u001b[0;34m\u001b[0m\u001b[0;34m\u001b[0m\u001b[0m\n",
      "\u001b[0;32m/n/fs/pnlp/myhu/transformers/examples/generate_with_entropy.py\u001b[0m in \u001b[0;36msample_sequence\u001b[0;34m(model, length, context, num_samples, temperature, top_k, top_p, is_xlnet, device)\u001b[0m\n\u001b[1;32m    132\u001b[0m                 \u001b[0minputs\u001b[0m \u001b[0;34m=\u001b[0m \u001b[0;34m{\u001b[0m\u001b[0;34m'input_ids'\u001b[0m\u001b[0;34m:\u001b[0m \u001b[0minput_ids\u001b[0m\u001b[0;34m,\u001b[0m \u001b[0;34m'perm_mask'\u001b[0m\u001b[0;34m:\u001b[0m \u001b[0mperm_mask\u001b[0m\u001b[0;34m,\u001b[0m \u001b[0;34m'target_mapping'\u001b[0m\u001b[0;34m:\u001b[0m \u001b[0mtarget_mapping\u001b[0m\u001b[0;34m}\u001b[0m\u001b[0;34m\u001b[0m\u001b[0;34m\u001b[0m\u001b[0m\n\u001b[1;32m    133\u001b[0m \u001b[0;34m\u001b[0m\u001b[0m\n\u001b[0;32m--> 134\u001b[0;31m             \u001b[0moutputs\u001b[0m \u001b[0;34m=\u001b[0m \u001b[0mmodel\u001b[0m\u001b[0;34m(\u001b[0m\u001b[0;34m**\u001b[0m\u001b[0minputs\u001b[0m\u001b[0;34m)\u001b[0m  \u001b[0;31m# Note: we could also use 'past' with GPT-2/Transfo-XL/XLNet (cached hidden-states)\u001b[0m\u001b[0;34m\u001b[0m\u001b[0;34m\u001b[0m\u001b[0m\n\u001b[0m\u001b[1;32m    135\u001b[0m             \u001b[0mnext_token_logits\u001b[0m \u001b[0;34m=\u001b[0m \u001b[0moutputs\u001b[0m\u001b[0;34m[\u001b[0m\u001b[0;36m0\u001b[0m\u001b[0;34m]\u001b[0m\u001b[0;34m[\u001b[0m\u001b[0;34m:\u001b[0m\u001b[0;34m,\u001b[0m \u001b[0;34m-\u001b[0m\u001b[0;36m1\u001b[0m\u001b[0;34m,\u001b[0m \u001b[0;34m:\u001b[0m\u001b[0;34m]\u001b[0m \u001b[0;34m/\u001b[0m \u001b[0mtemperature\u001b[0m\u001b[0;34m\u001b[0m\u001b[0;34m\u001b[0m\u001b[0m\n\u001b[1;32m    136\u001b[0m             \u001b[0mnext_probs\u001b[0m \u001b[0;34m=\u001b[0m \u001b[0mF\u001b[0m\u001b[0;34m.\u001b[0m\u001b[0msoftmax\u001b[0m\u001b[0;34m(\u001b[0m\u001b[0mnext_token_logits\u001b[0m\u001b[0;34m,\u001b[0m \u001b[0mdim\u001b[0m\u001b[0;34m=\u001b[0m\u001b[0;34m-\u001b[0m\u001b[0;36m1\u001b[0m\u001b[0;34m)\u001b[0m\u001b[0;34m\u001b[0m\u001b[0;34m\u001b[0m\u001b[0m\n",
      "\u001b[0;32m/n/fs/pnlp/myhu/miniconda3/lib/python3.7/site-packages/torch/nn/modules/module.py\u001b[0m in \u001b[0;36m__call__\u001b[0;34m(self, *input, **kwargs)\u001b[0m\n\u001b[1;32m    545\u001b[0m             \u001b[0mresult\u001b[0m \u001b[0;34m=\u001b[0m \u001b[0mself\u001b[0m\u001b[0;34m.\u001b[0m\u001b[0m_slow_forward\u001b[0m\u001b[0;34m(\u001b[0m\u001b[0;34m*\u001b[0m\u001b[0minput\u001b[0m\u001b[0;34m,\u001b[0m \u001b[0;34m**\u001b[0m\u001b[0mkwargs\u001b[0m\u001b[0;34m)\u001b[0m\u001b[0;34m\u001b[0m\u001b[0;34m\u001b[0m\u001b[0m\n\u001b[1;32m    546\u001b[0m         \u001b[0;32melse\u001b[0m\u001b[0;34m:\u001b[0m\u001b[0;34m\u001b[0m\u001b[0;34m\u001b[0m\u001b[0m\n\u001b[0;32m--> 547\u001b[0;31m             \u001b[0mresult\u001b[0m \u001b[0;34m=\u001b[0m \u001b[0mself\u001b[0m\u001b[0;34m.\u001b[0m\u001b[0mforward\u001b[0m\u001b[0;34m(\u001b[0m\u001b[0;34m*\u001b[0m\u001b[0minput\u001b[0m\u001b[0;34m,\u001b[0m \u001b[0;34m**\u001b[0m\u001b[0mkwargs\u001b[0m\u001b[0;34m)\u001b[0m\u001b[0;34m\u001b[0m\u001b[0;34m\u001b[0m\u001b[0m\n\u001b[0m\u001b[1;32m    548\u001b[0m         \u001b[0;32mfor\u001b[0m \u001b[0mhook\u001b[0m \u001b[0;32min\u001b[0m \u001b[0mself\u001b[0m\u001b[0;34m.\u001b[0m\u001b[0m_forward_hooks\u001b[0m\u001b[0;34m.\u001b[0m\u001b[0mvalues\u001b[0m\u001b[0;34m(\u001b[0m\u001b[0;34m)\u001b[0m\u001b[0;34m:\u001b[0m\u001b[0;34m\u001b[0m\u001b[0;34m\u001b[0m\u001b[0m\n\u001b[1;32m    549\u001b[0m             \u001b[0mhook_result\u001b[0m \u001b[0;34m=\u001b[0m \u001b[0mhook\u001b[0m\u001b[0;34m(\u001b[0m\u001b[0mself\u001b[0m\u001b[0;34m,\u001b[0m \u001b[0minput\u001b[0m\u001b[0;34m,\u001b[0m \u001b[0mresult\u001b[0m\u001b[0;34m)\u001b[0m\u001b[0;34m\u001b[0m\u001b[0;34m\u001b[0m\u001b[0m\n",
      "\u001b[0;32m/n/fs/pnlp/myhu/transformers/transformers/modeling_gpt2.py\u001b[0m in \u001b[0;36mforward\u001b[0;34m(self, input_ids, past, attention_mask, token_type_ids, position_ids, head_mask, inputs_embeds, labels)\u001b[0m\n\u001b[1;32m    547\u001b[0m         \u001b[0mhidden_states\u001b[0m \u001b[0;34m=\u001b[0m \u001b[0mtransformer_outputs\u001b[0m\u001b[0;34m[\u001b[0m\u001b[0;36m0\u001b[0m\u001b[0;34m]\u001b[0m\u001b[0;34m\u001b[0m\u001b[0;34m\u001b[0m\u001b[0m\n\u001b[1;32m    548\u001b[0m \u001b[0;34m\u001b[0m\u001b[0m\n\u001b[0;32m--> 549\u001b[0;31m         \u001b[0mlm_logits\u001b[0m \u001b[0;34m=\u001b[0m \u001b[0mself\u001b[0m\u001b[0;34m.\u001b[0m\u001b[0mlm_head\u001b[0m\u001b[0;34m(\u001b[0m\u001b[0mhidden_states\u001b[0m\u001b[0;34m)\u001b[0m\u001b[0;34m\u001b[0m\u001b[0;34m\u001b[0m\u001b[0m\n\u001b[0m\u001b[1;32m    550\u001b[0m \u001b[0;34m\u001b[0m\u001b[0m\n\u001b[1;32m    551\u001b[0m         \u001b[0moutputs\u001b[0m \u001b[0;34m=\u001b[0m \u001b[0;34m(\u001b[0m\u001b[0mlm_logits\u001b[0m\u001b[0;34m,\u001b[0m\u001b[0;34m)\u001b[0m \u001b[0;34m+\u001b[0m \u001b[0mtransformer_outputs\u001b[0m\u001b[0;34m[\u001b[0m\u001b[0;36m1\u001b[0m\u001b[0;34m:\u001b[0m\u001b[0;34m]\u001b[0m\u001b[0;34m\u001b[0m\u001b[0;34m\u001b[0m\u001b[0m\n",
      "\u001b[0;32m/n/fs/pnlp/myhu/miniconda3/lib/python3.7/site-packages/torch/nn/modules/module.py\u001b[0m in \u001b[0;36m__call__\u001b[0;34m(self, *input, **kwargs)\u001b[0m\n\u001b[1;32m    545\u001b[0m             \u001b[0mresult\u001b[0m \u001b[0;34m=\u001b[0m \u001b[0mself\u001b[0m\u001b[0;34m.\u001b[0m\u001b[0m_slow_forward\u001b[0m\u001b[0;34m(\u001b[0m\u001b[0;34m*\u001b[0m\u001b[0minput\u001b[0m\u001b[0;34m,\u001b[0m \u001b[0;34m**\u001b[0m\u001b[0mkwargs\u001b[0m\u001b[0;34m)\u001b[0m\u001b[0;34m\u001b[0m\u001b[0;34m\u001b[0m\u001b[0m\n\u001b[1;32m    546\u001b[0m         \u001b[0;32melse\u001b[0m\u001b[0;34m:\u001b[0m\u001b[0;34m\u001b[0m\u001b[0;34m\u001b[0m\u001b[0m\n\u001b[0;32m--> 547\u001b[0;31m             \u001b[0mresult\u001b[0m \u001b[0;34m=\u001b[0m \u001b[0mself\u001b[0m\u001b[0;34m.\u001b[0m\u001b[0mforward\u001b[0m\u001b[0;34m(\u001b[0m\u001b[0;34m*\u001b[0m\u001b[0minput\u001b[0m\u001b[0;34m,\u001b[0m \u001b[0;34m**\u001b[0m\u001b[0mkwargs\u001b[0m\u001b[0;34m)\u001b[0m\u001b[0;34m\u001b[0m\u001b[0;34m\u001b[0m\u001b[0m\n\u001b[0m\u001b[1;32m    548\u001b[0m         \u001b[0;32mfor\u001b[0m \u001b[0mhook\u001b[0m \u001b[0;32min\u001b[0m \u001b[0mself\u001b[0m\u001b[0;34m.\u001b[0m\u001b[0m_forward_hooks\u001b[0m\u001b[0;34m.\u001b[0m\u001b[0mvalues\u001b[0m\u001b[0;34m(\u001b[0m\u001b[0;34m)\u001b[0m\u001b[0;34m:\u001b[0m\u001b[0;34m\u001b[0m\u001b[0;34m\u001b[0m\u001b[0m\n\u001b[1;32m    549\u001b[0m             \u001b[0mhook_result\u001b[0m \u001b[0;34m=\u001b[0m \u001b[0mhook\u001b[0m\u001b[0;34m(\u001b[0m\u001b[0mself\u001b[0m\u001b[0;34m,\u001b[0m \u001b[0minput\u001b[0m\u001b[0;34m,\u001b[0m \u001b[0mresult\u001b[0m\u001b[0;34m)\u001b[0m\u001b[0;34m\u001b[0m\u001b[0;34m\u001b[0m\u001b[0m\n",
      "\u001b[0;32m/n/fs/pnlp/myhu/miniconda3/lib/python3.7/site-packages/torch/nn/modules/linear.py\u001b[0m in \u001b[0;36mforward\u001b[0;34m(self, input)\u001b[0m\n\u001b[1;32m     85\u001b[0m \u001b[0;34m\u001b[0m\u001b[0m\n\u001b[1;32m     86\u001b[0m     \u001b[0;32mdef\u001b[0m \u001b[0mforward\u001b[0m\u001b[0;34m(\u001b[0m\u001b[0mself\u001b[0m\u001b[0;34m,\u001b[0m \u001b[0minput\u001b[0m\u001b[0;34m)\u001b[0m\u001b[0;34m:\u001b[0m\u001b[0;34m\u001b[0m\u001b[0;34m\u001b[0m\u001b[0m\n\u001b[0;32m---> 87\u001b[0;31m         \u001b[0;32mreturn\u001b[0m \u001b[0mF\u001b[0m\u001b[0;34m.\u001b[0m\u001b[0mlinear\u001b[0m\u001b[0;34m(\u001b[0m\u001b[0minput\u001b[0m\u001b[0;34m,\u001b[0m \u001b[0mself\u001b[0m\u001b[0;34m.\u001b[0m\u001b[0mweight\u001b[0m\u001b[0;34m,\u001b[0m \u001b[0mself\u001b[0m\u001b[0;34m.\u001b[0m\u001b[0mbias\u001b[0m\u001b[0;34m)\u001b[0m\u001b[0;34m\u001b[0m\u001b[0;34m\u001b[0m\u001b[0m\n\u001b[0m\u001b[1;32m     88\u001b[0m \u001b[0;34m\u001b[0m\u001b[0m\n\u001b[1;32m     89\u001b[0m     \u001b[0;32mdef\u001b[0m \u001b[0mextra_repr\u001b[0m\u001b[0;34m(\u001b[0m\u001b[0mself\u001b[0m\u001b[0;34m)\u001b[0m\u001b[0;34m:\u001b[0m\u001b[0;34m\u001b[0m\u001b[0;34m\u001b[0m\u001b[0m\n",
      "\u001b[0;32m/n/fs/pnlp/myhu/miniconda3/lib/python3.7/site-packages/torch/nn/functional.py\u001b[0m in \u001b[0;36mlinear\u001b[0;34m(input, weight, bias)\u001b[0m\n\u001b[1;32m   1369\u001b[0m         \u001b[0mret\u001b[0m \u001b[0;34m=\u001b[0m \u001b[0mtorch\u001b[0m\u001b[0;34m.\u001b[0m\u001b[0maddmm\u001b[0m\u001b[0;34m(\u001b[0m\u001b[0mbias\u001b[0m\u001b[0;34m,\u001b[0m \u001b[0minput\u001b[0m\u001b[0;34m,\u001b[0m \u001b[0mweight\u001b[0m\u001b[0;34m.\u001b[0m\u001b[0mt\u001b[0m\u001b[0;34m(\u001b[0m\u001b[0;34m)\u001b[0m\u001b[0;34m)\u001b[0m\u001b[0;34m\u001b[0m\u001b[0;34m\u001b[0m\u001b[0m\n\u001b[1;32m   1370\u001b[0m     \u001b[0;32melse\u001b[0m\u001b[0;34m:\u001b[0m\u001b[0;34m\u001b[0m\u001b[0;34m\u001b[0m\u001b[0m\n\u001b[0;32m-> 1371\u001b[0;31m         \u001b[0moutput\u001b[0m \u001b[0;34m=\u001b[0m \u001b[0minput\u001b[0m\u001b[0;34m.\u001b[0m\u001b[0mmatmul\u001b[0m\u001b[0;34m(\u001b[0m\u001b[0mweight\u001b[0m\u001b[0;34m.\u001b[0m\u001b[0mt\u001b[0m\u001b[0;34m(\u001b[0m\u001b[0;34m)\u001b[0m\u001b[0;34m)\u001b[0m\u001b[0;34m\u001b[0m\u001b[0;34m\u001b[0m\u001b[0m\n\u001b[0m\u001b[1;32m   1372\u001b[0m         \u001b[0;32mif\u001b[0m \u001b[0mbias\u001b[0m \u001b[0;32mis\u001b[0m \u001b[0;32mnot\u001b[0m \u001b[0;32mNone\u001b[0m\u001b[0;34m:\u001b[0m\u001b[0;34m\u001b[0m\u001b[0;34m\u001b[0m\u001b[0m\n\u001b[1;32m   1373\u001b[0m             \u001b[0moutput\u001b[0m \u001b[0;34m+=\u001b[0m \u001b[0mbias\u001b[0m\u001b[0;34m\u001b[0m\u001b[0;34m\u001b[0m\u001b[0m\n",
      "\u001b[0;31mRuntimeError\u001b[0m: CUDA out of memory. Tried to allocate 1.69 GiB (GPU 0; 10.73 GiB total capacity; 3.48 GiB already allocated; 1.23 GiB free; 5.21 GiB cached)"
     ]
    }
   ],
   "source": [
    "# truncation 512\n",
    "k = 512\n",
    "\n",
    "set_seed(46)\n",
    "with torch.no_grad():\n",
    "    avg_ents = torch.zeros((1, length), device=device)\n",
    "    i = 0\n",
    "    with open(file) as fp:\n",
    "        for line in fp:\n",
    "            context = tokenizer.encode(line)\n",
    "            _, ents = sample_sequence(\n",
    "                model, \n",
    "                length, \n",
    "                context, \n",
    "                num_samples=64, \n",
    "                temperature=1, \n",
    "                top_k=k, top_p=0.0, is_xlnet=False, device=device)\n",
    "            ents = ents.mean(axis=0)\n",
    "            avg_ents = (avg_ents * i + ents) / (i + 1)\n",
    "            i += 1\n",
    "            \n",
    "set_seed(47)\n",
    "with torch.no_grad():\n",
    "    avg_ents_2 = torch.zeros((1, length), device=device)\n",
    "    i = 0\n",
    "    with open(file) as fp:\n",
    "        for line in fp:\n",
    "            context = tokenizer.encode(line)\n",
    "            _, ents = sample_sequence(\n",
    "                model, \n",
    "                length, \n",
    "                context, \n",
    "                num_samples=64, \n",
    "                temperature=1, \n",
    "                top_k=k, top_p=0.0, is_xlnet=False, device=device)\n",
    "            ents = ents.mean(axis=0)\n",
    "            avg_ents_2 = (avg_ents_2 * i + ents) / (i + 1)\n",
    "            i += 1\n",
    "avg_ents_full = (avg_ents + avg_ents_2) / 2"
   ]
  },
  {
   "cell_type": "code",
   "execution_count": 10,
   "metadata": {},
   "outputs": [],
   "source": [
    "save_ents[2, :] = avg_ents_full.cpu().numpy()[0]"
   ]
  },
  {
   "cell_type": "code",
   "execution_count": null,
   "metadata": {},
   "outputs": [],
   "source": [
    "# truncation 256\n",
    "k = 256\n",
    "\n",
    "set_seed(48)\n",
    "with torch.no_grad():\n",
    "    avg_ents = torch.zeros((1, length), device=device)\n",
    "    i = 0\n",
    "    with open(file) as fp:\n",
    "        for line in fp:\n",
    "            context = tokenizer.encode(line)\n",
    "            _, ents = sample_sequence(\n",
    "                model, \n",
    "                length, \n",
    "                context, \n",
    "                num_samples=64, \n",
    "                temperature=1, \n",
    "                top_k=k, top_p=0.0, is_xlnet=False, device=device)\n",
    "            ents = ents.mean(axis=0)\n",
    "            avg_ents = (avg_ents * i + ents) / (i + 1)\n",
    "            i += 1\n",
    "            \n",
    "set_seed(49)\n",
    "with torch.no_grad():\n",
    "    avg_ents_2 = torch.zeros((1, length), device=device)\n",
    "    i = 0\n",
    "    with open(file) as fp:\n",
    "        for line in fp:\n",
    "            context = tokenizer.encode(line)\n",
    "            _, ents = sample_sequence(\n",
    "                model, \n",
    "                length, \n",
    "                context, \n",
    "                num_samples=64, \n",
    "                temperature=1, \n",
    "                top_k=k, top_p=0.0, is_xlnet=False, device=device)\n",
    "            ents = ents.mean(axis=0)\n",
    "            avg_ents_2 = (avg_ents_2 * i + ents) / (i + 1)\n",
    "            i += 1\n",
    "avg_ents_full = (avg_ents + avg_ents_2) / 2"
   ]
  },
  {
   "cell_type": "code",
   "execution_count": 34,
   "metadata": {},
   "outputs": [],
   "source": [
    "save_ents[3, :] = avg_ents_full.cpu().numpy()[0]"
   ]
  },
  {
   "cell_type": "code",
   "execution_count": null,
   "metadata": {},
   "outputs": [],
   "source": [
    "# truncation 40\n",
    "k = 40\n",
    "\n",
    "set_seed(50)\n",
    "with torch.no_grad():\n",
    "    avg_ents = torch.zeros((1, length), device=device)\n",
    "    i = 0\n",
    "    with open(file) as fp:\n",
    "        for line in fp:\n",
    "            context = tokenizer.encode(line)\n",
    "            _, ents = sample_sequence(\n",
    "                model, \n",
    "                length, \n",
    "                context, \n",
    "                num_samples=64, \n",
    "                temperature=1, \n",
    "                top_k=k, top_p=0.0, is_xlnet=False, device=device)\n",
    "            ents = ents.mean(axis=0)\n",
    "            avg_ents = (avg_ents * i + ents) / (i + 1)\n",
    "            i += 1\n",
    "            \n",
    "set_seed(51)\n",
    "with torch.no_grad():\n",
    "    avg_ents_2 = torch.zeros((1, length), device=device)\n",
    "    i = 0\n",
    "    with open(file) as fp:\n",
    "        for line in fp:\n",
    "            context = tokenizer.encode(line)\n",
    "            _, ents = sample_sequence(\n",
    "                model, \n",
    "                length, \n",
    "                context, \n",
    "                num_samples=64, \n",
    "                temperature=1, \n",
    "                top_k=k, top_p=0.0, is_xlnet=False, device=device)\n",
    "            ents = ents.mean(axis=0)\n",
    "            avg_ents_2 = (avg_ents_2 * i + ents) / (i + 1)\n",
    "            i += 1\n",
    "avg_ents_full = (avg_ents + avg_ents_2) / 2"
   ]
  },
  {
   "cell_type": "code",
   "execution_count": 29,
   "metadata": {},
   "outputs": [],
   "source": [
    "save_ents[4, :] = avg_ents_full.cpu().numpy()[0]"
   ]
  },
  {
   "cell_type": "code",
   "execution_count": 35,
   "metadata": {},
   "outputs": [],
   "source": [
    "np.savez('cache', save_ents=save_ents)"
   ]
  },
  {
   "cell_type": "code",
   "execution_count": 47,
   "metadata": {},
   "outputs": [
    {
     "data": {
      "text/plain": [
       "array([[4.31185865, 3.33236933, 4.51656342, 4.23932171, 4.07820892,\n",
       "        4.08146477, 4.04546261, 4.01670265, 4.0097208 , 3.95764828,\n",
       "        3.96700048, 3.96233702, 3.999825  , 3.9500165 , 3.96659184,\n",
       "        3.95824432, 3.96486354, 3.96121645, 3.96990204, 3.98448992,\n",
       "        3.98572016, 3.91837978, 3.95293498, 3.9571619 , 3.96269131,\n",
       "        3.95217609, 3.98786521, 3.94952822, 3.95374918, 3.97609973,\n",
       "        4.00478458, 3.93583298, 3.94901752, 3.96420622, 3.94720221,\n",
       "        3.96554565, 3.95400023, 3.99887729, 3.95861864, 3.94923186,\n",
       "        3.93309951, 3.95949841, 3.92410254, 3.96769714, 3.94709086,\n",
       "        3.9486022 , 3.98841047, 3.95967293, 3.99752092, 3.99116397,\n",
       "        4.00409317, 3.99021268, 4.00709534, 4.02053404, 3.99199438,\n",
       "        3.99055457, 4.00378275, 3.9806366 , 3.98483372, 3.99605775,\n",
       "        4.00193501, 3.98569608, 4.00716686, 3.99144888, 3.98174953,\n",
       "        3.98049283, 4.00566387, 4.01302671, 4.00155783, 3.97523928,\n",
       "        3.97395897, 3.98791957, 4.037817  , 3.99193668, 4.02311754,\n",
       "        4.0139389 , 4.04435158, 4.0413456 , 4.04708672, 4.03927422,\n",
       "        4.05057621, 4.01230812, 4.0532465 , 4.04119253, 4.06485939,\n",
       "        4.06146622, 4.05986023, 4.01900959, 4.02826834, 4.03292179,\n",
       "        4.02821445, 4.02888823, 4.03456783, 4.03846788, 4.05019426,\n",
       "        4.02599716, 4.05435848, 4.04678726, 4.06843662, 4.05811691],\n",
       "       [3.75643229, 2.84954262, 4.03382492, 3.71602154, 3.58577633,\n",
       "        3.54555368, 3.50803208, 3.51943636, 3.51649165, 3.48727322,\n",
       "        3.4853344 , 3.47321796, 3.47056913, 3.44507241, 3.46263504,\n",
       "        3.45124483, 3.45658684, 3.43782949, 3.4553113 , 3.45278358,\n",
       "        3.44495702, 3.45109797, 3.43365288, 3.4366653 , 3.42315507,\n",
       "        3.43971252, 3.41093802, 3.40842438, 3.46004653, 3.439641  ,\n",
       "        3.42182016, 3.43823528, 3.40307951, 3.40304804, 3.41958261,\n",
       "        3.41774821, 3.40145135, 3.4062736 , 3.40229678, 3.40309191,\n",
       "        3.42084885, 3.41627598, 3.40725899, 3.39453435, 3.39889431,\n",
       "        3.39753485, 3.37740874, 3.39539814, 3.4098711 , 3.39927006,\n",
       "        3.4004252 , 3.40829539, 3.3873508 , 3.38914919, 3.4001627 ,\n",
       "        3.42747974, 3.40962768, 3.3925066 , 3.41027641, 3.39790082,\n",
       "        3.3852663 , 3.36935425, 3.41440821, 3.40857601, 3.3879087 ,\n",
       "        3.38775706, 3.38434958, 3.39072514, 3.38838768, 3.38926864,\n",
       "        3.38345957, 3.36902475, 3.40645051, 3.39134479, 3.36105728,\n",
       "        3.38186288, 3.36967993, 3.37540579, 3.38706279, 3.35471153,\n",
       "        3.36131144, 3.38122797, 3.38340235, 3.35921812, 3.37909818,\n",
       "        3.38521171, 3.37570429, 3.37264299, 3.37053394, 3.38003731,\n",
       "        3.36651134, 3.38149023, 3.38325977, 3.38536215, 3.39951944,\n",
       "        3.36715007, 3.41559625, 3.40116048, 3.39648676, 3.36604643],\n",
       "       [3.53323293, 2.65032005, 3.7821641 , 3.50062561, 3.36972857,\n",
       "        3.34594464, 3.32691336, 3.31734586, 3.30075026, 3.30335188,\n",
       "        3.29694557, 3.28826952, 3.25942373, 3.24697685, 3.24795151,\n",
       "        3.25217795, 3.26326704, 3.2446785 , 3.24611664, 3.23362565,\n",
       "        3.2226758 , 3.21340919, 3.21626282, 3.22112083, 3.23102832,\n",
       "        3.24233389, 3.21659184, 3.24983716, 3.19847083, 3.20230579,\n",
       "        3.20328379, 3.22118711, 3.22833967, 3.19173741, 3.19456434,\n",
       "        3.19027805, 3.18751621, 3.19229317, 3.20447659, 3.19004059,\n",
       "        3.18231153, 3.17736149, 3.18870068, 3.20249701, 3.18309975,\n",
       "        3.1848259 , 3.17023444, 3.18658829, 3.15993881, 3.17722082,\n",
       "        3.15597486, 3.17694044, 3.16968107, 3.15379667, 3.16517973,\n",
       "        3.17694592, 3.15914869, 3.14724922, 3.18613148, 3.17511868,\n",
       "        3.1785934 , 3.1821394 , 3.16043377, 3.16173482, 3.17338324,\n",
       "        3.15633821, 3.16631269, 3.18310547, 3.15456796, 3.15177679,\n",
       "        3.15558624, 3.17356086, 3.17961645, 3.15539837, 3.1633265 ,\n",
       "        3.14512634, 3.15923429, 3.15757728, 3.14867926, 3.18116641,\n",
       "        3.15313148, 3.15726757, 3.16753101, 3.15541697, 3.16136885,\n",
       "        3.15887928, 3.16459703, 3.14327788, 3.14727783, 3.15655494,\n",
       "        3.14856005, 3.14579344, 3.14191818, 3.15613508, 3.14446449,\n",
       "        3.16024065, 3.15222025, 3.15355706, 3.16809034, 3.16485023],\n",
       "       [3.28906155, 2.44092584, 3.54077601, 3.27078247, 3.12777281,\n",
       "        3.11041451, 3.10034609, 3.06367922, 3.05321336, 3.06119847,\n",
       "        3.06172967, 3.0508132 , 3.0474093 , 3.04393053, 3.0429492 ,\n",
       "        2.99924636, 3.0255971 , 3.00702906, 3.00860071, 2.99950171,\n",
       "        2.99038863, 3.0030489 , 3.00218773, 2.98231339, 3.00215483,\n",
       "        2.98892307, 2.97678399, 2.94338179, 2.98249722, 2.96665096,\n",
       "        2.96582437, 2.95773721, 2.95557261, 2.97028756, 2.97291994,\n",
       "        2.97157383, 2.95037889, 2.94966555, 2.97042894, 2.96042824,\n",
       "        2.95480728, 2.97066879, 2.96218061, 2.9732666 , 2.94985247,\n",
       "        2.95141411, 2.93601465, 2.96486545, 2.95843363, 2.95001936,\n",
       "        2.94482708, 2.94215155, 2.94120264, 2.95230913, 2.94134164,\n",
       "        2.93340874, 2.94404602, 2.95431137, 2.95181322, 2.94671917,\n",
       "        2.92804146, 2.92924213, 2.93323851, 2.92146349, 2.94016981,\n",
       "        2.95067477, 2.92137623, 2.9195118 , 2.93253326, 2.93751383,\n",
       "        2.92817163, 2.93982983, 2.92544937, 2.92026591, 2.92051125,\n",
       "        2.91611814, 2.910532  , 2.92152643, 2.93205786, 2.91485739,\n",
       "        2.94193077, 2.91723347, 2.92961407, 2.90868998, 2.92021179,\n",
       "        2.911057  , 2.91874123, 2.91316605, 2.91319704, 2.92106819,\n",
       "        2.90696597, 2.92167282, 2.90393472, 2.88678646, 2.89796972,\n",
       "        2.89149499, 2.9084425 , 2.92232084, 2.91478157, 2.9022541 ],\n",
       "       [2.47581077, 1.69410038, 2.66348696, 2.49207211, 2.36249113,\n",
       "        2.34696603, 2.32842612, 2.32598329, 2.31747651, 2.30924082,\n",
       "        2.31019473, 2.27765012, 2.30783916, 2.298383  , 2.29587674,\n",
       "        2.28857064, 2.2990582 , 2.28914642, 2.26662564, 2.28285027,\n",
       "        2.26361036, 2.26010513, 2.26390219, 2.25706291, 2.26842237,\n",
       "        2.25156021, 2.25040555, 2.23746419, 2.24956322, 2.22417116,\n",
       "        2.23753786, 2.23074341, 2.23226118, 2.22358751, 2.22580767,\n",
       "        2.23739719, 2.2237525 , 2.22326398, 2.21815443, 2.2126565 ,\n",
       "        2.2121284 , 2.20971394, 2.22316504, 2.2145083 , 2.21317506,\n",
       "        2.20184016, 2.19954729, 2.20088911, 2.20175672, 2.20805073,\n",
       "        2.19656467, 2.20200944, 2.18303394, 2.18489361, 2.19691825,\n",
       "        2.19343305, 2.18450117, 2.1918149 , 2.18743467, 2.1852994 ,\n",
       "        2.18703365, 2.159163  , 2.18275547, 2.18169141, 2.18492532,\n",
       "        2.17260909, 2.16751051, 2.17163086, 2.18865299, 2.17564225,\n",
       "        2.17394781, 2.17054105, 2.1709938 , 2.16094398, 2.16595125,\n",
       "        2.17023659, 2.17150426, 2.18648148, 2.16262221, 2.17031288,\n",
       "        2.17875171, 2.14703274, 2.16189241, 2.16018057, 2.16823435,\n",
       "        2.16161585, 2.14617682, 2.16169238, 2.15183258, 2.14470792,\n",
       "        2.1734798 , 2.16101909, 2.14319086, 2.16293478, 2.15704823,\n",
       "        2.15165472, 2.1578455 , 2.14270258, 2.14818954, 2.1548419 ]])"
      ]
     },
     "execution_count": 47,
     "metadata": {},
     "output_type": "execute_result"
    }
   ],
   "source": [
    "save_ents"
   ]
  },
  {
   "cell_type": "code",
   "execution_count": 39,
   "metadata": {},
   "outputs": [
    {
     "data": {
      "text/plain": [
       "[<matplotlib.lines.Line2D at 0x7f486e9198d0>]"
      ]
     },
     "execution_count": 39,
     "metadata": {},
     "output_type": "execute_result"
    },
    {
     "data": {
      "image/png": "[encoded data removed]",
      "text/plain": [
       "<Figure size 432x288 with 1 Axes>"
      ]
     },
     "metadata": {
      "needs_background": "light"
     },
     "output_type": "display_data"
    }
   ],
   "source": [
    "# is the spike at token 3 due to seed?\n",
    "test = avg_ents_2.cpu().numpy()[0]\n",
    "plt.plot(np.exp(test))"
   ]
  },
  {
   "cell_type": "code",
   "execution_count": 40,
   "metadata": {},
   "outputs": [
    {
     "data": {
      "text/plain": [
       "[<matplotlib.lines.Line2D at 0x7f486e8f36a0>]"
      ]
     },
     "execution_count": 40,
     "metadata": {},
     "output_type": "execute_result"
    },
    {
     "data": {
      "image/png": "[encoded data removed]",
      "text/plain": [
       "<Figure size 432x288 with 1 Axes>"
      ]
     },
     "metadata": {
      "needs_background": "light"
     },
     "output_type": "display_data"
    }
   ],
   "source": [
    "test2 = avg_ents_1024.cpu().numpy()[0]\n",
    "plt.plot(np.exp(test2))"
   ]
  },
  {
   "cell_type": "code",
   "execution_count": 41,
   "metadata": {},
   "outputs": [
    {
     "name": "stdout",
     "output_type": "stream",
     "text": [
      "[3.2890615 2.448075  3.5512667 3.282575  3.1362772 3.131874  3.0970018\n",
      " 3.0337763 3.0447075 3.0724208 3.0665777 3.0611358 3.0416636 3.0223324\n",
      " 3.0398152 2.9872012 3.0151012 3.0025945 3.0181506 2.997974  2.993466\n",
      " 3.0116844 3.002051  2.9914355 2.9977002 2.9814599 2.9817784 2.9456542\n",
      " 2.978479  2.9727113 2.9521844 2.9560492 2.956965  2.9542093 2.9736743\n",
      " 2.9778924 2.9496984 2.9468133 2.9795265 2.9474938 2.9644809 2.9690976\n",
      " 2.9708273 2.9774387 2.9451196 2.9393835 2.930925  2.9790938 2.9376845\n",
      " 2.933906  2.9371293 2.9496536 2.9415317 2.9630945 2.9569516 2.919617\n",
      " 2.9379032 2.9610512 2.9487572 2.94818   2.9251587 2.9352896 2.9245944\n",
      " 2.9138744 2.9501283 2.9471145 2.8996098 2.9106438 2.9313838 2.9432144\n",
      " 2.9088845 2.9309149 2.919671  2.9041305 2.9202266 2.9056451 2.91877\n",
      " 2.9126318 2.9151573 2.9123068 2.9413085 2.926143  2.9376144 2.893996\n",
      " 2.9238324 2.9199507 2.9260614 2.9085917 2.9174166 2.9297476 2.9216406\n",
      " 2.9353564 2.9035187 2.8923929 2.8983662 2.896203  2.9028704 2.9249759\n",
      " 2.9022892 2.8968997]\n",
      "[3.2890615 2.4337766 3.5302854 3.25899   3.1192687 3.088955  3.1036906\n",
      " 3.0935822 3.0617192 3.049976  3.0568817 3.0404909 3.053155  3.0655289\n",
      " 3.046083  3.0112915 3.036093  3.0114639 2.9990509 3.0010295 2.9873114\n",
      " 2.9944136 3.0023243 2.9731913 3.0066092 2.996386  2.9717896 2.9411097\n",
      " 2.9865158 2.9605908 2.9794643 2.9594252 2.9541802 2.9863658 2.9721653\n",
      " 2.9652553 2.951059  2.9525177 2.9613316 2.973363  2.945134  2.9722397\n",
      " 2.9535336 2.9690943 2.9545856 2.9634445 2.9411042 2.950637  2.9791827\n",
      " 2.9661326 2.9525247 2.9346497 2.9408739 2.9415238 2.9257317 2.9472005\n",
      " 2.9501889 2.9475713 2.954869  2.9452586 2.930924  2.923195  2.9418824\n",
      " 2.9290524 2.9302113 2.954235  2.943143  2.9283795 2.9336827 2.9318135\n",
      " 2.9474585 2.9487445 2.931228  2.9364014 2.920796  2.926591  2.902294\n",
      " 2.9304209 2.9489582 2.917408  2.9425528 2.9083242 2.921614  2.923384\n",
      " 2.9165914 2.9021633 2.9114208 2.91774   2.9089775 2.9123886 2.8922913\n",
      " 2.907989  2.9043508 2.8811803 2.8975735 2.886787  2.9140148 2.919666\n",
      " 2.927274  2.9076085]\n"
     ]
    }
   ],
   "source": [
    "print(test)\n",
    "print(test2)"
   ]
  },
  {
   "cell_type": "code",
   "execution_count": 45,
   "metadata": {},
   "outputs": [
    {
     "name": "stderr",
     "output_type": "stream",
     "text": [
      "100%|██████████| 5/5 [00:00<00:00, 53.17it/s]\n",
      "100%|██████████| 5/5 [00:00<00:00, 17.94it/s]\n",
      "100%|██████████| 5/5 [00:00<00:00, 68.32it/s]\n",
      "100%|██████████| 5/5 [00:00<00:00, 25.64it/s]\n",
      "100%|██████████| 5/5 [00:00<00:00, 33.49it/s]\n",
      "100%|██████████| 5/5 [00:00<00:00, 47.05it/s]\n",
      "100%|██████████| 5/5 [00:00<00:00, 18.05it/s]\n",
      "100%|██████████| 5/5 [00:00<00:00, 26.66it/s]\n",
      "100%|██████████| 5/5 [00:00<00:00, 13.06it/s]\n",
      "100%|██████████| 5/5 [00:00<00:00, 30.90it/s]\n",
      "100%|██████████| 5/5 [00:00<00:00, 42.96it/s]\n",
      "100%|██████████| 5/5 [00:00<00:00, 33.04it/s]\n",
      "100%|██████████| 5/5 [00:00<00:00, 42.89it/s]\n",
      "100%|██████████| 5/5 [00:00<00:00, 69.13it/s]\n",
      "100%|██████████| 5/5 [00:00<00:00, 53.18it/s]\n",
      "100%|██████████| 5/5 [00:00<00:00, 89.13it/s]\n",
      "100%|██████████| 5/5 [00:00<00:00, 32.48it/s]\n",
      "100%|██████████| 5/5 [00:00<00:00, 51.66it/s]\n",
      "100%|██████████| 5/5 [00:00<00:00, 28.93it/s]\n",
      "100%|██████████| 5/5 [00:00<00:00, 25.53it/s]\n",
      "100%|██████████| 5/5 [00:00<00:00, 41.26it/s]\n",
      "100%|██████████| 5/5 [00:00<00:00, 29.43it/s]\n",
      "100%|██████████| 5/5 [00:00<00:00, 30.06it/s]\n",
      "100%|██████████| 5/5 [00:00<00:00, 44.45it/s]\n",
      "100%|██████████| 5/5 [00:00<00:00, 68.02it/s]\n",
      "100%|██████████| 5/5 [00:00<00:00, 32.84it/s]\n",
      "100%|██████████| 5/5 [00:00<00:00, 16.67it/s]\n",
      "100%|██████████| 5/5 [00:00<00:00, 44.09it/s]\n",
      "100%|██████████| 5/5 [00:00<00:00, 35.66it/s]\n",
      "100%|██████████| 5/5 [00:00<00:00, 28.14it/s]\n",
      "100%|██████████| 5/5 [00:00<00:00, 32.18it/s]\n",
      "100%|██████████| 5/5 [00:00<00:00, 44.40it/s]\n",
      "100%|██████████| 5/5 [00:00<00:00, 44.47it/s]\n",
      "100%|██████████| 5/5 [00:00<00:00, 17.79it/s]\n",
      "100%|██████████| 5/5 [00:00<00:00, 48.73it/s]\n",
      "100%|██████████| 5/5 [00:00<00:00,  9.88it/s]\n",
      "100%|██████████| 5/5 [00:00<00:00, 72.40it/s]\n",
      "100%|██████████| 5/5 [00:00<00:00, 51.31it/s]\n",
      "100%|██████████| 5/5 [00:00<00:00, 11.72it/s]\n",
      "100%|██████████| 5/5 [00:00<00:00, 54.41it/s]\n",
      "100%|██████████| 5/5 [00:00<00:00, 42.53it/s]\n",
      "100%|██████████| 5/5 [00:00<00:00, 13.67it/s]\n",
      "100%|██████████| 5/5 [00:00<00:00, 29.81it/s]\n",
      "100%|██████████| 5/5 [00:00<00:00, 31.36it/s]\n",
      "100%|██████████| 5/5 [00:00<00:00, 27.38it/s]\n",
      "100%|██████████| 5/5 [00:00<00:00, 21.69it/s]\n",
      "100%|██████████| 5/5 [00:00<00:00, 29.07it/s]\n",
      "100%|██████████| 5/5 [00:00<00:00, 24.43it/s]\n",
      "100%|██████████| 5/5 [00:00<00:00, 51.09it/s]\n",
      "100%|██████████| 5/5 [00:00<00:00, 28.83it/s]\n",
      "100%|██████████| 5/5 [00:00<00:00, 94.95it/s]\n",
      "100%|██████████| 5/5 [00:00<00:00, 25.96it/s]\n",
      "100%|██████████| 5/5 [00:00<00:00, 62.76it/s]\n",
      "100%|██████████| 5/5 [00:00<00:00, 24.36it/s]\n",
      "100%|██████████| 5/5 [00:00<00:00, 46.09it/s]\n",
      "100%|██████████| 5/5 [00:00<00:00, 51.37it/s]\n",
      "100%|██████████| 5/5 [00:00<00:00, 25.91it/s]\n",
      "100%|██████████| 5/5 [00:00<00:00, 95.20it/s]\n",
      "100%|██████████| 5/5 [00:00<00:00, 17.89it/s]\n",
      "100%|██████████| 5/5 [00:00<00:00, 26.42it/s]\n",
      "100%|██████████| 5/5 [00:00<00:00, 41.00it/s]\n",
      "100%|██████████| 5/5 [00:00<00:00, 63.56it/s]\n",
      "100%|██████████| 5/5 [00:00<00:00, 46.12it/s]\n",
      "100%|██████████| 5/5 [00:00<00:00, 88.62it/s]\n",
      "100%|██████████| 5/5 [00:00<00:00, 25.29it/s]\n",
      "100%|██████████| 5/5 [00:00<00:00, 31.39it/s]\n",
      "100%|██████████| 5/5 [00:00<00:00, 35.52it/s]\n",
      "100%|██████████| 5/5 [00:00<00:00, 18.35it/s]\n",
      "100%|██████████| 5/5 [00:00<00:00, 25.15it/s]\n",
      "100%|██████████| 5/5 [00:00<00:00, 32.08it/s]\n",
      "100%|██████████| 5/5 [00:00<00:00, 22.95it/s]\n",
      "100%|██████████| 5/5 [00:00<00:00, 30.55it/s]\n",
      "100%|██████████| 5/5 [00:00<00:00, 29.05it/s]\n",
      "100%|██████████| 5/5 [00:00<00:00, 37.77it/s]\n",
      "100%|██████████| 5/5 [00:00<00:00, 24.86it/s]\n",
      "100%|██████████| 5/5 [00:00<00:00, 24.24it/s]\n",
      "100%|██████████| 5/5 [00:00<00:00, 30.53it/s]\n",
      "100%|██████████| 5/5 [00:00<00:00, 73.18it/s]\n",
      "100%|██████████| 5/5 [00:00<00:00, 52.63it/s]\n",
      "100%|██████████| 5/5 [00:00<00:00, 46.27it/s]\n",
      "100%|██████████| 5/5 [00:00<00:00, 58.43it/s]\n",
      "100%|██████████| 5/5 [00:00<00:00, 27.17it/s]\n",
      "100%|██████████| 5/5 [00:00<00:00, 48.37it/s]\n",
      "100%|██████████| 5/5 [00:00<00:00, 52.68it/s]\n",
      "100%|██████████| 5/5 [00:00<00:00, 30.75it/s]\n",
      "100%|██████████| 5/5 [00:00<00:00, 22.39it/s]\n",
      "100%|██████████| 5/5 [00:00<00:00, 31.16it/s]\n",
      "100%|██████████| 5/5 [00:00<00:00, 44.06it/s]\n",
      "100%|██████████| 5/5 [00:00<00:00, 22.86it/s]\n",
      "100%|██████████| 5/5 [00:00<00:00, 24.61it/s]\n",
      "100%|██████████| 5/5 [00:00<00:00, 25.63it/s]\n",
      "100%|██████████| 5/5 [00:00<00:00, 21.48it/s]\n",
      "100%|██████████| 5/5 [00:00<00:00, 24.17it/s]\n",
      "100%|██████████| 5/5 [00:00<00:00, 57.93it/s]\n",
      "100%|██████████| 5/5 [00:00<00:00, 52.66it/s]\n",
      "100%|██████████| 5/5 [00:00<00:00, 37.73it/s]\n",
      "100%|██████████| 5/5 [00:00<00:00, 14.71it/s]\n",
      "100%|██████████| 5/5 [00:00<00:00, 45.77it/s]\n",
      "100%|██████████| 5/5 [00:00<00:00, 48.51it/s]\n",
      "100%|██████████| 5/5 [00:00<00:00, 27.19it/s]\n"
     ]
    }
   ],
   "source": [
    "# additional experiment on whether due to seed\n",
    "\n",
    "k = 0\n",
    "length = 5\n",
    "\n",
    "set_seed(351)\n",
    "with torch.no_grad():\n",
    "    avg_ents = torch.zeros((1, length), device=device)\n",
    "    i = 0\n",
    "    with open(file) as fp:\n",
    "        for line in fp:\n",
    "            context = tokenizer.encode(line)\n",
    "            _, ents = sample_sequence(\n",
    "                model, \n",
    "                length, \n",
    "                context, \n",
    "                num_samples=64, \n",
    "                temperature=1, \n",
    "                top_k=k, top_p=0.0, is_xlnet=False, device=device)\n",
    "            ents = ents.mean(axis=0)\n",
    "            avg_ents = (avg_ents * i + ents) / (i + 1)\n",
    "            i += 1"
   ]
  },
  {
   "cell_type": "code",
   "execution_count": 44,
   "metadata": {},
   "outputs": [
    {
     "name": "stdout",
     "output_type": "stream",
     "text": [
      "[3.2890615 2.4563289 3.540543  3.2511313 3.1343658 3.1188073 3.119249\n",
      " 3.083043  3.0901277 3.081588  3.047089  3.0372615 3.0582886 3.0379453\n",
      " 3.0755467 3.0531359 3.035531  3.024779  3.0294914 2.9806075]\n"
     ]
    },
    {
     "data": {
      "image/png": "[encoded data removed]",
      "text/plain": [
       "<Figure size 432x288 with 1 Axes>"
      ]
     },
     "metadata": {
      "needs_background": "light"
     },
     "output_type": "display_data"
    }
   ],
   "source": [
    "test3 = avg_ents.cpu().numpy()[0]\n",
    "plt.plot(np.exp(test3))\n",
    "print(test3)"
   ]
  },
  {
   "cell_type": "code",
   "execution_count": 46,
   "metadata": {},
   "outputs": [
    {
     "name": "stdout",
     "output_type": "stream",
     "text": [
      "[4.3118596 3.35388   4.536415  4.23078   4.062384 ]\n"
     ]
    },
    {
     "data": {
      "image/png": "[encoded data removed]",
      "text/plain": [
       "<Figure size 432x288 with 1 Axes>"
      ]
     },
     "metadata": {
      "needs_background": "light"
     },
     "output_type": "display_data"
    }
   ],
   "source": [
    "test4 = avg_ents.cpu().numpy()[0]\n",
    "plt.plot(np.exp(test4))\n",
    "print(test4)"
   ]
  },
  {
   "cell_type": "code",
   "execution_count": 48,
   "metadata": {},
   "outputs": [
    {
     "data": {
      "text/plain": [
       "Text(0.5, 1.0, 'Entropy blowup')"
      ]
     },
     "execution_count": 48,
     "metadata": {},
     "output_type": "execute_result"
    },
    {
     "data": {
      "image/png": "[encoded data removed]",
      "text/plain": [
       "<Figure size 432x288 with 1 Axes>"
      ]
     },
     "metadata": {
      "needs_background": "light"
     },
     "output_type": "display_data"
    }
   ],
   "source": [
    "# why is there this weird spike at token 3 or so?\n",
    "\n",
    "plt.plot(np.exp(save_ents[0, 20:]), label='full')\n",
    "plt.plot(np.exp(save_ents[1, 20:]), label='top 1024')\n",
    "plt.plot(np.exp(save_ents[2, 20:]), label='top 512')\n",
    "plt.plot(np.exp(save_ents[3, 20:]), label='top 256')\n",
    "plt.plot(np.exp(save_ents[4, 20:]), label='top 40')\n",
    "plt.xlabel('t')\n",
    "plt.ylabel('$e^H$')\n",
    "plt.legend()\n",
    "plt.title('Entropy blowup')"
   ]
  },
  {
   "cell_type": "markdown",
   "metadata": {},
   "source": [
    "# 2. Assessing entropy increase over 100 successive generations "
   ]
  },
  {
   "cell_type": "code",
   "execution_count": 16,
   "metadata": {},
   "outputs": [],
   "source": [
    "delta_full = np.exp(save_ents[0, 99]) - np.exp(save_ents[0, 19])\n",
    "delta_1024 = np.exp(save_ents[1, 99]) - np.exp(save_ents[1, 19])\n",
    "delta_512 = np.exp(save_ents[2, 99]) - np.exp(save_ents[2, 19])\n",
    "delta_256 = np.exp(save_ents[3, 99]) - np.exp(save_ents[3, 19])\n",
    "delta_40 = np.exp(save_ents[4, 99]) - np.exp(save_ents[4, 19])"
   ]
  },
  {
   "cell_type": "code",
   "execution_count": 18,
   "metadata": {},
   "outputs": [
    {
     "ename": "TypeError",
     "evalue": "ylabel() missing 1 required positional argument: 'ylabel'",
     "output_type": "error",
     "traceback": [
      "\u001b[0;31m---------------------------------------------------------------------------\u001b[0m",
      "\u001b[0;31mTypeError\u001b[0m                                 Traceback (most recent call last)",
      "\u001b[0;32m<ipython-input-18-67ba756c45af>\u001b[0m in \u001b[0;36m<module>\u001b[0;34m\u001b[0m\n\u001b[1;32m      3\u001b[0m \u001b[0mdiff\u001b[0m \u001b[0;34m=\u001b[0m \u001b[0;34m(\u001b[0m\u001b[0mdelta_full\u001b[0m\u001b[0;34m,\u001b[0m \u001b[0mdelta_1024\u001b[0m\u001b[0;34m,\u001b[0m \u001b[0mdelta_512\u001b[0m\u001b[0;34m,\u001b[0m \u001b[0mdelta_256\u001b[0m\u001b[0;34m,\u001b[0m \u001b[0mdelta_40\u001b[0m\u001b[0;34m)\u001b[0m\u001b[0;34m\u001b[0m\u001b[0;34m\u001b[0m\u001b[0m\n\u001b[1;32m      4\u001b[0m \u001b[0mplt\u001b[0m\u001b[0;34m.\u001b[0m\u001b[0mbar\u001b[0m\u001b[0;34m(\u001b[0m\u001b[0mind\u001b[0m\u001b[0;34m,\u001b[0m \u001b[0mnp\u001b[0m\u001b[0;34m.\u001b[0m\u001b[0mexp\u001b[0m\u001b[0;34m(\u001b[0m\u001b[0mdiff\u001b[0m\u001b[0;34m)\u001b[0m\u001b[0;34m)\u001b[0m\u001b[0;34m\u001b[0m\u001b[0;34m\u001b[0m\u001b[0m\n\u001b[0;32m----> 5\u001b[0;31m \u001b[0mplt\u001b[0m\u001b[0;34m.\u001b[0m\u001b[0mylabel\u001b[0m\u001b[0;34m(\u001b[0m\u001b[0;34m)\u001b[0m\u001b[0;34m\u001b[0m\u001b[0;34m\u001b[0m\u001b[0m\n\u001b[0m\u001b[1;32m      6\u001b[0m \u001b[0mplt\u001b[0m\u001b[0;34m.\u001b[0m\u001b[0mxticks\u001b[0m\u001b[0;34m(\u001b[0m\u001b[0mind\u001b[0m\u001b[0;34m,\u001b[0m \u001b[0;34m(\u001b[0m\u001b[0;34m'full'\u001b[0m\u001b[0;34m,\u001b[0m \u001b[0;34m'1024'\u001b[0m\u001b[0;34m,\u001b[0m \u001b[0;34m'512'\u001b[0m\u001b[0;34m,\u001b[0m \u001b[0;34m'256'\u001b[0m\u001b[0;34m,\u001b[0m \u001b[0;34m'40'\u001b[0m\u001b[0;34m)\u001b[0m\u001b[0;34m)\u001b[0m\u001b[0;34m\u001b[0m\u001b[0;34m\u001b[0m\u001b[0m\n\u001b[1;32m      7\u001b[0m \u001b[0mplt\u001b[0m\u001b[0;34m.\u001b[0m\u001b[0mshow\u001b[0m\u001b[0;34m(\u001b[0m\u001b[0;34m)\u001b[0m\u001b[0;34m\u001b[0m\u001b[0;34m\u001b[0m\u001b[0m\n",
      "\u001b[0;31mTypeError\u001b[0m: ylabel() missing 1 required positional argument: 'ylabel'"
     ]
    },
    {
     "data": {
      "image/png": "[encoded data removed]",
      "text/plain": [
       "<Figure size 432x288 with 1 Axes>"
      ]
     },
     "metadata": {
      "needs_background": "light"
     },
     "output_type": "display_data"
    }
   ],
   "source": [
    "N = 5\n",
    "ind = np.arange(N)\n",
    "diff = (delta_full, delta_1024, delta_512, delta_256, delta_40)\n",
    "plt.bar(ind, np.exp(diff))\n",
    "plt.ylabel()\n",
    "plt.xticks(ind, ('full', '1024', '512', '256', '40'))\n",
    "plt.show()"
   ]
  },
  {
   "cell_type": "code",
   "execution_count": 19,
   "metadata": {},
   "outputs": [
    {
     "data": {
      "text/plain": [
       "(-0.2537417411804199,\n",
       " -0.39038586616516113,\n",
       " -0.36838269233703613,\n",
       " -0.3868074417114258,\n",
       " -0.3209688663482666)"
      ]
     },
     "execution_count": 19,
     "metadata": {},
     "output_type": "execute_result"
    }
   ],
   "source": [
    "diff"
   ]
  },
  {
   "cell_type": "code",
   "execution_count": null,
   "metadata": {},
   "outputs": [],
   "source": []
  }
 ],
 "metadata": {
  "kernelspec": {
   "display_name": "Python 3",
   "language": "python",
   "name": "python3"
  },
  "language_info": {
   "codemirror_mode": {
    "name": "ipython",
    "version": 3
   },
   "file_extension": ".py",
   "mimetype": "text/x-python",
   "name": "python",
   "nbconvert_exporter": "python",
   "pygments_lexer": "ipython3",
   "version": "3.7.3"
  }
 },
 "nbformat": 4,
 "nbformat_minor": 2
}
