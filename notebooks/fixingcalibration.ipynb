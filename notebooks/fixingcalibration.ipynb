{
 "cells": [
  {
   "cell_type": "code",
   "execution_count": 1,
   "metadata": {},
   "outputs": [
    {
     "name": "stderr",
     "output_type": "stream",
     "text": [
      "To use data.metrics please install scikit-learn. See https://scikit-learn.org/stable/index.html\n"
     ]
    }
   ],
   "source": [
    "import os\n",
    "import sys\n",
    "sys.path.append('../examples')\n",
    "sys.path.append('../jobs')\n",
    "sys.path.append('../training_data')\n",
    "\n",
    "from tqdm import trange\n",
    "\n",
    "import torch\n",
    "import torch.nn.functional as F\n",
    "import torch.optim as optim\n",
    "import numpy as np\n",
    "import matplotlib.pyplot as plt\n",
    "\n",
    "from transformers import GPT2LMHeadModel, GPT2Tokenizer, GPT2Config\n",
    "from generate_with_calibration import get_lookahead_entropies\n",
    "from generate_with_entropy import sample_sequence, sample_sequence_batch\n",
    "\n",
    "import logging\n",
    "logging.getLogger('transformers.tokenization_utils').setLevel(logging.ERROR)"
   ]
  },
  {
   "cell_type": "code",
   "execution_count": 2,
   "metadata": {},
   "outputs": [
    {
     "name": "stderr",
     "output_type": "stream",
     "text": [
      "12/29/2019 21:48:04 - INFO - transformers.configuration_utils -   loading configuration file https://s3.amazonaws.com/models.huggingface.co/bert/gpt2-config.json from cache at /u/myhu/.cache/torch/transformers/4be02c5697d91738003fb1685c9872f284166aa32e061576bbe6aaeb95649fcf.085d5f6a8e7812ea05ff0e6ed0645ab2e75d80387ad55c1ad9806ee70d272f80\n",
      "12/29/2019 21:48:04 - INFO - transformers.configuration_utils -   Model config {\n",
      "  \"attn_pdrop\": 0.1,\n",
      "  \"embd_pdrop\": 0.1,\n",
      "  \"finetuning_task\": null,\n",
      "  \"initializer_range\": 0.02,\n",
      "  \"is_decoder\": false,\n",
      "  \"layer_norm_epsilon\": 1e-05,\n",
      "  \"n_ctx\": 1024,\n",
      "  \"n_embd\": 768,\n",
      "  \"n_head\": 12,\n",
      "  \"n_layer\": 12,\n",
      "  \"n_positions\": 1024,\n",
      "  \"num_labels\": 1,\n",
      "  \"output_attentions\": false,\n",
      "  \"output_hidden_states\": false,\n",
      "  \"output_past\": true,\n",
      "  \"pruned_heads\": {},\n",
      "  \"resid_pdrop\": 0.1,\n",
      "  \"summary_activation\": null,\n",
      "  \"summary_first_dropout\": 0.1,\n",
      "  \"summary_proj_to_labels\": true,\n",
      "  \"summary_type\": \"cls_index\",\n",
      "  \"summary_use_proj\": true,\n",
      "  \"torchscript\": false,\n",
      "  \"use_bfloat16\": false,\n",
      "  \"vocab_size\": 50257\n",
      "}\n",
      "\n",
      "12/29/2019 21:48:05 - INFO - transformers.modeling_utils -   loading weights file https://s3.amazonaws.com/models.huggingface.co/bert/gpt2-pytorch_model.bin from cache at /u/myhu/.cache/torch/transformers/4295d67f022061768f4adc386234dbdb781c814c39662dd1662221c309962c55.778cf36f5c4e5d94c8cd9cefcf2a580c8643570eb327f0d4a1f007fab2acbdf1\n"
     ]
    }
   ],
   "source": [
    "# setup cell\n",
    "\n",
    "def set_seed(seed=42, n_gpu=0):\n",
    "    np.random.seed(seed)\n",
    "    torch.manual_seed(seed)\n",
    "    if n_gpu > 0:\n",
    "        torch.cuda.manual_seed_all(args.seed)\n",
    "\n",
    "device = torch.device(\"cuda\" if torch.cuda.is_available() else \"cpu\")\n",
    "n_gpus = torch.cuda.device_count()\n",
    "\n",
    "set_seed()\n",
    "tokenizer = GPT2Tokenizer.from_pretrained('gpt2')\n",
    "model = GPT2LMHeadModel.from_pretrained('gpt2')\n",
    "model.to(device)\n",
    "model.eval()\n",
    "\n",
    "vocab_size = tokenizer.vocab_size"
   ]
  },
  {
   "cell_type": "code",
   "execution_count": 3,
   "metadata": {},
   "outputs": [],
   "source": [
    "def calibrate(model, tokenizer, path, vocab_size, batch_size=512, alpha=0.0, top_k=0, iters=10, threshold=1e-5, device='cpu'):\n",
    "    alpha = torch.tensor([alpha], requires_grad=True)\n",
    "    total_loss = CEL(model, tokenizer, path, alpha, vocab_size, batch_size, top_k, device)\n",
    "    print(f'Total loss: {total_loss.item()}. Alpha: {alpha.item()}')\n",
    "    last_alpha = alpha.item()\n",
    "    \n",
    "    for _ in range(iters):\n",
    "        grad_a = torch.autograd.grad(total_loss, alpha, create_graph=True)\n",
    "        grad2_a = torch.autograd.grad(grad_a, alpha)\n",
    "        alpha.data -= (grad_a[0] / grad2_a[0]).data\n",
    "        \n",
    "        total_loss = CEL(model, tokenizer, path, alpha, vocab_size, batch_size, top_k, device)\n",
    "        print(f'Total loss: {total_loss.item()}. Alpha: {alpha.item()}')\n",
    "        \n",
    "        if abs(alpha.data - last_alpha) < threshold:\n",
    "            break\n",
    "            \n",
    "        last_alpha = alpha.item()\n",
    "    \n",
    "    return alpha\n",
    "\n",
    "def CEL(model, tokenizer, path, alpha, vocab_size, batch_size=512, top_k=0, device='cpu'):   \n",
    "    # calculates the CEL on a single context.\n",
    "    def CELHelper(context):\n",
    "        N = len(context)\n",
    "        context_CEL = torch.tensor([0.0])\n",
    "\n",
    "        for i in range(1, N):\n",
    "            context_i = torch.tensor(context[:i], dtype = torch.long, device=device).unsqueeze(0)\n",
    "\n",
    "            inputs = {'input_ids': context_i}\n",
    "            next_logits = model(**inputs)[0][:, -1, :].detach().cpu()\n",
    "\n",
    "            if top_k == 0:\n",
    "                candidates = None  \n",
    "            else:\n",
    "                candidates = torch.argsort(next_logits[0], descending=True,)[:top_k]\n",
    "            \n",
    "            lookahead_ents = get_lookahead_entropies(\n",
    "                model = model,\n",
    "                context = context_i[0],\n",
    "                batch_size = batch_size,\n",
    "                vocab_size = vocab_size,\n",
    "                candidates = candidates,\n",
    "                device = device\n",
    "            ).cpu()\n",
    "            \n",
    "            if top_k != 0:\n",
    "                # replace uncomputed entropies with average (for centered adjustment)\n",
    "                top_average_ent = lookahead_ents[lookahead_ents != -1].mean()\n",
    "                lookahead_ents[lookahead_ents != -1] = top_average_ent\n",
    "            \n",
    "            next_word = context[i]\n",
    "            next_probs = F.softmax(next_logits, dim=-1)[0]\n",
    "            Pr = next_probs[next_word]\n",
    "            H = lookahead_ents[next_word]\n",
    "            Za = torch.dot(next_probs, torch.exp(-alpha * lookahead_ents))\n",
    "\n",
    "            context_CEL -= torch.log(Pr * torch.exp(-alpha * H) / Za)\n",
    "            \n",
    "        return context_CEL\n",
    "    \n",
    "    total_CEL = torch.tensor([0.0])\n",
    "\n",
    "    with open(path) as fp:\n",
    "        for line in fp:\n",
    "            context = tokenizer.encode(line)\n",
    "            # one way to fix memory issues: uncomment the below\n",
    "            # if (len(context) > 100):\n",
    "            #    continue\n",
    "            total_CEL += CELHelper(context)\n",
    "            \n",
    "    return total_CEL"
   ]
  },
  {
   "cell_type": "code",
   "execution_count": 4,
   "metadata": {},
   "outputs": [
    {
     "name": "stdout",
     "output_type": "stream",
     "text": [
      "Total loss: 567.3639526367188. Alpha: 0.0\n",
      "Total loss: 565.7002563476562. Alpha: 0.11386551707983017\n",
      "tensor([0.1139])\n",
      "Total loss: 565.6583251953125. Alpha: 0.13583789765834808\n",
      "tensor([0.0220])\n",
      "Total loss: 565.6582641601562. Alpha: 0.13663947582244873\n",
      "tensor([0.0008])\n",
      "Total loss: 565.6583251953125. Alpha: 0.13664056360721588\n",
      "tensor([1.0878e-06])\n",
      "Total loss: 565.6583251953125. Alpha: 0.1366405040025711\n",
      "tensor([5.9605e-08])\n"
     ]
    },
    {
     "data": {
      "text/plain": [
       "tensor([0.1366], requires_grad=True)"
      ]
     },
     "execution_count": 4,
     "metadata": {},
     "output_type": "execute_result"
    }
   ],
   "source": [
    "calibrate(model, \n",
    "          tokenizer, \n",
    "          path='../training_data/gbw/test/five_lines.txt', \n",
    "          vocab_size=vocab_size, \n",
    "          batch_size=128, top_k=128, iters=10, threshold=1e-6, device=device)"
   ]
  },
  {
   "cell_type": "code",
   "execution_count": null,
   "metadata": {},
   "outputs": [],
   "source": []
  }
 ],
 "metadata": {
  "kernelspec": {
   "display_name": "Python 3",
   "language": "python",
   "name": "python3"
  },
  "language_info": {
   "codemirror_mode": {
    "name": "ipython",
    "version": 3
   },
   "file_extension": ".py",
   "mimetype": "text/x-python",
   "name": "python",
   "nbconvert_exporter": "python",
   "pygments_lexer": "ipython3",
   "version": "3.7.3"
  }
 },
 "nbformat": 4,
 "nbformat_minor": 2
}
