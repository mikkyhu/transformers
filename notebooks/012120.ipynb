{
 "cells": [
  {
   "cell_type": "markdown",
   "metadata": {},
   "source": [
    "# 1. Calibration effects using diversity metric"
   ]
  },
  {
   "cell_type": "code",
   "execution_count": 3,
   "metadata": {},
   "outputs": [],
   "source": [
    "import os\n",
    "import sys\n",
    "sys.path.append('../examples')\n",
    "sys.path.append('../jobs')\n",
    "sys.path.append('../training_data')\n",
    "\n",
    "from tqdm import trange\n",
    "\n",
    "import torch\n",
    "import torch.nn.functional as F\n",
    "import torch.optim as optim\n",
    "import numpy as np\n",
    "import matplotlib.pyplot as plt\n",
    "\n",
    "from transformers import GPT2LMHeadModel, GPT2Tokenizer, GPT2Config\n",
    "from generate_with_entropy import sample_sequence, sample_sequence_batch\n",
    "\n",
    "import logging\n",
    "logging.getLogger('transformers.tokenization_utils').setLevel(logging.ERROR)"
   ]
  },
  {
   "cell_type": "code",
   "execution_count": 4,
   "metadata": {},
   "outputs": [
    {
     "name": "stderr",
     "output_type": "stream",
     "text": [
      "01/21/2020 23:01:07 - INFO - transformers.configuration_utils -   loading configuration file https://s3.amazonaws.com/models.huggingface.co/bert/gpt2-config.json from cache at /u/myhu/.cache/torch/transformers/4be02c5697d91738003fb1685c9872f284166aa32e061576bbe6aaeb95649fcf.085d5f6a8e7812ea05ff0e6ed0645ab2e75d80387ad55c1ad9806ee70d272f80\n",
      "01/21/2020 23:01:07 - INFO - transformers.configuration_utils -   Model config {\n",
      "  \"attn_pdrop\": 0.1,\n",
      "  \"embd_pdrop\": 0.1,\n",
      "  \"finetuning_task\": null,\n",
      "  \"initializer_range\": 0.02,\n",
      "  \"is_decoder\": false,\n",
      "  \"layer_norm_epsilon\": 1e-05,\n",
      "  \"n_ctx\": 1024,\n",
      "  \"n_embd\": 768,\n",
      "  \"n_head\": 12,\n",
      "  \"n_layer\": 12,\n",
      "  \"n_positions\": 1024,\n",
      "  \"num_labels\": 1,\n",
      "  \"output_attentions\": false,\n",
      "  \"output_hidden_states\": false,\n",
      "  \"output_past\": true,\n",
      "  \"pruned_heads\": {},\n",
      "  \"resid_pdrop\": 0.1,\n",
      "  \"summary_activation\": null,\n",
      "  \"summary_first_dropout\": 0.1,\n",
      "  \"summary_proj_to_labels\": true,\n",
      "  \"summary_type\": \"cls_index\",\n",
      "  \"summary_use_proj\": true,\n",
      "  \"torchscript\": false,\n",
      "  \"use_bfloat16\": false,\n",
      "  \"vocab_size\": 50257\n",
      "}\n",
      "\n",
      "01/21/2020 23:01:07 - INFO - transformers.modeling_utils -   loading weights file https://s3.amazonaws.com/models.huggingface.co/bert/gpt2-pytorch_model.bin from cache at /u/myhu/.cache/torch/transformers/4295d67f022061768f4adc386234dbdb781c814c39662dd1662221c309962c55.778cf36f5c4e5d94c8cd9cefcf2a580c8643570eb327f0d4a1f007fab2acbdf1\n"
     ]
    }
   ],
   "source": [
    "# setup cell\n",
    "\n",
    "def set_seed(seed=42, n_gpu=0):\n",
    "    np.random.seed(seed)\n",
    "    torch.manual_seed(seed)\n",
    "    if n_gpu > 0:\n",
    "        torch.cuda.manual_seed_all(args.seed)\n",
    "\n",
    "device = torch.device(\"cuda\" if torch.cuda.is_available() else \"cpu\")\n",
    "n_gpus = torch.cuda.device_count()\n",
    "\n",
    "set_seed()\n",
    "tokenizer = GPT2Tokenizer.from_pretrained('gpt2')\n",
    "model = GPT2LMHeadModel.from_pretrained('gpt2')\n",
    "model.to(device)\n",
    "model.eval()\n",
    "\n",
    "vocab_size = tokenizer.vocab_size"
   ]
  },
  {
   "cell_type": "code",
   "execution_count": 5,
   "metadata": {},
   "outputs": [],
   "source": [
    "# generation, no truncation\n",
    "\n",
    "file = '../training_data/gbw/test/100_lines.txt'\n",
    "# file = '../training_data/cats.txt'\n",
    "length = 135"
   ]
  },
  {
   "cell_type": "code",
   "execution_count": 6,
   "metadata": {},
   "outputs": [
    {
     "name": "stderr",
     "output_type": "stream",
     "text": [
      "100%|██████████| 135/135 [00:22<00:00,  5.91it/s]\n",
      "100%|██████████| 135/135 [00:20<00:00,  2.03it/s]\n",
      "100%|██████████| 135/135 [00:32<00:00,  4.09it/s]\n",
      "100%|██████████| 135/135 [00:30<00:00,  2.88it/s]\n",
      "100%|██████████| 135/135 [00:20<00:00,  3.54it/s]\n",
      "100%|██████████| 135/135 [00:20<00:00,  3.54it/s]\n",
      "100%|██████████| 135/135 [00:27<00:00,  2.97it/s]\n",
      "100%|██████████| 135/135 [00:27<00:00,  2.97it/s]\n",
      "100%|██████████| 135/135 [00:23<00:00,  3.24it/s]\n",
      "100%|██████████| 135/135 [00:23<00:00,  3.23it/s]\n",
      "100%|██████████| 135/135 [00:22<00:00,  3.36it/s]\n",
      "100%|██████████| 135/135 [00:22<00:00,  3.36it/s]\n",
      "100%|██████████| 135/135 [00:30<00:00,  2.86it/s]\n",
      "100%|██████████| 135/135 [00:30<00:00,  2.86it/s]\n",
      "100%|██████████| 135/135 [00:26<00:00,  3.00it/s]\n",
      "100%|██████████| 135/135 [00:26<00:00,  3.00it/s]\n",
      "100%|██████████| 135/135 [00:35<00:00,  3.83it/s]\n",
      "100%|██████████| 135/135 [00:34<00:00,  2.56it/s]\n",
      "100%|██████████| 135/135 [00:25<00:00,  2.99it/s]\n",
      "100%|██████████| 135/135 [00:25<00:00,  2.98it/s]\n",
      "100%|██████████| 135/135 [00:22<00:00,  3.31it/s]\n",
      "100%|██████████| 135/135 [00:22<00:00,  3.32it/s]\n",
      "100%|██████████| 135/135 [00:24<00:00,  3.17it/s]\n",
      "100%|██████████| 135/135 [00:24<00:00,  3.17it/s]\n",
      "100%|██████████| 135/135 [00:22<00:00,  3.32it/s]\n",
      "100%|██████████| 135/135 [00:22<00:00,  3.32it/s]\n",
      "100%|██████████| 135/135 [00:20<00:00,  3.53it/s]\n",
      "100%|██████████| 135/135 [00:20<00:00,  3.53it/s]\n",
      "100%|██████████| 135/135 [00:21<00:00,  3.44it/s]\n",
      "100%|██████████| 135/135 [00:21<00:00,  3.44it/s]\n",
      "100%|██████████| 135/135 [00:19<00:00,  3.61it/s]\n",
      "100%|██████████| 135/135 [00:19<00:00,  3.61it/s]\n",
      "100%|██████████| 135/135 [00:23<00:00,  3.21it/s]\n",
      "100%|██████████| 135/135 [00:24<00:00,  3.21it/s]\n",
      "100%|██████████| 135/135 [00:21<00:00,  3.42it/s]\n",
      "100%|██████████| 135/135 [00:21<00:00,  3.42it/s]\n",
      "100%|██████████| 135/135 [00:25<00:00,  3.02it/s]\n",
      "100%|██████████| 135/135 [00:25<00:00,  3.02it/s]\n",
      "100%|██████████| 135/135 [00:27<00:00,  2.97it/s]\n",
      "100%|██████████| 135/135 [00:27<00:00,  2.97it/s]\n",
      "100%|██████████| 135/135 [00:22<00:00,  3.29it/s]\n",
      "100%|██████████| 135/135 [00:22<00:00,  3.29it/s]\n",
      "100%|██████████| 135/135 [00:25<00:00,  3.01it/s]\n",
      "100%|██████████| 135/135 [00:25<00:00,  3.02it/s]\n",
      "100%|██████████| 135/135 [00:25<00:00,  3.00it/s]\n",
      "100%|██████████| 135/135 [00:25<00:00,  3.00it/s]\n",
      "100%|██████████| 135/135 [00:22<00:00,  3.34it/s]\n",
      "100%|██████████| 135/135 [00:22<00:00,  3.34it/s]\n",
      "100%|██████████| 135/135 [00:20<00:00,  3.53it/s]\n",
      "100%|██████████| 135/135 [00:20<00:00,  3.53it/s]\n",
      "100%|██████████| 135/135 [00:24<00:00,  3.17it/s]\n",
      "100%|██████████| 135/135 [00:24<00:00,  3.17it/s]\n",
      "100%|██████████| 135/135 [00:29<00:00,  2.82it/s]\n",
      "100%|██████████| 135/135 [00:29<00:00,  2.82it/s]\n",
      "100%|██████████| 135/135 [00:22<00:00,  3.34it/s]\n",
      "100%|██████████| 135/135 [00:22<00:00,  3.34it/s]\n",
      "100%|██████████| 135/135 [00:23<00:00,  3.25it/s]\n",
      "100%|██████████| 135/135 [00:23<00:00,  3.25it/s]\n",
      "100%|██████████| 135/135 [00:26<00:00,  3.01it/s]\n",
      "100%|██████████| 135/135 [00:26<00:00,  3.01it/s]\n",
      "100%|██████████| 135/135 [00:23<00:00,  3.21it/s]\n",
      "100%|██████████| 135/135 [00:23<00:00,  3.21it/s]\n",
      "100%|██████████| 135/135 [00:22<00:00,  3.33it/s]\n",
      "100%|██████████| 135/135 [00:22<00:00,  3.34it/s]\n",
      "100%|██████████| 135/135 [00:22<00:00,  3.34it/s]\n",
      "100%|██████████| 135/135 [00:22<00:00,  3.34it/s]\n",
      "100%|██████████| 135/135 [00:30<00:00,  2.82it/s]\n",
      "100%|██████████| 135/135 [00:30<00:00,  2.82it/s]\n",
      "100%|██████████| 135/135 [00:21<00:00,  3.39it/s]\n",
      "100%|██████████| 135/135 [00:21<00:00,  3.39it/s]\n",
      " 89%|████████▉ | 120/135 [00:34<00:08,  1.80it/s]"
     ]
    },
    {
     "ename": "RuntimeError",
     "evalue": "CUDA out of memory. Tried to allocate 2.41 GiB (GPU 0; 10.73 GiB total capacity; 4.73 GiB already allocated; 2.41 GiB free; 2.78 GiB cached)",
     "output_type": "error",
     "traceback": [
      "\u001b[0;31m---------------------------------------------------------------------------\u001b[0m",
      "\u001b[0;31mRuntimeError\u001b[0m                              Traceback (most recent call last)",
      "\u001b[0;32m<ipython-input-6-cacd894cf516>\u001b[0m in \u001b[0;36m<module>\u001b[0;34m\u001b[0m\n\u001b[1;32m     20\u001b[0m                 \u001b[0mnum_samples\u001b[0m\u001b[0;34m=\u001b[0m\u001b[0;36m128\u001b[0m\u001b[0;34m,\u001b[0m\u001b[0;34m\u001b[0m\u001b[0;34m\u001b[0m\u001b[0m\n\u001b[1;32m     21\u001b[0m                 \u001b[0mis_xlnet\u001b[0m\u001b[0;34m=\u001b[0m\u001b[0;32mFalse\u001b[0m\u001b[0;34m,\u001b[0m\u001b[0;34m\u001b[0m\u001b[0;34m\u001b[0m\u001b[0m\n\u001b[0;32m---> 22\u001b[0;31m                 \u001b[0mdevice\u001b[0m\u001b[0;34m=\u001b[0m\u001b[0mdevice\u001b[0m\u001b[0;34m\u001b[0m\u001b[0;34m\u001b[0m\u001b[0m\n\u001b[0m\u001b[1;32m     23\u001b[0m             )\n\u001b[1;32m     24\u001b[0m             \u001b[0ments\u001b[0m \u001b[0;34m=\u001b[0m \u001b[0ments\u001b[0m\u001b[0;34m.\u001b[0m\u001b[0mmean\u001b[0m\u001b[0;34m(\u001b[0m\u001b[0maxis\u001b[0m\u001b[0;34m=\u001b[0m\u001b[0;36m0\u001b[0m\u001b[0;34m)\u001b[0m\u001b[0;34m\u001b[0m\u001b[0;34m\u001b[0m\u001b[0m\n",
      "\u001b[0;32m/n/fs/pnlp/myhu/transformers/examples/generate_with_entropy.py\u001b[0m in \u001b[0;36msample_sequence_batch\u001b[0;34m(model, length, context, tokenizer, num_samples, temperature, batch_size, top_k, top_p, is_xlnet, device)\u001b[0m\n\u001b[1;32m    161\u001b[0m                 \u001b[0mtop_p\u001b[0m\u001b[0;34m=\u001b[0m\u001b[0mtop_p\u001b[0m\u001b[0;34m,\u001b[0m\u001b[0;34m\u001b[0m\u001b[0;34m\u001b[0m\u001b[0m\n\u001b[1;32m    162\u001b[0m                 \u001b[0mnum_samples\u001b[0m\u001b[0;34m=\u001b[0m\u001b[0mbatch_size\u001b[0m\u001b[0;34m,\u001b[0m\u001b[0;34m\u001b[0m\u001b[0;34m\u001b[0m\u001b[0m\n\u001b[0;32m--> 163\u001b[0;31m                 \u001b[0mdevice\u001b[0m\u001b[0;34m=\u001b[0m\u001b[0mdevice\u001b[0m\u001b[0;34m\u001b[0m\u001b[0;34m\u001b[0m\u001b[0m\n\u001b[0m\u001b[1;32m    164\u001b[0m             )\n\u001b[1;32m    165\u001b[0m \u001b[0;34m\u001b[0m\u001b[0m\n",
      "\u001b[0;32m/n/fs/pnlp/myhu/transformers/examples/generate_with_entropy.py\u001b[0m in \u001b[0;36msample_sequence\u001b[0;34m(model, length, context, num_samples, temperature, top_k, top_p, is_xlnet, device)\u001b[0m\n\u001b[1;32m    132\u001b[0m                 \u001b[0minputs\u001b[0m \u001b[0;34m=\u001b[0m \u001b[0;34m{\u001b[0m\u001b[0;34m'input_ids'\u001b[0m\u001b[0;34m:\u001b[0m \u001b[0minput_ids\u001b[0m\u001b[0;34m,\u001b[0m \u001b[0;34m'perm_mask'\u001b[0m\u001b[0;34m:\u001b[0m \u001b[0mperm_mask\u001b[0m\u001b[0;34m,\u001b[0m \u001b[0;34m'target_mapping'\u001b[0m\u001b[0;34m:\u001b[0m \u001b[0mtarget_mapping\u001b[0m\u001b[0;34m}\u001b[0m\u001b[0;34m\u001b[0m\u001b[0;34m\u001b[0m\u001b[0m\n\u001b[1;32m    133\u001b[0m \u001b[0;34m\u001b[0m\u001b[0m\n\u001b[0;32m--> 134\u001b[0;31m             \u001b[0moutputs\u001b[0m \u001b[0;34m=\u001b[0m \u001b[0mmodel\u001b[0m\u001b[0;34m(\u001b[0m\u001b[0;34m**\u001b[0m\u001b[0minputs\u001b[0m\u001b[0;34m)\u001b[0m  \u001b[0;31m# Note: we could also use 'past' with GPT-2/Transfo-XL/XLNet (cached hidden-states)\u001b[0m\u001b[0;34m\u001b[0m\u001b[0;34m\u001b[0m\u001b[0m\n\u001b[0m\u001b[1;32m    135\u001b[0m             \u001b[0mnext_token_logits\u001b[0m \u001b[0;34m=\u001b[0m \u001b[0moutputs\u001b[0m\u001b[0;34m[\u001b[0m\u001b[0;36m0\u001b[0m\u001b[0;34m]\u001b[0m\u001b[0;34m[\u001b[0m\u001b[0;34m:\u001b[0m\u001b[0;34m,\u001b[0m \u001b[0;34m-\u001b[0m\u001b[0;36m1\u001b[0m\u001b[0;34m,\u001b[0m \u001b[0;34m:\u001b[0m\u001b[0;34m]\u001b[0m \u001b[0;34m/\u001b[0m \u001b[0mtemperature\u001b[0m\u001b[0;34m\u001b[0m\u001b[0;34m\u001b[0m\u001b[0m\n\u001b[1;32m    136\u001b[0m             \u001b[0mnext_probs\u001b[0m \u001b[0;34m=\u001b[0m \u001b[0mF\u001b[0m\u001b[0;34m.\u001b[0m\u001b[0msoftmax\u001b[0m\u001b[0;34m(\u001b[0m\u001b[0mnext_token_logits\u001b[0m\u001b[0;34m,\u001b[0m \u001b[0mdim\u001b[0m\u001b[0;34m=\u001b[0m\u001b[0;34m-\u001b[0m\u001b[0;36m1\u001b[0m\u001b[0;34m)\u001b[0m\u001b[0;34m\u001b[0m\u001b[0;34m\u001b[0m\u001b[0m\n",
      "\u001b[0;32m/n/fs/pnlp/myhu/miniconda3/lib/python3.7/site-packages/torch/nn/modules/module.py\u001b[0m in \u001b[0;36m__call__\u001b[0;34m(self, *input, **kwargs)\u001b[0m\n\u001b[1;32m    545\u001b[0m             \u001b[0mresult\u001b[0m \u001b[0;34m=\u001b[0m \u001b[0mself\u001b[0m\u001b[0;34m.\u001b[0m\u001b[0m_slow_forward\u001b[0m\u001b[0;34m(\u001b[0m\u001b[0;34m*\u001b[0m\u001b[0minput\u001b[0m\u001b[0;34m,\u001b[0m \u001b[0;34m**\u001b[0m\u001b[0mkwargs\u001b[0m\u001b[0;34m)\u001b[0m\u001b[0;34m\u001b[0m\u001b[0;34m\u001b[0m\u001b[0m\n\u001b[1;32m    546\u001b[0m         \u001b[0;32melse\u001b[0m\u001b[0;34m:\u001b[0m\u001b[0;34m\u001b[0m\u001b[0;34m\u001b[0m\u001b[0m\n\u001b[0;32m--> 547\u001b[0;31m             \u001b[0mresult\u001b[0m \u001b[0;34m=\u001b[0m \u001b[0mself\u001b[0m\u001b[0;34m.\u001b[0m\u001b[0mforward\u001b[0m\u001b[0;34m(\u001b[0m\u001b[0;34m*\u001b[0m\u001b[0minput\u001b[0m\u001b[0;34m,\u001b[0m \u001b[0;34m**\u001b[0m\u001b[0mkwargs\u001b[0m\u001b[0;34m)\u001b[0m\u001b[0;34m\u001b[0m\u001b[0;34m\u001b[0m\u001b[0m\n\u001b[0m\u001b[1;32m    548\u001b[0m         \u001b[0;32mfor\u001b[0m \u001b[0mhook\u001b[0m \u001b[0;32min\u001b[0m \u001b[0mself\u001b[0m\u001b[0;34m.\u001b[0m\u001b[0m_forward_hooks\u001b[0m\u001b[0;34m.\u001b[0m\u001b[0mvalues\u001b[0m\u001b[0;34m(\u001b[0m\u001b[0;34m)\u001b[0m\u001b[0;34m:\u001b[0m\u001b[0;34m\u001b[0m\u001b[0;34m\u001b[0m\u001b[0m\n\u001b[1;32m    549\u001b[0m             \u001b[0mhook_result\u001b[0m \u001b[0;34m=\u001b[0m \u001b[0mhook\u001b[0m\u001b[0;34m(\u001b[0m\u001b[0mself\u001b[0m\u001b[0;34m,\u001b[0m \u001b[0minput\u001b[0m\u001b[0;34m,\u001b[0m \u001b[0mresult\u001b[0m\u001b[0;34m)\u001b[0m\u001b[0;34m\u001b[0m\u001b[0;34m\u001b[0m\u001b[0m\n",
      "\u001b[0;32m/n/fs/pnlp/myhu/transformers/transformers/modeling_gpt2.py\u001b[0m in \u001b[0;36mforward\u001b[0;34m(self, input_ids, past, attention_mask, token_type_ids, position_ids, head_mask, inputs_embeds, labels)\u001b[0m\n\u001b[1;32m    547\u001b[0m         \u001b[0mhidden_states\u001b[0m \u001b[0;34m=\u001b[0m \u001b[0mtransformer_outputs\u001b[0m\u001b[0;34m[\u001b[0m\u001b[0;36m0\u001b[0m\u001b[0;34m]\u001b[0m\u001b[0;34m\u001b[0m\u001b[0;34m\u001b[0m\u001b[0m\n\u001b[1;32m    548\u001b[0m \u001b[0;34m\u001b[0m\u001b[0m\n\u001b[0;32m--> 549\u001b[0;31m         \u001b[0mlm_logits\u001b[0m \u001b[0;34m=\u001b[0m \u001b[0mself\u001b[0m\u001b[0;34m.\u001b[0m\u001b[0mlm_head\u001b[0m\u001b[0;34m(\u001b[0m\u001b[0mhidden_states\u001b[0m\u001b[0;34m)\u001b[0m\u001b[0;34m\u001b[0m\u001b[0;34m\u001b[0m\u001b[0m\n\u001b[0m\u001b[1;32m    550\u001b[0m \u001b[0;34m\u001b[0m\u001b[0m\n\u001b[1;32m    551\u001b[0m         \u001b[0moutputs\u001b[0m \u001b[0;34m=\u001b[0m \u001b[0;34m(\u001b[0m\u001b[0mlm_logits\u001b[0m\u001b[0;34m,\u001b[0m\u001b[0;34m)\u001b[0m \u001b[0;34m+\u001b[0m \u001b[0mtransformer_outputs\u001b[0m\u001b[0;34m[\u001b[0m\u001b[0;36m1\u001b[0m\u001b[0;34m:\u001b[0m\u001b[0;34m]\u001b[0m\u001b[0;34m\u001b[0m\u001b[0;34m\u001b[0m\u001b[0m\n",
      "\u001b[0;32m/n/fs/pnlp/myhu/miniconda3/lib/python3.7/site-packages/torch/nn/modules/module.py\u001b[0m in \u001b[0;36m__call__\u001b[0;34m(self, *input, **kwargs)\u001b[0m\n\u001b[1;32m    545\u001b[0m             \u001b[0mresult\u001b[0m \u001b[0;34m=\u001b[0m \u001b[0mself\u001b[0m\u001b[0;34m.\u001b[0m\u001b[0m_slow_forward\u001b[0m\u001b[0;34m(\u001b[0m\u001b[0;34m*\u001b[0m\u001b[0minput\u001b[0m\u001b[0;34m,\u001b[0m \u001b[0;34m**\u001b[0m\u001b[0mkwargs\u001b[0m\u001b[0;34m)\u001b[0m\u001b[0;34m\u001b[0m\u001b[0;34m\u001b[0m\u001b[0m\n\u001b[1;32m    546\u001b[0m         \u001b[0;32melse\u001b[0m\u001b[0;34m:\u001b[0m\u001b[0;34m\u001b[0m\u001b[0;34m\u001b[0m\u001b[0m\n\u001b[0;32m--> 547\u001b[0;31m             \u001b[0mresult\u001b[0m \u001b[0;34m=\u001b[0m \u001b[0mself\u001b[0m\u001b[0;34m.\u001b[0m\u001b[0mforward\u001b[0m\u001b[0;34m(\u001b[0m\u001b[0;34m*\u001b[0m\u001b[0minput\u001b[0m\u001b[0;34m,\u001b[0m \u001b[0;34m**\u001b[0m\u001b[0mkwargs\u001b[0m\u001b[0;34m)\u001b[0m\u001b[0;34m\u001b[0m\u001b[0;34m\u001b[0m\u001b[0m\n\u001b[0m\u001b[1;32m    548\u001b[0m         \u001b[0;32mfor\u001b[0m \u001b[0mhook\u001b[0m \u001b[0;32min\u001b[0m \u001b[0mself\u001b[0m\u001b[0;34m.\u001b[0m\u001b[0m_forward_hooks\u001b[0m\u001b[0;34m.\u001b[0m\u001b[0mvalues\u001b[0m\u001b[0;34m(\u001b[0m\u001b[0;34m)\u001b[0m\u001b[0;34m:\u001b[0m\u001b[0;34m\u001b[0m\u001b[0;34m\u001b[0m\u001b[0m\n\u001b[1;32m    549\u001b[0m             \u001b[0mhook_result\u001b[0m \u001b[0;34m=\u001b[0m \u001b[0mhook\u001b[0m\u001b[0;34m(\u001b[0m\u001b[0mself\u001b[0m\u001b[0;34m,\u001b[0m \u001b[0minput\u001b[0m\u001b[0;34m,\u001b[0m \u001b[0mresult\u001b[0m\u001b[0;34m)\u001b[0m\u001b[0;34m\u001b[0m\u001b[0;34m\u001b[0m\u001b[0m\n",
      "\u001b[0;32m/n/fs/pnlp/myhu/miniconda3/lib/python3.7/site-packages/torch/nn/modules/linear.py\u001b[0m in \u001b[0;36mforward\u001b[0;34m(self, input)\u001b[0m\n\u001b[1;32m     85\u001b[0m \u001b[0;34m\u001b[0m\u001b[0m\n\u001b[1;32m     86\u001b[0m     \u001b[0;32mdef\u001b[0m \u001b[0mforward\u001b[0m\u001b[0;34m(\u001b[0m\u001b[0mself\u001b[0m\u001b[0;34m,\u001b[0m \u001b[0minput\u001b[0m\u001b[0;34m)\u001b[0m\u001b[0;34m:\u001b[0m\u001b[0;34m\u001b[0m\u001b[0;34m\u001b[0m\u001b[0m\n\u001b[0;32m---> 87\u001b[0;31m         \u001b[0;32mreturn\u001b[0m \u001b[0mF\u001b[0m\u001b[0;34m.\u001b[0m\u001b[0mlinear\u001b[0m\u001b[0;34m(\u001b[0m\u001b[0minput\u001b[0m\u001b[0;34m,\u001b[0m \u001b[0mself\u001b[0m\u001b[0;34m.\u001b[0m\u001b[0mweight\u001b[0m\u001b[0;34m,\u001b[0m \u001b[0mself\u001b[0m\u001b[0;34m.\u001b[0m\u001b[0mbias\u001b[0m\u001b[0;34m)\u001b[0m\u001b[0;34m\u001b[0m\u001b[0;34m\u001b[0m\u001b[0m\n\u001b[0m\u001b[1;32m     88\u001b[0m \u001b[0;34m\u001b[0m\u001b[0m\n\u001b[1;32m     89\u001b[0m     \u001b[0;32mdef\u001b[0m \u001b[0mextra_repr\u001b[0m\u001b[0;34m(\u001b[0m\u001b[0mself\u001b[0m\u001b[0;34m)\u001b[0m\u001b[0;34m:\u001b[0m\u001b[0;34m\u001b[0m\u001b[0;34m\u001b[0m\u001b[0m\n",
      "\u001b[0;32m/n/fs/pnlp/myhu/miniconda3/lib/python3.7/site-packages/torch/nn/functional.py\u001b[0m in \u001b[0;36mlinear\u001b[0;34m(input, weight, bias)\u001b[0m\n\u001b[1;32m   1369\u001b[0m         \u001b[0mret\u001b[0m \u001b[0;34m=\u001b[0m \u001b[0mtorch\u001b[0m\u001b[0;34m.\u001b[0m\u001b[0maddmm\u001b[0m\u001b[0;34m(\u001b[0m\u001b[0mbias\u001b[0m\u001b[0;34m,\u001b[0m \u001b[0minput\u001b[0m\u001b[0;34m,\u001b[0m \u001b[0mweight\u001b[0m\u001b[0;34m.\u001b[0m\u001b[0mt\u001b[0m\u001b[0;34m(\u001b[0m\u001b[0;34m)\u001b[0m\u001b[0;34m)\u001b[0m\u001b[0;34m\u001b[0m\u001b[0;34m\u001b[0m\u001b[0m\n\u001b[1;32m   1370\u001b[0m     \u001b[0;32melse\u001b[0m\u001b[0;34m:\u001b[0m\u001b[0;34m\u001b[0m\u001b[0;34m\u001b[0m\u001b[0m\n\u001b[0;32m-> 1371\u001b[0;31m         \u001b[0moutput\u001b[0m \u001b[0;34m=\u001b[0m \u001b[0minput\u001b[0m\u001b[0;34m.\u001b[0m\u001b[0mmatmul\u001b[0m\u001b[0;34m(\u001b[0m\u001b[0mweight\u001b[0m\u001b[0;34m.\u001b[0m\u001b[0mt\u001b[0m\u001b[0;34m(\u001b[0m\u001b[0;34m)\u001b[0m\u001b[0;34m)\u001b[0m\u001b[0;34m\u001b[0m\u001b[0;34m\u001b[0m\u001b[0m\n\u001b[0m\u001b[1;32m   1372\u001b[0m         \u001b[0;32mif\u001b[0m \u001b[0mbias\u001b[0m \u001b[0;32mis\u001b[0m \u001b[0;32mnot\u001b[0m \u001b[0;32mNone\u001b[0m\u001b[0;34m:\u001b[0m\u001b[0;34m\u001b[0m\u001b[0;34m\u001b[0m\u001b[0m\n\u001b[1;32m   1373\u001b[0m             \u001b[0moutput\u001b[0m \u001b[0;34m+=\u001b[0m \u001b[0mbias\u001b[0m\u001b[0;34m\u001b[0m\u001b[0;34m\u001b[0m\u001b[0m\n",
      "\u001b[0;31mRuntimeError\u001b[0m: CUDA out of memory. Tried to allocate 2.41 GiB (GPU 0; 10.73 GiB total capacity; 4.73 GiB already allocated; 2.41 GiB free; 2.78 GiB cached)"
     ]
    }
   ],
   "source": [
    "# full gen, take 2\n",
    "# turned off gradients for entropy, imported other method to deal with combining batches.\n",
    "k = 0\n",
    "\n",
    "with torch.no_grad():\n",
    "    avg_ents = torch.zeros((1, length), device=device)\n",
    "    i = 0\n",
    "    with open(file) as fp:\n",
    "        for line in fp:\n",
    "            context = tokenizer.encode(line)\n",
    "            ents = sample_sequence_batch(\n",
    "                model=model,\n",
    "                context=context,\n",
    "                length=length,\n",
    "                tokenizer=tokenizer,\n",
    "                temperature=0.968,\n",
    "                top_k=k,\n",
    "                top_p=0.0,\n",
    "                batch_size=64,\n",
    "                num_samples=128,\n",
    "                is_xlnet=False,\n",
    "                device=device\n",
    "            )\n",
    "            ents = ents.mean(axis=0)\n",
    "            avg_ents = (avg_ents * i + ents) / (i + 1)\n",
    "            i += 1"
   ]
  },
  {
   "cell_type": "code",
   "execution_count": 7,
   "metadata": {},
   "outputs": [],
   "source": [
    "ents_temp = avg_ents.cpu().numpy()"
   ]
  },
  {
   "cell_type": "code",
   "execution_count": 8,
   "metadata": {},
   "outputs": [
    {
     "data": {
      "text/plain": [
       "array([[3.9763484, 2.8690734, 4.245613 , 3.9395442, 3.7374408, 3.7373393,\n",
       "        3.682041 , 3.65426  , 3.6674364, 3.6068285, 3.651591 , 3.673866 ,\n",
       "        3.677447 , 3.6369781, 3.6043544, 3.6393406, 3.6918402, 3.5615673,\n",
       "        3.5632386, 3.6424472, 3.5852213, 3.5942707, 3.59274  , 3.5904174,\n",
       "        3.5728266, 3.5991132, 3.553972 , 3.5879288, 3.624536 , 3.6291075,\n",
       "        3.5924103, 3.5809722, 3.6270597, 3.5969367, 3.595249 , 3.521351 ,\n",
       "        3.5425892, 3.5562568, 3.5248077, 3.5615523, 3.6049914, 3.613414 ,\n",
       "        3.5241385, 3.6188045, 3.6168149, 3.5322704, 3.59224  , 3.6110296,\n",
       "        3.5882635, 3.514173 , 3.5673323, 3.5937796, 3.5581484, 3.6127536,\n",
       "        3.5580506, 3.5482008, 3.5695822, 3.5910304, 3.5309558, 3.5938404,\n",
       "        3.603749 , 3.5720317, 3.5956123, 3.599185 , 3.5986776, 3.5965505,\n",
       "        3.6073499, 3.6621125, 3.542957 , 3.6608214, 3.5515912, 3.6253226,\n",
       "        3.574823 , 3.6196544, 3.580857 , 3.581163 , 3.6379347, 3.612405 ,\n",
       "        3.6300776, 3.6290476, 3.6385152, 3.6286561, 3.5699854, 3.631927 ,\n",
       "        3.5639267, 3.5825608, 3.6631596, 3.630157 , 3.6140044, 3.5870125,\n",
       "        3.6962028, 3.5795765, 3.6015873, 3.6188135, 3.6313884, 3.633894 ,\n",
       "        3.601786 , 3.5788796, 3.6511855, 3.5614603, 3.6217992, 3.601519 ,\n",
       "        3.6719549, 3.625725 , 3.5945725, 3.6484644, 3.5965617, 3.569108 ,\n",
       "        3.5612073, 3.6254137, 3.6897988, 3.6148763, 3.5703878, 3.6548297,\n",
       "        3.6603768, 3.6407058, 3.6284611, 3.626685 , 3.646455 , 3.6409159,\n",
       "        3.6429746, 3.5710616, 3.6410735, 3.5953383, 3.6253092, 3.6450415,\n",
       "        3.6477375, 3.594302 , 3.5837913, 3.5620992, 3.5798578, 3.6241395,\n",
       "        3.7011635, 3.5838366, 3.6053731]], dtype=float32)"
      ]
     },
     "execution_count": 8,
     "metadata": {},
     "output_type": "execute_result"
    }
   ],
   "source": [
    "ents_temp"
   ]
  },
  {
   "cell_type": "code",
   "execution_count": null,
   "metadata": {},
   "outputs": [],
   "source": [
    "# full gen, take 2\n",
    "# turned off gradients for entropy, imported other method to deal with combining batches.\n",
    "k = 0\n",
    "\n",
    "with torch.no_grad():\n",
    "    avg_ents = torch.zeros((1, length), device=device)\n",
    "    i = 0\n",
    "    with open(file) as fp:\n",
    "        for line in fp:\n",
    "            context = tokenizer.encode(line)\n",
    "            ents = sample_sequence_batch(\n",
    "                model=model,\n",
    "                context=context,\n",
    "                length=length,\n",
    "                tokenizer=tokenizer,\n",
    "                temperature=1,\n",
    "                top_k=k,\n",
    "                top_p=0.0,\n",
    "                batch_size=32,\n",
    "                num_samples=128,\n",
    "                is_xlnet=False,\n",
    "                device=device\n",
    "            )\n",
    "            ents = ents.mean(axis=0)\n",
    "            avg_ents = (avg_ents * i + ents) / (i + 1)\n",
    "            i += 1"
   ]
  },
  {
   "cell_type": "code",
   "execution_count": 15,
   "metadata": {},
   "outputs": [],
   "source": [
    "ents_full = avg_ents.cpu().numpy()"
   ]
  },
  {
   "cell_type": "code",
   "execution_count": 18,
   "metadata": {},
   "outputs": [
    {
     "data": {
      "text/plain": [
       "<matplotlib.legend.Legend at 0x7f02c28a2ef0>"
      ]
     },
     "execution_count": 18,
     "metadata": {},
     "output_type": "execute_result"
    },
    {
     "data": {
      "image/png": "[encoded data removed]",
      "text/plain": [
       "<Figure size 432x288 with 1 Axes>"
      ]
     },
     "metadata": {
      "needs_background": "light"
     },
     "output_type": "display_data"
    }
   ],
   "source": [
    "plt.plot(np.exp(ents_full[0, :]), label='full')\n",
    "plt.plot(np.exp(ents_temp[0, :]), label='T = 0.968')\n",
    "plt.xlabel('t')\n",
    "plt.ylabel('$e^H$')\n",
    "plt.legend()"
   ]
  },
  {
   "cell_type": "code",
   "execution_count": null,
   "metadata": {},
   "outputs": [],
   "source": []
  }
 ],
 "metadata": {
  "kernelspec": {
   "display_name": "Python 3",
   "language": "python",
   "name": "python3"
  },
  "language_info": {
   "codemirror_mode": {
    "name": "ipython",
    "version": 3
   },
   "file_extension": ".py",
   "mimetype": "text/x-python",
   "name": "python",
   "nbconvert_exporter": "python",
   "pygments_lexer": "ipython3",
   "version": "3.7.3"
  }
 },
 "nbformat": 4,
 "nbformat_minor": 2
}
