{
 "cells": [
  {
   "cell_type": "code",
   "execution_count": null,
   "metadata": {},
   "outputs": [],
   "source": [
    "# %matplotlib inline\n",
    "\n",
    "import os\n",
    "import sys\n",
    "sys.path.append('../examples')\n",
    "\n",
    "from tqdm import trange\n",
    "\n",
    "import torch\n",
    "import torch.nn.functional as F\n",
    "import torch.optim as optim\n",
    "import numpy as np\n",
    "\n",
    "from transformers import GPT2LMHeadModel, GPT2Tokenizer, GPT2Config\n",
    "\n",
    "from generate_with_calibration import get_lookahead_entropies, sample_sequence_calibrated\n",
    "\n",
    "import logging\n",
    "logging.getLogger('transformers.tokenization_utils').setLevel(logging.ERROR)"
   ]
  },
  {
   "cell_type": "code",
   "execution_count": null,
   "metadata": {},
   "outputs": [],
   "source": [
    "def set_seed(seed=42, n_gpu=0):\n",
    "    np.random.seed(seed)\n",
    "    torch.manual_seed(seed)\n",
    "    if n_gpu > 0:\n",
    "        torch.cuda.manual_seed_all(args.seed)"
   ]
  },
  {
   "cell_type": "code",
   "execution_count": null,
   "metadata": {},
   "outputs": [],
   "source": [
    "# setup cell \n",
    "\n",
    "device = torch.device(\"cuda\" if torch.cuda.is_available() else \"cpu\")\n",
    "n_gpus = torch.cuda.device_count()\n",
    "\n",
    "set_seed()\n",
    "tokenizer = GPT2Tokenizer.from_pretrained('gpt2')\n",
    "model = GPT2LMHeadModel.from_pretrained('gpt2')\n",
    "model.to(device)\n",
    "model.eval()\n",
    "\n",
    "MAX_LENGTH = int(10000)\n",
    "length = 100\n",
    "\n",
    "if length < 0 and model.config.max_position_embeddings > 0:\n",
    "    length = model.config.max_position_embeddings\n",
    "elif 0 < model.config.max_position_embeddings < length:\n",
    "    length = model.config.max_position_embeddings  # No generation bigger than model size \n",
    "elif length < 0:\n",
    "    length = MAX_LENGTH \n",
    "\n",
    "vocab_size = tokenizer.vocab_size\n",
    "\n",
    "print(f'VOCAB SIZE: {vocab_size}')\n",
    "print(f'DEVICE: {device}')\n",
    "print(f'N GPUS: {n_gpus}')\n",
    "\n",
    "# variables set: model, vocab_size, length, device, n_gpus, context_tokens"
   ]
  },
  {
   "cell_type": "code",
   "execution_count": null,
   "metadata": {},
   "outputs": [],
   "source": [
    "raw_text = 'In a shocking finding, scientist discovered a herd of unicorns living in a remote, previously unexplored valley, in the Andes Mountains. Even more surprising to the researchers was the fact that the unicorns spoke perfect English.'\n",
    "# raw_text = 'I like.'\n",
    "\n",
    "context_tokens = tokenizer.encode(raw_text)"
   ]
  },
  {
   "cell_type": "code",
   "execution_count": null,
   "metadata": {},
   "outputs": [],
   "source": [
    "def calibrate(model, context, vocab_size, batch_size = 512, top_k=0, iters=100000,device='cpu'):\n",
    "    N = len(context)\n",
    "    Pr = torch.zeros(N-1)\n",
    "    H = torch.zeros(N-1)\n",
    "    S = torch.zeros(N-1)\n",
    "\n",
    "    alpha = torch.randn(1, requires_grad=True)\n",
    "    optimizer = optim.SGD([alpha], lr=0.001, momentum=0.9)\n",
    "\n",
    "    def init_CEL():\n",
    "        # TODO: missing 1st word\n",
    "        for i in trange(1, N):\n",
    "            context_i = torch.tensor(context[:i], dtype = torch.long, device=device).unsqueeze(0)\n",
    "            lookahead_entropies = get_lookahead_entropies(\n",
    "                model = model,\n",
    "                context = context_i[0],\n",
    "                batch_size = batch_size,\n",
    "                vocab_size = vocab_size,\n",
    "                device = device\n",
    "            )\n",
    "\n",
    "            inputs = {'input_ids': context_i}\n",
    "            outputs = model(**inputs)\n",
    "            next_logits = outputs[0][:, -1, :]\n",
    "            next_probs = F.softmax(next_logits, dim=-1)[0]\n",
    "    \n",
    "            # cache useful values\n",
    "            next_word = context[i]\n",
    "            Pr[i-1] = next_probs[next_word]\n",
    "            H[i-1] = lookahead_entropies[next_word]\n",
    "            S[i-1] = torch.dot(next_probs, torch.exp(lookahead_entropies))\n",
    "\n",
    "    def CEL(a):\n",
    "        Za = S * torch.exp(-a)\n",
    "        return torch.sum(Pr * torch.exp(-a * H) / Za)\n",
    "    \n",
    "    init_CEL()\n",
    "    loss = CEL(alpha)\n",
    "    loss.backward()\n",
    "    \n",
    "    lastloss = loss.clone().item()\n",
    "    for i in range(iters):\n",
    "        optimizer.step()\n",
    "        loss = CEL(alpha)\n",
    "        \n",
    "        # print(loss)\n",
    "        # print(lastloss)\n",
    "        \n",
    "        if i % 10000 == 9999:    \n",
    "            print(f'Loss at iter {i}: {loss}. Alpha: {alpha}.')\n",
    "        \n",
    "        if loss.item() - lastloss > 0:\n",
    "            print(f'Stopping at iteration {i}. Alpha: {alpha}.')\n",
    "            break\n",
    "        \n",
    "        lastloss = loss.clone().item()\n",
    "         \n",
    "    return alpha"
   ]
  },
  {
   "cell_type": "code",
   "execution_count": null,
   "metadata": {},
   "outputs": [],
   "source": [
    "alpha = calibrate(\n",
    "    model=model, \n",
    "    context=context_tokens, \n",
    "    batch_size=128, \n",
    "    vocab_size=vocab_size,\n",
    "    iters=100000,\n",
    "    device=device)"
   ]
  },
  {
   "cell_type": "code",
   "execution_count": 12,
   "metadata": {},
   "outputs": [
    {
     "data": {
      "text/plain": [
       "tensor([1.4898], requires_grad=True)"
      ]
     },
     "execution_count": 12,
     "metadata": {},
     "output_type": "execute_result"
    }
   ],
   "source": [
    "alpha"
   ]
  },
  {
   "cell_type": "code",
   "execution_count": null,
   "metadata": {},
   "outputs": [],
   "source": []
  }
 ],
 "metadata": {
  "kernelspec": {
   "display_name": "Python 3",
   "language": "python",
   "name": "python3"
  },
  "language_info": {
   "codemirror_mode": {
    "name": "ipython",
    "version": 3
   },
   "file_extension": ".py",
   "mimetype": "text/x-python",
   "name": "python",
   "nbconvert_exporter": "python",
   "pygments_lexer": "ipython3",
   "version": "3.7.3"
  }
 },
 "nbformat": 4,
 "nbformat_minor": 2
}
