{
 "cells": [
  {
   "cell_type": "code",
   "execution_count": 2,
   "metadata": {},
   "outputs": [
    {
     "name": "stderr",
     "output_type": "stream",
     "text": [
      "To use data.metrics please install scikit-learn. See https://scikit-learn.org/stable/index.html\n"
     ]
    }
   ],
   "source": [
    "# %matplotlib inline\n",
    "\n",
    "import os\n",
    "import sys\n",
    "sys.path.append('../examples')\n",
    "\n",
    "import torch\n",
    "import torch.nn.functional as F\n",
    "import numpy as np\n",
    "\n",
    "from transformers import GPT2LMHeadModel, GPT2Tokenizer, GPT2Config\n",
    "\n",
    "import generate_with_calibration as gencal\n",
    "# import calibrate as cal"
   ]
  },
  {
   "cell_type": "code",
   "execution_count": 3,
   "metadata": {},
   "outputs": [],
   "source": [
    "def set_seed(seed=42, n_gpu=0):\n",
    "    np.random.seed(seed)\n",
    "    torch.manual_seed(seed)\n",
    "    if n_gpu > 0:\n",
    "        torch.cuda.manual_seed_all(args.seed)"
   ]
  },
  {
   "cell_type": "code",
   "execution_count": 5,
   "metadata": {},
   "outputs": [
    {
     "name": "stderr",
     "output_type": "stream",
     "text": [
      "11/22/2019 17:08:32 - INFO - transformers.tokenization_utils -   loading file https://s3.amazonaws.com/models.huggingface.co/bert/gpt2-vocab.json from cache at /home/michael/.cache/torch/transformers/f2808208f9bec2320371a9f5f891c184ae0b674ef866b79c58177067d15732dd.1512018be4ba4e8726e41b9145129dc30651ea4fec86aa61f4b9f40bf94eac71\n",
      "11/22/2019 17:08:32 - INFO - transformers.tokenization_utils -   loading file https://s3.amazonaws.com/models.huggingface.co/bert/gpt2-merges.txt from cache at /home/michael/.cache/torch/transformers/d629f792e430b3c76a1291bb2766b0a047e36fae0588f9dbc1ae51decdff691b.70bec105b4158ed9a1747fea67a43f5dee97855c64d62b6ec3742f4cfdb5feda\n",
      "11/22/2019 17:08:33 - INFO - transformers.configuration_utils -   loading configuration file https://s3.amazonaws.com/models.huggingface.co/bert/gpt2-config.json from cache at /home/michael/.cache/torch/transformers/4be02c5697d91738003fb1685c9872f284166aa32e061576bbe6aaeb95649fcf.085d5f6a8e7812ea05ff0e6ed0645ab2e75d80387ad55c1ad9806ee70d272f80\n",
      "11/22/2019 17:08:33 - INFO - transformers.configuration_utils -   Model config {\n",
      "  \"attn_pdrop\": 0.1,\n",
      "  \"embd_pdrop\": 0.1,\n",
      "  \"finetuning_task\": null,\n",
      "  \"initializer_range\": 0.02,\n",
      "  \"is_decoder\": false,\n",
      "  \"layer_norm_epsilon\": 1e-05,\n",
      "  \"n_ctx\": 1024,\n",
      "  \"n_embd\": 768,\n",
      "  \"n_head\": 12,\n",
      "  \"n_layer\": 12,\n",
      "  \"n_positions\": 1024,\n",
      "  \"num_labels\": 1,\n",
      "  \"output_attentions\": false,\n",
      "  \"output_hidden_states\": false,\n",
      "  \"output_past\": true,\n",
      "  \"pruned_heads\": {},\n",
      "  \"resid_pdrop\": 0.1,\n",
      "  \"summary_activation\": null,\n",
      "  \"summary_first_dropout\": 0.1,\n",
      "  \"summary_proj_to_labels\": true,\n",
      "  \"summary_type\": \"cls_index\",\n",
      "  \"summary_use_proj\": true,\n",
      "  \"torchscript\": false,\n",
      "  \"use_bfloat16\": false,\n",
      "  \"vocab_size\": 50257\n",
      "}\n",
      "\n",
      "11/22/2019 17:08:34 - INFO - transformers.modeling_utils -   loading weights file https://s3.amazonaws.com/models.huggingface.co/bert/gpt2-pytorch_model.bin from cache at /home/michael/.cache/torch/transformers/4295d67f022061768f4adc386234dbdb781c814c39662dd1662221c309962c55.778cf36f5c4e5d94c8cd9cefcf2a580c8643570eb327f0d4a1f007fab2acbdf1\n",
      "11/22/2019 17:08:38 - WARNING - transformers.tokenization_utils -   This tokenizer does not make use of special tokens. Input is returned with no modification.\n",
      "11/22/2019 17:08:38 - WARNING - transformers.tokenization_utils -   This tokenizer does not make use of special tokens. Input is returned with no modification.\n",
      "11/22/2019 17:08:38 - WARNING - transformers.tokenization_utils -   This tokenizer does not make use of special tokens.\n"
     ]
    },
    {
     "name": "stdout",
     "output_type": "stream",
     "text": [
      "VOCAB SIZE: 50257\n",
      "DEVICE: cpu\n",
      "N GPUS: 0\n"
     ]
    }
   ],
   "source": [
    "# setup cell \n",
    "\n",
    "device = torch.device(\"cuda\" if torch.cuda.is_available() else \"cpu\")\n",
    "n_gpus = torch.cuda.device_count()\n",
    "\n",
    "set_seed()\n",
    "tokenizer = GPT2Tokenizer.from_pretrained('gpt2')\n",
    "model = GPT2LMHeadModel.from_pretrained('gpt2')\n",
    "model.to(device)\n",
    "model.eval()\n",
    "\n",
    "MAX_LENGTH = int(10000)\n",
    "length = 100\n",
    "\n",
    "if length < 0 and model.config.max_position_embeddings > 0:\n",
    "    length = model.config.max_position_embeddings\n",
    "elif 0 < model.config.max_position_embeddings < length:\n",
    "    length = model.config.max_position_embeddings  # No generation bigger than model size \n",
    "elif length < 0:\n",
    "    length = MAX_LENGTH \n",
    "\n",
    "vocab_size = tokenizer.vocab_size\n",
    "raw_text = 'In a shocking finding, scientist discovered a herd of unicorns living in a remote, previously unexplored valley, in the Andes Mountains. Even more surprising to the researchers was the fact that the unicorns spoke perfect English.'\n",
    "context_tokens = tokenizer.encode(raw_text)\n",
    "# print(context_tokens)\n",
    "\n",
    "print(f'VOCAB SIZE: {vocab_size}')\n",
    "print(f'DEVICE: {device}')\n",
    "print(f'N GPUS: {n_gpus}')\n",
    "\n",
    "# variables set: model, vocab_size, length, device, n_gpus, context_tokens"
   ]
  },
  {
   "cell_type": "code",
   "execution_count": 6,
   "metadata": {},
   "outputs": [
    {
     "data": {
      "text/plain": [
       "[818,\n",
       " 257,\n",
       " 14702,\n",
       " 4917,\n",
       " 11,\n",
       " 11444,\n",
       " 5071,\n",
       " 257,\n",
       " 27638,\n",
       " 286,\n",
       " 28000,\n",
       " 19942,\n",
       " 2877,\n",
       " 287,\n",
       " 257,\n",
       " 6569,\n",
       " 11,\n",
       " 4271,\n",
       " 31286,\n",
       " 1850,\n",
       " 19272,\n",
       " 11,\n",
       " 287,\n",
       " 262,\n",
       " 843,\n",
       " 274,\n",
       " 21124,\n",
       " 13,\n",
       " 3412,\n",
       " 517,\n",
       " 6452,\n",
       " 284,\n",
       " 262,\n",
       " 4837,\n",
       " 373,\n",
       " 262,\n",
       " 1109,\n",
       " 326,\n",
       " 262,\n",
       " 28000,\n",
       " 19942,\n",
       " 5158,\n",
       " 2818,\n",
       " 3594,\n",
       " 13]"
      ]
     },
     "execution_count": 6,
     "metadata": {},
     "output_type": "execute_result"
    }
   ],
   "source": [
    "context_tokens"
   ]
  },
  {
   "cell_type": "code",
   "execution_count": null,
   "metadata": {},
   "outputs": [],
   "source": [
    "# alpha = cal.calibrate()"
   ]
  },
  {
   "cell_type": "code",
   "execution_count": null,
   "metadata": {},
   "outputs": [],
   "source": [
    "# TODO: adjust batch size param\n",
    "# TODO: implement calibration\n",
    "out, ents = gencal.sample_sequence_calibrated(\n",
    "    model = model,\n",
    "    context = context_tokens,\n",
    "    length = length,\n",
    "    batch_size = 256,\n",
    "    alpha = 0.01, # change this\n",
    "    device = device\n",
    "    )"
   ]
  }
 ],
 "metadata": {
  "kernelspec": {
   "display_name": "Python 3",
   "language": "python",
   "name": "python3"
  },
  "language_info": {
   "codemirror_mode": {
    "name": "ipython",
    "version": 3
   },
   "file_extension": ".py",
   "mimetype": "text/x-python",
   "name": "python",
   "nbconvert_exporter": "python",
   "pygments_lexer": "ipython3",
   "version": "3.7.4"
  }
 },
 "nbformat": 4,
 "nbformat_minor": 2
}
