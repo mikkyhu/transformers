{
 "cells": [
  {
   "cell_type": "code",
   "execution_count": 2,
   "metadata": {},
   "outputs": [
    {
     "name": "stderr",
     "output_type": "stream",
     "text": [
      "To use data.metrics please install scikit-learn. See https://scikit-learn.org/stable/index.html\n"
     ]
    }
   ],
   "source": [
    "# %matplotlib inline\n",
    "\n",
    "import os\n",
    "import sys\n",
    "sys.path.append('../examples')\n",
    "\n",
    "from tqdm import trange\n",
    "\n",
    "import torch\n",
    "import torch.nn.functional as F\n",
    "import torch.optim as optim\n",
    "import numpy as np\n",
    "\n",
    "from transformers import GPT2LMHeadModel, GPT2Tokenizer, GPT2Config\n",
    "\n",
    "from generate_with_calibration import get_lookahead_entropies, sample_sequence_calibrated"
   ]
  },
  {
   "cell_type": "code",
   "execution_count": 3,
   "metadata": {},
   "outputs": [],
   "source": [
    "def set_seed(seed=42, n_gpu=0):\n",
    "    np.random.seed(seed)\n",
    "    torch.manual_seed(seed)\n",
    "    if n_gpu > 0:\n",
    "        torch.cuda.manual_seed_all(args.seed)"
   ]
  },
  {
   "cell_type": "code",
   "execution_count": 4,
   "metadata": {},
   "outputs": [
    {
     "name": "stderr",
     "output_type": "stream",
     "text": [
      "11/29/2019 21:11:43 - INFO - transformers.tokenization_utils -   loading file https://s3.amazonaws.com/models.huggingface.co/bert/gpt2-vocab.json from cache at /u/myhu/.cache/torch/transformers/f2808208f9bec2320371a9f5f891c184ae0b674ef866b79c58177067d15732dd.1512018be4ba4e8726e41b9145129dc30651ea4fec86aa61f4b9f40bf94eac71\n",
      "11/29/2019 21:11:43 - INFO - transformers.tokenization_utils -   loading file https://s3.amazonaws.com/models.huggingface.co/bert/gpt2-merges.txt from cache at /u/myhu/.cache/torch/transformers/d629f792e430b3c76a1291bb2766b0a047e36fae0588f9dbc1ae51decdff691b.70bec105b4158ed9a1747fea67a43f5dee97855c64d62b6ec3742f4cfdb5feda\n",
      "11/29/2019 21:11:49 - INFO - transformers.configuration_utils -   loading configuration file https://s3.amazonaws.com/models.huggingface.co/bert/gpt2-config.json from cache at /u/myhu/.cache/torch/transformers/4be02c5697d91738003fb1685c9872f284166aa32e061576bbe6aaeb95649fcf.085d5f6a8e7812ea05ff0e6ed0645ab2e75d80387ad55c1ad9806ee70d272f80\n",
      "11/29/2019 21:11:49 - INFO - transformers.configuration_utils -   Model config {\n",
      "  \"attn_pdrop\": 0.1,\n",
      "  \"embd_pdrop\": 0.1,\n",
      "  \"finetuning_task\": null,\n",
      "  \"initializer_range\": 0.02,\n",
      "  \"is_decoder\": false,\n",
      "  \"layer_norm_epsilon\": 1e-05,\n",
      "  \"n_ctx\": 1024,\n",
      "  \"n_embd\": 768,\n",
      "  \"n_head\": 12,\n",
      "  \"n_layer\": 12,\n",
      "  \"n_positions\": 1024,\n",
      "  \"num_labels\": 1,\n",
      "  \"output_attentions\": false,\n",
      "  \"output_hidden_states\": false,\n",
      "  \"output_past\": true,\n",
      "  \"pruned_heads\": {},\n",
      "  \"resid_pdrop\": 0.1,\n",
      "  \"summary_activation\": null,\n",
      "  \"summary_first_dropout\": 0.1,\n",
      "  \"summary_proj_to_labels\": true,\n",
      "  \"summary_type\": \"cls_index\",\n",
      "  \"summary_use_proj\": true,\n",
      "  \"torchscript\": false,\n",
      "  \"use_bfloat16\": false,\n",
      "  \"vocab_size\": 50257\n",
      "}\n",
      "\n",
      "11/29/2019 21:11:49 - INFO - transformers.modeling_utils -   loading weights file https://s3.amazonaws.com/models.huggingface.co/bert/gpt2-pytorch_model.bin from cache at /u/myhu/.cache/torch/transformers/4295d67f022061768f4adc386234dbdb781c814c39662dd1662221c309962c55.778cf36f5c4e5d94c8cd9cefcf2a580c8643570eb327f0d4a1f007fab2acbdf1\n"
     ]
    },
    {
     "name": "stdout",
     "output_type": "stream",
     "text": [
      "VOCAB SIZE: 50257\n",
      "DEVICE: cuda\n",
      "N GPUS: 2\n"
     ]
    }
   ],
   "source": [
    "# setup cell \n",
    "\n",
    "device = torch.device(\"cuda\" if torch.cuda.is_available() else \"cpu\")\n",
    "n_gpus = torch.cuda.device_count()\n",
    "\n",
    "set_seed()\n",
    "tokenizer = GPT2Tokenizer.from_pretrained('gpt2')\n",
    "model = GPT2LMHeadModel.from_pretrained('gpt2')\n",
    "model.to(device)\n",
    "model.eval()\n",
    "\n",
    "MAX_LENGTH = int(10000)\n",
    "length = 100\n",
    "\n",
    "if length < 0 and model.config.max_position_embeddings > 0:\n",
    "    length = model.config.max_position_embeddings\n",
    "elif 0 < model.config.max_position_embeddings < length:\n",
    "    length = model.config.max_position_embeddings  # No generation bigger than model size \n",
    "elif length < 0:\n",
    "    length = MAX_LENGTH \n",
    "\n",
    "vocab_size = tokenizer.vocab_size\n",
    "\n",
    "print(f'VOCAB SIZE: {vocab_size}')\n",
    "print(f'DEVICE: {device}')\n",
    "print(f'N GPUS: {n_gpus}')\n",
    "\n",
    "# variables set: model, vocab_size, length, device, n_gpus, context_tokens"
   ]
  },
  {
   "cell_type": "code",
   "execution_count": 17,
   "metadata": {},
   "outputs": [
    {
     "name": "stderr",
     "output_type": "stream",
     "text": [
      "11/29/2019 21:46:05 - WARNING - transformers.tokenization_utils -   This tokenizer does not make use of special tokens. Input is returned with no modification.\n",
      "11/29/2019 21:46:05 - WARNING - transformers.tokenization_utils -   This tokenizer does not make use of special tokens. Input is returned with no modification.\n",
      "11/29/2019 21:46:05 - WARNING - transformers.tokenization_utils -   This tokenizer does not make use of special tokens.\n"
     ]
    }
   ],
   "source": [
    "# raw_text = 'In a shocking finding, scientist discovered a herd of unicorns living in a remote, previously unexplored valley, in the Andes Mountains. Even more surprising to the researchers was the fact that the unicorns spoke perfect English.'\n",
    "# raw_text = 'I like.'\n",
    "\n",
    "context_tokens = tokenizer.encode(raw_text)"
   ]
  },
  {
   "cell_type": "code",
   "execution_count": 18,
   "metadata": {},
   "outputs": [],
   "source": [
    "def calibrate(model, context, vocab_size, batch_size = 512, top_k=0, iters=100000,device='cpu'):\n",
    "    N = len(context)\n",
    "    Pr = torch.zeros(N-1)\n",
    "    H = torch.zeros(N-1)\n",
    "    S = torch.zeros(N-1)\n",
    "\n",
    "    alpha = torch.randn(1, requires_grad=True)\n",
    "    optimizer = optim.SGD([alpha], lr=0.001, momentum=0.9)\n",
    "\n",
    "    def init_CEL():\n",
    "        # TODO: missing 1st word\n",
    "        for i in trange(1, N):\n",
    "            context_i = torch.tensor(context[:i], dtype = torch.long, device=device).unsqueeze(0)\n",
    "            lookahead_entropies = get_lookahead_entropies(\n",
    "                model = model,\n",
    "                context = context_i[0],\n",
    "                batch_size = batch_size,\n",
    "                vocab_size = vocab_size,\n",
    "                device = device\n",
    "            )\n",
    "\n",
    "            inputs = {'input_ids': context_i}\n",
    "            outputs = model(**inputs)\n",
    "            next_logits = outputs[0][:, -1, :]\n",
    "            next_probs = F.softmax(next_logits, dim=-1)[0]\n",
    "    \n",
    "            # cache useful values\n",
    "            next_word = context[i]\n",
    "            Pr[i-1] = next_probs[next_word]\n",
    "            H[i-1] = lookahead_entropies[next_word]\n",
    "            S[i-1] = torch.dot(next_probs, torch.exp(lookahead_entropies))\n",
    "\n",
    "    def CEL(a):\n",
    "        Za = S * torch.exp(-a)\n",
    "        return torch.sum(Pr * torch.exp(-a * H) / Za)\n",
    "    \n",
    "    init_CEL()\n",
    "    loss = CEL(alpha)\n",
    "    loss.backward()\n",
    "    \n",
    "    lastloss = loss.clone().item()\n",
    "    for i in range(iters):\n",
    "        optimizer.step()\n",
    "        loss = CEL(alpha)\n",
    "        \n",
    "        # print(loss)\n",
    "        # print(lastloss)\n",
    "        \n",
    "        if i % 10000 == 9999:    \n",
    "            print(f'Loss at iter {i}: {loss}. Alpha: {alpha}.')\n",
    "        \n",
    "        if loss.item() - lastloss > 0:\n",
    "            print(f'Stopping at iteration {i}. Alpha: {alpha}.')\n",
    "            break\n",
    "        \n",
    "        lastloss = loss.clone().item()\n",
    "         \n",
    "    return alpha"
   ]
  },
  {
   "cell_type": "code",
   "execution_count": 19,
   "metadata": {},
   "outputs": [
    {
     "name": "stderr",
     "output_type": "stream",
     "text": [
      "100%|██████████| 44/44 [25:22<00:00, 60.79s/it]\n"
     ]
    },
    {
     "name": "stdout",
     "output_type": "stream",
     "text": [
      "Stopping at iteration 1862. Alpha: tensor([1.2687], requires_grad=True).\n"
     ]
    }
   ],
   "source": [
    "alpha = calibrate(\n",
    "    model=model, \n",
    "    context=context_tokens, \n",
    "    batch_size=128, \n",
    "    vocab_size=vocab_size,\n",
    "    iters=100000,\n",
    "    device=device)"
   ]
  },
  {
   "cell_type": "code",
   "execution_count": 12,
   "metadata": {},
   "outputs": [
    {
     "data": {
      "text/plain": [
       "tensor([1.4898], requires_grad=True)"
      ]
     },
     "execution_count": 12,
     "metadata": {},
     "output_type": "execute_result"
    }
   ],
   "source": [
    "alpha"
   ]
  },
  {
   "cell_type": "code",
   "execution_count": null,
   "metadata": {},
   "outputs": [],
   "source": []
  }
 ],
 "metadata": {
  "kernelspec": {
   "display_name": "Python 3",
   "language": "python",
   "name": "python3"
  },
  "language_info": {
   "codemirror_mode": {
    "name": "ipython",
    "version": 3
   },
   "file_extension": ".py",
   "mimetype": "text/x-python",
   "name": "python",
   "nbconvert_exporter": "python",
   "pygments_lexer": "ipython3",
   "version": "3.7.3"
  }
 },
 "nbformat": 4,
 "nbformat_minor": 2
}
