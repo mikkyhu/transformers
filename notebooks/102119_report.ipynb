{
 "cells": [
  {
   "cell_type": "markdown",
   "metadata": {},
   "source": [
    "Summary:"
   ]
  },
  {
   "cell_type": "code",
   "execution_count": 1,
   "metadata": {},
   "outputs": [],
   "source": [
    "%matplotlib inline\n",
    "\n",
    "import os\n",
    "import sys\n",
    "sys.path.append('../examples')\n",
    "\n",
    "import matplotlib.pyplot as plt\n",
    "import torch.nn.functional as F\n",
    "import numpy as np"
   ]
  },
  {
   "cell_type": "code",
   "execution_count": 3,
   "metadata": {},
   "outputs": [
    {
     "name": "stderr",
     "output_type": "stream",
     "text": [
      "To use data.metrics please install scikit-learn. See https://scikit-learn.org/stable/index.html\n"
     ]
    }
   ],
   "source": [
    "import gpt2_generate_with_calibration as gencal"
   ]
  },
  {
   "cell_type": "code",
   "execution_count": 41,
   "metadata": {},
   "outputs": [],
   "source": [
    "# what is defined as the center when you have an even number of rows or columns?\n",
    "\n",
    "def hungryRabbit(grid):\n",
    "    x = (len(grid[0]) - 1) // 2\n",
    "    y = (len(grid) - 1) // 2\n",
    "    \n",
    "    print(x, y)\n",
    "    \n",
    "    count = get(grid, x, y)\n",
    "    grid[y][x] = 0\n",
    "    \n",
    "    while True:\n",
    "        dx, dy = explore(grid, x, y)\n",
    "        if dx == 0 and dy == 0:\n",
    "            break\n",
    "        \n",
    "        x = x + dx\n",
    "        y = y + dy\n",
    "        \n",
    "        print(x, y)\n",
    "        \n",
    "        count += get(grid, x, y)\n",
    "        grid[y][x] = 0\n",
    "    \n",
    "    return count\n",
    "\n",
    "def explore(grid, x, y):\n",
    "    val = 0\n",
    "    dx = dy = 0\n",
    "    \n",
    "    newVal = get(grid, x + 1, y)\n",
    "    if newVal > val:\n",
    "        val = newVal\n",
    "        dx, dy = 1, 0\n",
    "    \n",
    "    newVal = get(grid, x - 1, y)\n",
    "    if newVal > val:\n",
    "        val = newVal\n",
    "        dx, dy = -1, 0\n",
    "\n",
    "    newVal = get(grid, x, y + 1)\n",
    "    if newVal > val:\n",
    "        val = newVal\n",
    "        dx, dy = 0, 1\n",
    "    \n",
    "    newVal = get(grid, x, y - 1)\n",
    "    if newVal > val:\n",
    "        val = newVal\n",
    "        dx, dy = 0, -1\n",
    "        \n",
    "    return dx, dy\n",
    "    \n",
    "\n",
    "def get(grid, x, y):\n",
    "    if x < 0 or y < 0:\n",
    "        return -1\n",
    "    try:\n",
    "        return grid[y][x]\n",
    "    except IndexError:\n",
    "        return -1"
   ]
  },
  {
   "cell_type": "code",
   "execution_count": 42,
   "metadata": {},
   "outputs": [],
   "source": [
    "grid = [[5, 7, 8, 6, 3],\n",
    "        [0, 0, 7, 0, 4],\n",
    "        [4, 6, 3, 4, 9],\n",
    "        [3, 1, 0, 5, 8]]"
   ]
  },
  {
   "cell_type": "code",
   "execution_count": 43,
   "metadata": {},
   "outputs": [
    {
     "name": "stdout",
     "output_type": "stream",
     "text": [
      "2 1\n",
      "2 0\n",
      "1 0\n",
      "0 0\n"
     ]
    },
    {
     "data": {
      "text/plain": [
       "27"
      ]
     },
     "execution_count": 43,
     "metadata": {},
     "output_type": "execute_result"
    }
   ],
   "source": [
    "hungryRabbit(grid)"
   ]
  },
  {
   "cell_type": "code",
   "execution_count": 38,
   "metadata": {},
   "outputs": [
    {
     "data": {
      "text/plain": [
       "-1"
      ]
     },
     "execution_count": 38,
     "metadata": {},
     "output_type": "execute_result"
    }
   ],
   "source": [
    "get(grid, -1, 2)"
   ]
  },
  {
   "cell_type": "code",
   "execution_count": 36,
   "metadata": {},
   "outputs": [
    {
     "ename": "IndexError",
     "evalue": "list index out of range",
     "output_type": "error",
     "traceback": [
      "\u001b[0;31m---------------------------------------------------------------------------\u001b[0m",
      "\u001b[0;31mIndexError\u001b[0m                                Traceback (most recent call last)",
      "\u001b[0;32m<ipython-input-36-b733e428c95f>\u001b[0m in \u001b[0;36m<module>\u001b[0;34m\u001b[0m\n\u001b[0;32m----> 1\u001b[0;31m \u001b[0mgrid\u001b[0m\u001b[0;34m[\u001b[0m\u001b[0;36m2\u001b[0m\u001b[0;34m]\u001b[0m\u001b[0;34m[\u001b[0m\u001b[0;36m5\u001b[0m\u001b[0;34m]\u001b[0m\u001b[0;34m\u001b[0m\u001b[0;34m\u001b[0m\u001b[0m\n\u001b[0m",
      "\u001b[0;31mIndexError\u001b[0m: list index out of range"
     ]
    }
   ],
   "source": []
  },
  {
   "cell_type": "code",
   "execution_count": null,
   "metadata": {},
   "outputs": [],
   "source": []
  }
 ],
 "metadata": {
  "kernelspec": {
   "display_name": "Python 3",
   "language": "python",
   "name": "python3"
  },
  "language_info": {
   "codemirror_mode": {
    "name": "ipython",
    "version": 3
   },
   "file_extension": ".py",
   "mimetype": "text/x-python",
   "name": "python",
   "nbconvert_exporter": "python",
   "pygments_lexer": "ipython3",
   "version": "3.7.4"
  }
 },
 "nbformat": 4,
 "nbformat_minor": 2
}
